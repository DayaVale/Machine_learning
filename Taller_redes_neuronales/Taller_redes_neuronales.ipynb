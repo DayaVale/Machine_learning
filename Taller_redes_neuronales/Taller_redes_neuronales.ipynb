{
  "cells": [
    {
      "cell_type": "markdown",
      "metadata": {
        "id": "MtJzIS1HeOsb"
      },
      "source": [
        "## Red neuronal para predicción de alquiler de bicicletas\n",
        "\n",
        "**Integrantes:**\n",
        "- Dayana Gonzalez Vargas\n",
        "- Juan Manuel Ramirez\n",
        "\n",
        "Construiremos una red neuronal, esta vez para un problema de regresión: predicción de la cantidad de bicicletas alquiladas, según el conjunto de datos *bikeshare_hour*, el cuál se proveerá. Adicionalmente, en esta ocasión encontraremos el mejor modelo usando un conjunto de validación.\n",
        "\n",
        "Cargar en formato .ipynb o .html en aulas a más tardar el día lunes 17 de marzo."
      ]
    },
    {
      "cell_type": "code",
      "execution_count": 1,
      "metadata": {
        "id": "kyuH3kGIVku9"
      },
      "outputs": [],
      "source": [
        "import numpy as np\n",
        "import pandas as pd\n",
        "import matplotlib.pyplot as plt\n",
        "\n",
        "from sklearn.model_selection import train_test_split\n",
        "\n",
        "import torch\n",
        "import torch.nn as nn\n",
        "import torch.nn.functional as F\n",
        "import torch.utils.data \n",
        "from torch.utils.data import DataLoader\n",
        "from torch.utils.data import TensorDataset"
      ]
    },
    {
      "cell_type": "markdown",
      "metadata": {
        "id": "EdmFWlr2eN2E"
      },
      "source": [
        "### Cargar y preparar los datos\n",
        "\n",
        "Un paso muy importante en redes neuronales es preparar correctamente los datos. Variables con diferentes escalas le dificulta a la red aprender eficientemente los pesos correctos. \n"
      ]
    },
    {
      "cell_type": "code",
      "execution_count": 2,
      "metadata": {
        "id": "KooB2GeojdYl",
        "outputId": "c1725f43-1ac7-401f-aaf9-d5fba761ab13",
        "colab": {
          "base_uri": "https://localhost:8080/",
          "height": 206
        }
      },
      "outputs": [
        {
          "output_type": "execute_result",
          "data": {
            "text/plain": [
              "   instant      dteday  season  yr  mnth  hr  holiday  weekday  workingday  \\\n",
              "0        1  2011-01-01       1   0     1   0        0        6           0   \n",
              "1        2  2011-01-01       1   0     1   1        0        6           0   \n",
              "2        3  2011-01-01       1   0     1   2        0        6           0   \n",
              "3        4  2011-01-01       1   0     1   3        0        6           0   \n",
              "4        5  2011-01-01       1   0     1   4        0        6           0   \n",
              "\n",
              "   weathersit  temp   atemp   hum  windspeed  casual  registered  cnt  \n",
              "0           1  0.24  0.2879  0.81        0.0       3          13   16  \n",
              "1           1  0.22  0.2727  0.80        0.0       8          32   40  \n",
              "2           1  0.22  0.2727  0.80        0.0       5          27   32  \n",
              "3           1  0.24  0.2879  0.75        0.0       3          10   13  \n",
              "4           1  0.24  0.2879  0.75        0.0       0           1    1  "
            ],
            "text/html": [
              "\n",
              "  <div id=\"df-f9367a3d-1160-4e51-8c57-595c99dd6262\">\n",
              "    <div class=\"colab-df-container\">\n",
              "      <div>\n",
              "<style scoped>\n",
              "    .dataframe tbody tr th:only-of-type {\n",
              "        vertical-align: middle;\n",
              "    }\n",
              "\n",
              "    .dataframe tbody tr th {\n",
              "        vertical-align: top;\n",
              "    }\n",
              "\n",
              "    .dataframe thead th {\n",
              "        text-align: right;\n",
              "    }\n",
              "</style>\n",
              "<table border=\"1\" class=\"dataframe\">\n",
              "  <thead>\n",
              "    <tr style=\"text-align: right;\">\n",
              "      <th></th>\n",
              "      <th>instant</th>\n",
              "      <th>dteday</th>\n",
              "      <th>season</th>\n",
              "      <th>yr</th>\n",
              "      <th>mnth</th>\n",
              "      <th>hr</th>\n",
              "      <th>holiday</th>\n",
              "      <th>weekday</th>\n",
              "      <th>workingday</th>\n",
              "      <th>weathersit</th>\n",
              "      <th>temp</th>\n",
              "      <th>atemp</th>\n",
              "      <th>hum</th>\n",
              "      <th>windspeed</th>\n",
              "      <th>casual</th>\n",
              "      <th>registered</th>\n",
              "      <th>cnt</th>\n",
              "    </tr>\n",
              "  </thead>\n",
              "  <tbody>\n",
              "    <tr>\n",
              "      <th>0</th>\n",
              "      <td>1</td>\n",
              "      <td>2011-01-01</td>\n",
              "      <td>1</td>\n",
              "      <td>0</td>\n",
              "      <td>1</td>\n",
              "      <td>0</td>\n",
              "      <td>0</td>\n",
              "      <td>6</td>\n",
              "      <td>0</td>\n",
              "      <td>1</td>\n",
              "      <td>0.24</td>\n",
              "      <td>0.2879</td>\n",
              "      <td>0.81</td>\n",
              "      <td>0.0</td>\n",
              "      <td>3</td>\n",
              "      <td>13</td>\n",
              "      <td>16</td>\n",
              "    </tr>\n",
              "    <tr>\n",
              "      <th>1</th>\n",
              "      <td>2</td>\n",
              "      <td>2011-01-01</td>\n",
              "      <td>1</td>\n",
              "      <td>0</td>\n",
              "      <td>1</td>\n",
              "      <td>1</td>\n",
              "      <td>0</td>\n",
              "      <td>6</td>\n",
              "      <td>0</td>\n",
              "      <td>1</td>\n",
              "      <td>0.22</td>\n",
              "      <td>0.2727</td>\n",
              "      <td>0.80</td>\n",
              "      <td>0.0</td>\n",
              "      <td>8</td>\n",
              "      <td>32</td>\n",
              "      <td>40</td>\n",
              "    </tr>\n",
              "    <tr>\n",
              "      <th>2</th>\n",
              "      <td>3</td>\n",
              "      <td>2011-01-01</td>\n",
              "      <td>1</td>\n",
              "      <td>0</td>\n",
              "      <td>1</td>\n",
              "      <td>2</td>\n",
              "      <td>0</td>\n",
              "      <td>6</td>\n",
              "      <td>0</td>\n",
              "      <td>1</td>\n",
              "      <td>0.22</td>\n",
              "      <td>0.2727</td>\n",
              "      <td>0.80</td>\n",
              "      <td>0.0</td>\n",
              "      <td>5</td>\n",
              "      <td>27</td>\n",
              "      <td>32</td>\n",
              "    </tr>\n",
              "    <tr>\n",
              "      <th>3</th>\n",
              "      <td>4</td>\n",
              "      <td>2011-01-01</td>\n",
              "      <td>1</td>\n",
              "      <td>0</td>\n",
              "      <td>1</td>\n",
              "      <td>3</td>\n",
              "      <td>0</td>\n",
              "      <td>6</td>\n",
              "      <td>0</td>\n",
              "      <td>1</td>\n",
              "      <td>0.24</td>\n",
              "      <td>0.2879</td>\n",
              "      <td>0.75</td>\n",
              "      <td>0.0</td>\n",
              "      <td>3</td>\n",
              "      <td>10</td>\n",
              "      <td>13</td>\n",
              "    </tr>\n",
              "    <tr>\n",
              "      <th>4</th>\n",
              "      <td>5</td>\n",
              "      <td>2011-01-01</td>\n",
              "      <td>1</td>\n",
              "      <td>0</td>\n",
              "      <td>1</td>\n",
              "      <td>4</td>\n",
              "      <td>0</td>\n",
              "      <td>6</td>\n",
              "      <td>0</td>\n",
              "      <td>1</td>\n",
              "      <td>0.24</td>\n",
              "      <td>0.2879</td>\n",
              "      <td>0.75</td>\n",
              "      <td>0.0</td>\n",
              "      <td>0</td>\n",
              "      <td>1</td>\n",
              "      <td>1</td>\n",
              "    </tr>\n",
              "  </tbody>\n",
              "</table>\n",
              "</div>\n",
              "      <button class=\"colab-df-convert\" onclick=\"convertToInteractive('df-f9367a3d-1160-4e51-8c57-595c99dd6262')\"\n",
              "              title=\"Convert this dataframe to an interactive table.\"\n",
              "              style=\"display:none;\">\n",
              "        \n",
              "  <svg xmlns=\"http://www.w3.org/2000/svg\" height=\"24px\"viewBox=\"0 0 24 24\"\n",
              "       width=\"24px\">\n",
              "    <path d=\"M0 0h24v24H0V0z\" fill=\"none\"/>\n",
              "    <path d=\"M18.56 5.44l.94 2.06.94-2.06 2.06-.94-2.06-.94-.94-2.06-.94 2.06-2.06.94zm-11 1L8.5 8.5l.94-2.06 2.06-.94-2.06-.94L8.5 2.5l-.94 2.06-2.06.94zm10 10l.94 2.06.94-2.06 2.06-.94-2.06-.94-.94-2.06-.94 2.06-2.06.94z\"/><path d=\"M17.41 7.96l-1.37-1.37c-.4-.4-.92-.59-1.43-.59-.52 0-1.04.2-1.43.59L10.3 9.45l-7.72 7.72c-.78.78-.78 2.05 0 2.83L4 21.41c.39.39.9.59 1.41.59.51 0 1.02-.2 1.41-.59l7.78-7.78 2.81-2.81c.8-.78.8-2.07 0-2.86zM5.41 20L4 18.59l7.72-7.72 1.47 1.35L5.41 20z\"/>\n",
              "  </svg>\n",
              "      </button>\n",
              "      \n",
              "  <style>\n",
              "    .colab-df-container {\n",
              "      display:flex;\n",
              "      flex-wrap:wrap;\n",
              "      gap: 12px;\n",
              "    }\n",
              "\n",
              "    .colab-df-convert {\n",
              "      background-color: #E8F0FE;\n",
              "      border: none;\n",
              "      border-radius: 50%;\n",
              "      cursor: pointer;\n",
              "      display: none;\n",
              "      fill: #1967D2;\n",
              "      height: 32px;\n",
              "      padding: 0 0 0 0;\n",
              "      width: 32px;\n",
              "    }\n",
              "\n",
              "    .colab-df-convert:hover {\n",
              "      background-color: #E2EBFA;\n",
              "      box-shadow: 0px 1px 2px rgba(60, 64, 67, 0.3), 0px 1px 3px 1px rgba(60, 64, 67, 0.15);\n",
              "      fill: #174EA6;\n",
              "    }\n",
              "\n",
              "    [theme=dark] .colab-df-convert {\n",
              "      background-color: #3B4455;\n",
              "      fill: #D2E3FC;\n",
              "    }\n",
              "\n",
              "    [theme=dark] .colab-df-convert:hover {\n",
              "      background-color: #434B5C;\n",
              "      box-shadow: 0px 1px 3px 1px rgba(0, 0, 0, 0.15);\n",
              "      filter: drop-shadow(0px 1px 2px rgba(0, 0, 0, 0.3));\n",
              "      fill: #FFFFFF;\n",
              "    }\n",
              "  </style>\n",
              "\n",
              "      <script>\n",
              "        const buttonEl =\n",
              "          document.querySelector('#df-f9367a3d-1160-4e51-8c57-595c99dd6262 button.colab-df-convert');\n",
              "        buttonEl.style.display =\n",
              "          google.colab.kernel.accessAllowed ? 'block' : 'none';\n",
              "\n",
              "        async function convertToInteractive(key) {\n",
              "          const element = document.querySelector('#df-f9367a3d-1160-4e51-8c57-595c99dd6262');\n",
              "          const dataTable =\n",
              "            await google.colab.kernel.invokeFunction('convertToInteractive',\n",
              "                                                     [key], {});\n",
              "          if (!dataTable) return;\n",
              "\n",
              "          const docLinkHtml = 'Like what you see? Visit the ' +\n",
              "            '<a target=\"_blank\" href=https://colab.research.google.com/notebooks/data_table.ipynb>data table notebook</a>'\n",
              "            + ' to learn more about interactive tables.';\n",
              "          element.innerHTML = '';\n",
              "          dataTable['output_type'] = 'display_data';\n",
              "          await google.colab.output.renderOutput(dataTable, element);\n",
              "          const docLink = document.createElement('div');\n",
              "          docLink.innerHTML = docLinkHtml;\n",
              "          element.appendChild(docLink);\n",
              "        }\n",
              "      </script>\n",
              "    </div>\n",
              "  </div>\n",
              "  "
            ]
          },
          "metadata": {},
          "execution_count": 2
        }
      ],
      "source": [
        "df=pd.read_csv('bikeshare_hour.csv')\n",
        "df.head()"
      ]
    },
    {
      "cell_type": "markdown",
      "metadata": {
        "id": "nJbJ0xUkj0Oq"
      },
      "source": [
        "Este dataset contiene el número de alquileres para cada hora de cada día desde Enero 1 de 2011 hasta Diciembre 31 de 2012. El número de usuarios que alquilaron se divide en regitrados *(registered)* y casuales *(casual)*, los cuales se suman en la columna *cnt*, la cuál será nuestra variable objetivo.\n",
        "\n",
        "\n",
        "Los fines de semana tienen un número más bajo de alquileres y hay picos cuando las personas se dirigen desde y hacia el trabajo durante la semana También tenemos información acerca de la temperatura, humedad, velocidad del viento, todas estas afectando el npumero de alquileres. Trataremos de capturar esta información con nuestro modelo.\n",
        "\n"
      ]
    },
    {
      "cell_type": "code",
      "execution_count": 3,
      "metadata": {
        "id": "hKOhx_hRmUek",
        "outputId": "8e5355af-a966-4556-9030-b656c08914b9",
        "colab": {
          "base_uri": "https://localhost:8080/",
          "height": 296
        }
      },
      "outputs": [
        {
          "output_type": "execute_result",
          "data": {
            "text/plain": [
              "<Axes: xlabel='dteday'>"
            ]
          },
          "metadata": {},
          "execution_count": 3
        },
        {
          "output_type": "display_data",
          "data": {
            "text/plain": [
              "<Figure size 432x288 with 1 Axes>"
            ],
            "image/png": "[encoded data removed]"
          },
          "metadata": {
            "needs_background": "light"
          }
        }
      ],
      "source": [
        "df[:24*10].plot(x='dteday', y='cnt')"
      ]
    },
    {
      "cell_type": "markdown",
      "metadata": {
        "id": "9FPYGLaqmVdj"
      },
      "source": [
        "Hay algunas variables categóricas: **season**, **weathersit**, **mnth**, **hr**, **weekday**. Nevesitamos crear variables dummy para éstas. \n",
        "\n",
        "Así mismo, eliminaremos algunas variables que redundan o no aportan para el modelamiento el modelamiento: **instant**, **dteday**, **atemp**, **workingday**,**registered**, **casual** así como las **columnas originales de las variables que convertimos en dummies** si es necesario."
      ]
    },
    {
      "cell_type": "code",
      "execution_count": 4,
      "metadata": {
        "id": "ed69yMObKGcy",
        "outputId": "7aee2503-ccdb-4e87-f4d9-a45b09e26445",
        "colab": {
          "base_uri": "https://localhost:8080/"
        }
      },
      "outputs": [
        {
          "output_type": "stream",
          "name": "stdout",
          "text": [
            "<class 'pandas.core.frame.DataFrame'>\n",
            "RangeIndex: 17379 entries, 0 to 17378\n",
            "Data columns (total 17 columns):\n",
            " #   Column      Non-Null Count  Dtype  \n",
            "---  ------      --------------  -----  \n",
            " 0   instant     17379 non-null  int64  \n",
            " 1   dteday      17379 non-null  object \n",
            " 2   season      17379 non-null  int64  \n",
            " 3   yr          17379 non-null  int64  \n",
            " 4   mnth        17379 non-null  int64  \n",
            " 5   hr          17379 non-null  int64  \n",
            " 6   holiday     17379 non-null  int64  \n",
            " 7   weekday     17379 non-null  int64  \n",
            " 8   workingday  17379 non-null  int64  \n",
            " 9   weathersit  17379 non-null  int64  \n",
            " 10  temp        17379 non-null  float64\n",
            " 11  atemp       17379 non-null  float64\n",
            " 12  hum         17379 non-null  float64\n",
            " 13  windspeed   17379 non-null  float64\n",
            " 14  casual      17379 non-null  int64  \n",
            " 15  registered  17379 non-null  int64  \n",
            " 16  cnt         17379 non-null  int64  \n",
            "dtypes: float64(4), int64(12), object(1)\n",
            "memory usage: 2.3+ MB\n"
          ]
        }
      ],
      "source": [
        "df.info()"
      ]
    },
    {
      "cell_type": "code",
      "execution_count": 5,
      "metadata": {
        "id": "e0ntD89XKGcy"
      },
      "outputs": [],
      "source": [
        "df['season'] = df['season'].astype('category')\n",
        "df['hr'] = df['hr'].astype('category')\n",
        "df['weathersit'] = df['weathersit'].astype('category')\n",
        "df['weekday'] = df['weekday'].astype('category')\n",
        "df['mnth'] = df['mnth'].astype('category')"
      ]
    },
    {
      "cell_type": "code",
      "execution_count": 6,
      "metadata": {
        "id": "nNl0uDVTmsqr",
        "outputId": "969e87b3-9bee-4193-a0b9-5387d86cc41e",
        "colab": {
          "base_uri": "https://localhost:8080/",
          "height": 299
        }
      },
      "outputs": [
        {
          "output_type": "execute_result",
          "data": {
            "text/plain": [
              "   yr  holiday  temp   hum  windspeed  cnt  season_2  season_3  season_4  \\\n",
              "0   0        0  0.24  0.81        0.0   16         0         0         0   \n",
              "1   0        0  0.22  0.80        0.0   40         0         0         0   \n",
              "2   0        0  0.22  0.80        0.0   32         0         0         0   \n",
              "3   0        0  0.24  0.75        0.0   13         0         0         0   \n",
              "4   0        0  0.24  0.75        0.0    1         0         0         0   \n",
              "\n",
              "   mnth_2  ...  hr_23  weekday_1  weekday_2  weekday_3  weekday_4  weekday_5  \\\n",
              "0       0  ...      0          0          0          0          0          0   \n",
              "1       0  ...      0          0          0          0          0          0   \n",
              "2       0  ...      0          0          0          0          0          0   \n",
              "3       0  ...      0          0          0          0          0          0   \n",
              "4       0  ...      0          0          0          0          0          0   \n",
              "\n",
              "   weekday_6  weathersit_2  weathersit_3  weathersit_4  \n",
              "0          1             0             0             0  \n",
              "1          1             0             0             0  \n",
              "2          1             0             0             0  \n",
              "3          1             0             0             0  \n",
              "4          1             0             0             0  \n",
              "\n",
              "[5 rows x 52 columns]"
            ],
            "text/html": [
              "\n",
              "  <div id=\"df-4194c37e-65ea-4ba5-8d05-0ff0286a9241\">\n",
              "    <div class=\"colab-df-container\">\n",
              "      <div>\n",
              "<style scoped>\n",
              "    .dataframe tbody tr th:only-of-type {\n",
              "        vertical-align: middle;\n",
              "    }\n",
              "\n",
              "    .dataframe tbody tr th {\n",
              "        vertical-align: top;\n",
              "    }\n",
              "\n",
              "    .dataframe thead th {\n",
              "        text-align: right;\n",
              "    }\n",
              "</style>\n",
              "<table border=\"1\" class=\"dataframe\">\n",
              "  <thead>\n",
              "    <tr style=\"text-align: right;\">\n",
              "      <th></th>\n",
              "      <th>yr</th>\n",
              "      <th>holiday</th>\n",
              "      <th>temp</th>\n",
              "      <th>hum</th>\n",
              "      <th>windspeed</th>\n",
              "      <th>cnt</th>\n",
              "      <th>season_2</th>\n",
              "      <th>season_3</th>\n",
              "      <th>season_4</th>\n",
              "      <th>mnth_2</th>\n",
              "      <th>...</th>\n",
              "      <th>hr_23</th>\n",
              "      <th>weekday_1</th>\n",
              "      <th>weekday_2</th>\n",
              "      <th>weekday_3</th>\n",
              "      <th>weekday_4</th>\n",
              "      <th>weekday_5</th>\n",
              "      <th>weekday_6</th>\n",
              "      <th>weathersit_2</th>\n",
              "      <th>weathersit_3</th>\n",
              "      <th>weathersit_4</th>\n",
              "    </tr>\n",
              "  </thead>\n",
              "  <tbody>\n",
              "    <tr>\n",
              "      <th>0</th>\n",
              "      <td>0</td>\n",
              "      <td>0</td>\n",
              "      <td>0.24</td>\n",
              "      <td>0.81</td>\n",
              "      <td>0.0</td>\n",
              "      <td>16</td>\n",
              "      <td>0</td>\n",
              "      <td>0</td>\n",
              "      <td>0</td>\n",
              "      <td>0</td>\n",
              "      <td>...</td>\n",
              "      <td>0</td>\n",
              "      <td>0</td>\n",
              "      <td>0</td>\n",
              "      <td>0</td>\n",
              "      <td>0</td>\n",
              "      <td>0</td>\n",
              "      <td>1</td>\n",
              "      <td>0</td>\n",
              "      <td>0</td>\n",
              "      <td>0</td>\n",
              "    </tr>\n",
              "    <tr>\n",
              "      <th>1</th>\n",
              "      <td>0</td>\n",
              "      <td>0</td>\n",
              "      <td>0.22</td>\n",
              "      <td>0.80</td>\n",
              "      <td>0.0</td>\n",
              "      <td>40</td>\n",
              "      <td>0</td>\n",
              "      <td>0</td>\n",
              "      <td>0</td>\n",
              "      <td>0</td>\n",
              "      <td>...</td>\n",
              "      <td>0</td>\n",
              "      <td>0</td>\n",
              "      <td>0</td>\n",
              "      <td>0</td>\n",
              "      <td>0</td>\n",
              "      <td>0</td>\n",
              "      <td>1</td>\n",
              "      <td>0</td>\n",
              "      <td>0</td>\n",
              "      <td>0</td>\n",
              "    </tr>\n",
              "    <tr>\n",
              "      <th>2</th>\n",
              "      <td>0</td>\n",
              "      <td>0</td>\n",
              "      <td>0.22</td>\n",
              "      <td>0.80</td>\n",
              "      <td>0.0</td>\n",
              "      <td>32</td>\n",
              "      <td>0</td>\n",
              "      <td>0</td>\n",
              "      <td>0</td>\n",
              "      <td>0</td>\n",
              "      <td>...</td>\n",
              "      <td>0</td>\n",
              "      <td>0</td>\n",
              "      <td>0</td>\n",
              "      <td>0</td>\n",
              "      <td>0</td>\n",
              "      <td>0</td>\n",
              "      <td>1</td>\n",
              "      <td>0</td>\n",
              "      <td>0</td>\n",
              "      <td>0</td>\n",
              "    </tr>\n",
              "    <tr>\n",
              "      <th>3</th>\n",
              "      <td>0</td>\n",
              "      <td>0</td>\n",
              "      <td>0.24</td>\n",
              "      <td>0.75</td>\n",
              "      <td>0.0</td>\n",
              "      <td>13</td>\n",
              "      <td>0</td>\n",
              "      <td>0</td>\n",
              "      <td>0</td>\n",
              "      <td>0</td>\n",
              "      <td>...</td>\n",
              "      <td>0</td>\n",
              "      <td>0</td>\n",
              "      <td>0</td>\n",
              "      <td>0</td>\n",
              "      <td>0</td>\n",
              "      <td>0</td>\n",
              "      <td>1</td>\n",
              "      <td>0</td>\n",
              "      <td>0</td>\n",
              "      <td>0</td>\n",
              "    </tr>\n",
              "    <tr>\n",
              "      <th>4</th>\n",
              "      <td>0</td>\n",
              "      <td>0</td>\n",
              "      <td>0.24</td>\n",
              "      <td>0.75</td>\n",
              "      <td>0.0</td>\n",
              "      <td>1</td>\n",
              "      <td>0</td>\n",
              "      <td>0</td>\n",
              "      <td>0</td>\n",
              "      <td>0</td>\n",
              "      <td>...</td>\n",
              "      <td>0</td>\n",
              "      <td>0</td>\n",
              "      <td>0</td>\n",
              "      <td>0</td>\n",
              "      <td>0</td>\n",
              "      <td>0</td>\n",
              "      <td>1</td>\n",
              "      <td>0</td>\n",
              "      <td>0</td>\n",
              "      <td>0</td>\n",
              "    </tr>\n",
              "  </tbody>\n",
              "</table>\n",
              "<p>5 rows × 52 columns</p>\n",
              "</div>\n",
              "      <button class=\"colab-df-convert\" onclick=\"convertToInteractive('df-4194c37e-65ea-4ba5-8d05-0ff0286a9241')\"\n",
              "              title=\"Convert this dataframe to an interactive table.\"\n",
              "              style=\"display:none;\">\n",
              "        \n",
              "  <svg xmlns=\"http://www.w3.org/2000/svg\" height=\"24px\"viewBox=\"0 0 24 24\"\n",
              "       width=\"24px\">\n",
              "    <path d=\"M0 0h24v24H0V0z\" fill=\"none\"/>\n",
              "    <path d=\"M18.56 5.44l.94 2.06.94-2.06 2.06-.94-2.06-.94-.94-2.06-.94 2.06-2.06.94zm-11 1L8.5 8.5l.94-2.06 2.06-.94-2.06-.94L8.5 2.5l-.94 2.06-2.06.94zm10 10l.94 2.06.94-2.06 2.06-.94-2.06-.94-.94-2.06-.94 2.06-2.06.94z\"/><path d=\"M17.41 7.96l-1.37-1.37c-.4-.4-.92-.59-1.43-.59-.52 0-1.04.2-1.43.59L10.3 9.45l-7.72 7.72c-.78.78-.78 2.05 0 2.83L4 21.41c.39.39.9.59 1.41.59.51 0 1.02-.2 1.41-.59l7.78-7.78 2.81-2.81c.8-.78.8-2.07 0-2.86zM5.41 20L4 18.59l7.72-7.72 1.47 1.35L5.41 20z\"/>\n",
              "  </svg>\n",
              "      </button>\n",
              "      \n",
              "  <style>\n",
              "    .colab-df-container {\n",
              "      display:flex;\n",
              "      flex-wrap:wrap;\n",
              "      gap: 12px;\n",
              "    }\n",
              "\n",
              "    .colab-df-convert {\n",
              "      background-color: #E8F0FE;\n",
              "      border: none;\n",
              "      border-radius: 50%;\n",
              "      cursor: pointer;\n",
              "      display: none;\n",
              "      fill: #1967D2;\n",
              "      height: 32px;\n",
              "      padding: 0 0 0 0;\n",
              "      width: 32px;\n",
              "    }\n",
              "\n",
              "    .colab-df-convert:hover {\n",
              "      background-color: #E2EBFA;\n",
              "      box-shadow: 0px 1px 2px rgba(60, 64, 67, 0.3), 0px 1px 3px 1px rgba(60, 64, 67, 0.15);\n",
              "      fill: #174EA6;\n",
              "    }\n",
              "\n",
              "    [theme=dark] .colab-df-convert {\n",
              "      background-color: #3B4455;\n",
              "      fill: #D2E3FC;\n",
              "    }\n",
              "\n",
              "    [theme=dark] .colab-df-convert:hover {\n",
              "      background-color: #434B5C;\n",
              "      box-shadow: 0px 1px 3px 1px rgba(0, 0, 0, 0.15);\n",
              "      filter: drop-shadow(0px 1px 2px rgba(0, 0, 0, 0.3));\n",
              "      fill: #FFFFFF;\n",
              "    }\n",
              "  </style>\n",
              "\n",
              "      <script>\n",
              "        const buttonEl =\n",
              "          document.querySelector('#df-4194c37e-65ea-4ba5-8d05-0ff0286a9241 button.colab-df-convert');\n",
              "        buttonEl.style.display =\n",
              "          google.colab.kernel.accessAllowed ? 'block' : 'none';\n",
              "\n",
              "        async function convertToInteractive(key) {\n",
              "          const element = document.querySelector('#df-4194c37e-65ea-4ba5-8d05-0ff0286a9241');\n",
              "          const dataTable =\n",
              "            await google.colab.kernel.invokeFunction('convertToInteractive',\n",
              "                                                     [key], {});\n",
              "          if (!dataTable) return;\n",
              "\n",
              "          const docLinkHtml = 'Like what you see? Visit the ' +\n",
              "            '<a target=\"_blank\" href=https://colab.research.google.com/notebooks/data_table.ipynb>data table notebook</a>'\n",
              "            + ' to learn more about interactive tables.';\n",
              "          element.innerHTML = '';\n",
              "          dataTable['output_type'] = 'display_data';\n",
              "          await google.colab.output.renderOutput(dataTable, element);\n",
              "          const docLink = document.createElement('div');\n",
              "          docLink.innerHTML = docLinkHtml;\n",
              "          element.appendChild(docLink);\n",
              "        }\n",
              "      </script>\n",
              "    </div>\n",
              "  </div>\n",
              "  "
            ]
          },
          "metadata": {},
          "execution_count": 6
        }
      ],
      "source": [
        "# TO_DO1 Crear las variables dummies indicadas, y eliminar los atributos indicados\n",
        "df = df.drop(columns = [ 'instant', 'dteday', 'atemp', 'workingday','registered', 'casual'])\n",
        "\n",
        "df = pd.get_dummies(df, drop_first = True)\n",
        "df.head()"
      ]
    },
    {
      "cell_type": "markdown",
      "metadata": {
        "id": "P9lXcUDhoI4x"
      },
      "source": [
        "#### Cambiar la escala en variables cuantitativas (normalizar).\n",
        "Para que el entrenamiento sea más fácil, estandarizaremos los datos de las variables contínuas, de manera que tengan media 0 y desviación estandar 1. \n",
        "\n",
        "Para esto, en las columnas de variables contínuas usamos la media y desviación estandar de la respectiva columna\n",
        "\n",
        "$$col:=\\frac{col-mean}{standardeviation}$$ "
      ]
    },
    {
      "cell_type": "code",
      "execution_count": 7,
      "metadata": {
        "id": "-R8AjJzJoBGJ",
        "outputId": "62fe4f1b-ccbc-4e25-d7f3-24fa534817f3",
        "colab": {
          "base_uri": "https://localhost:8080/",
          "height": 299
        }
      },
      "outputs": [
        {
          "output_type": "execute_result",
          "data": {
            "text/plain": [
              "   yr  holiday      temp       hum  windspeed       cnt  season_2  season_3  \\\n",
              "0   0        0 -1.334609  0.947345  -1.553844 -0.956312         0         0   \n",
              "1   0        0 -1.438475  0.895513  -1.553844 -0.823998         0         0   \n",
              "2   0        0 -1.438475  0.895513  -1.553844 -0.868103         0         0   \n",
              "3   0        0 -1.334609  0.636351  -1.553844 -0.972851         0         0   \n",
              "4   0        0 -1.334609  0.636351  -1.553844 -1.039008         0         0   \n",
              "\n",
              "   season_4  mnth_2  ...  hr_23  weekday_1  weekday_2  weekday_3  weekday_4  \\\n",
              "0         0       0  ...      0          0          0          0          0   \n",
              "1         0       0  ...      0          0          0          0          0   \n",
              "2         0       0  ...      0          0          0          0          0   \n",
              "3         0       0  ...      0          0          0          0          0   \n",
              "4         0       0  ...      0          0          0          0          0   \n",
              "\n",
              "   weekday_5  weekday_6  weathersit_2  weathersit_3  weathersit_4  \n",
              "0          0          1             0             0             0  \n",
              "1          0          1             0             0             0  \n",
              "2          0          1             0             0             0  \n",
              "3          0          1             0             0             0  \n",
              "4          0          1             0             0             0  \n",
              "\n",
              "[5 rows x 52 columns]"
            ],
            "text/html": [
              "\n",
              "  <div id=\"df-55ba727b-ef76-4384-b954-55cadb470868\">\n",
              "    <div class=\"colab-df-container\">\n",
              "      <div>\n",
              "<style scoped>\n",
              "    .dataframe tbody tr th:only-of-type {\n",
              "        vertical-align: middle;\n",
              "    }\n",
              "\n",
              "    .dataframe tbody tr th {\n",
              "        vertical-align: top;\n",
              "    }\n",
              "\n",
              "    .dataframe thead th {\n",
              "        text-align: right;\n",
              "    }\n",
              "</style>\n",
              "<table border=\"1\" class=\"dataframe\">\n",
              "  <thead>\n",
              "    <tr style=\"text-align: right;\">\n",
              "      <th></th>\n",
              "      <th>yr</th>\n",
              "      <th>holiday</th>\n",
              "      <th>temp</th>\n",
              "      <th>hum</th>\n",
              "      <th>windspeed</th>\n",
              "      <th>cnt</th>\n",
              "      <th>season_2</th>\n",
              "      <th>season_3</th>\n",
              "      <th>season_4</th>\n",
              "      <th>mnth_2</th>\n",
              "      <th>...</th>\n",
              "      <th>hr_23</th>\n",
              "      <th>weekday_1</th>\n",
              "      <th>weekday_2</th>\n",
              "      <th>weekday_3</th>\n",
              "      <th>weekday_4</th>\n",
              "      <th>weekday_5</th>\n",
              "      <th>weekday_6</th>\n",
              "      <th>weathersit_2</th>\n",
              "      <th>weathersit_3</th>\n",
              "      <th>weathersit_4</th>\n",
              "    </tr>\n",
              "  </thead>\n",
              "  <tbody>\n",
              "    <tr>\n",
              "      <th>0</th>\n",
              "      <td>0</td>\n",
              "      <td>0</td>\n",
              "      <td>-1.334609</td>\n",
              "      <td>0.947345</td>\n",
              "      <td>-1.553844</td>\n",
              "      <td>-0.956312</td>\n",
              "      <td>0</td>\n",
              "      <td>0</td>\n",
              "      <td>0</td>\n",
              "      <td>0</td>\n",
              "      <td>...</td>\n",
              "      <td>0</td>\n",
              "      <td>0</td>\n",
              "      <td>0</td>\n",
              "      <td>0</td>\n",
              "      <td>0</td>\n",
              "      <td>0</td>\n",
              "      <td>1</td>\n",
              "      <td>0</td>\n",
              "      <td>0</td>\n",
              "      <td>0</td>\n",
              "    </tr>\n",
              "    <tr>\n",
              "      <th>1</th>\n",
              "      <td>0</td>\n",
              "      <td>0</td>\n",
              "      <td>-1.438475</td>\n",
              "      <td>0.895513</td>\n",
              "      <td>-1.553844</td>\n",
              "      <td>-0.823998</td>\n",
              "      <td>0</td>\n",
              "      <td>0</td>\n",
              "      <td>0</td>\n",
              "      <td>0</td>\n",
              "      <td>...</td>\n",
              "      <td>0</td>\n",
              "      <td>0</td>\n",
              "      <td>0</td>\n",
              "      <td>0</td>\n",
              "      <td>0</td>\n",
              "      <td>0</td>\n",
              "      <td>1</td>\n",
              "      <td>0</td>\n",
              "      <td>0</td>\n",
              "      <td>0</td>\n",
              "    </tr>\n",
              "    <tr>\n",
              "      <th>2</th>\n",
              "      <td>0</td>\n",
              "      <td>0</td>\n",
              "      <td>-1.438475</td>\n",
              "      <td>0.895513</td>\n",
              "      <td>-1.553844</td>\n",
              "      <td>-0.868103</td>\n",
              "      <td>0</td>\n",
              "      <td>0</td>\n",
              "      <td>0</td>\n",
              "      <td>0</td>\n",
              "      <td>...</td>\n",
              "      <td>0</td>\n",
              "      <td>0</td>\n",
              "      <td>0</td>\n",
              "      <td>0</td>\n",
              "      <td>0</td>\n",
              "      <td>0</td>\n",
              "      <td>1</td>\n",
              "      <td>0</td>\n",
              "      <td>0</td>\n",
              "      <td>0</td>\n",
              "    </tr>\n",
              "    <tr>\n",
              "      <th>3</th>\n",
              "      <td>0</td>\n",
              "      <td>0</td>\n",
              "      <td>-1.334609</td>\n",
              "      <td>0.636351</td>\n",
              "      <td>-1.553844</td>\n",
              "      <td>-0.972851</td>\n",
              "      <td>0</td>\n",
              "      <td>0</td>\n",
              "      <td>0</td>\n",
              "      <td>0</td>\n",
              "      <td>...</td>\n",
              "      <td>0</td>\n",
              "      <td>0</td>\n",
              "      <td>0</td>\n",
              "      <td>0</td>\n",
              "      <td>0</td>\n",
              "      <td>0</td>\n",
              "      <td>1</td>\n",
              "      <td>0</td>\n",
              "      <td>0</td>\n",
              "      <td>0</td>\n",
              "    </tr>\n",
              "    <tr>\n",
              "      <th>4</th>\n",
              "      <td>0</td>\n",
              "      <td>0</td>\n",
              "      <td>-1.334609</td>\n",
              "      <td>0.636351</td>\n",
              "      <td>-1.553844</td>\n",
              "      <td>-1.039008</td>\n",
              "      <td>0</td>\n",
              "      <td>0</td>\n",
              "      <td>0</td>\n",
              "      <td>0</td>\n",
              "      <td>...</td>\n",
              "      <td>0</td>\n",
              "      <td>0</td>\n",
              "      <td>0</td>\n",
              "      <td>0</td>\n",
              "      <td>0</td>\n",
              "      <td>0</td>\n",
              "      <td>1</td>\n",
              "      <td>0</td>\n",
              "      <td>0</td>\n",
              "      <td>0</td>\n",
              "    </tr>\n",
              "  </tbody>\n",
              "</table>\n",
              "<p>5 rows × 52 columns</p>\n",
              "</div>\n",
              "      <button class=\"colab-df-convert\" onclick=\"convertToInteractive('df-55ba727b-ef76-4384-b954-55cadb470868')\"\n",
              "              title=\"Convert this dataframe to an interactive table.\"\n",
              "              style=\"display:none;\">\n",
              "        \n",
              "  <svg xmlns=\"http://www.w3.org/2000/svg\" height=\"24px\"viewBox=\"0 0 24 24\"\n",
              "       width=\"24px\">\n",
              "    <path d=\"M0 0h24v24H0V0z\" fill=\"none\"/>\n",
              "    <path d=\"M18.56 5.44l.94 2.06.94-2.06 2.06-.94-2.06-.94-.94-2.06-.94 2.06-2.06.94zm-11 1L8.5 8.5l.94-2.06 2.06-.94-2.06-.94L8.5 2.5l-.94 2.06-2.06.94zm10 10l.94 2.06.94-2.06 2.06-.94-2.06-.94-.94-2.06-.94 2.06-2.06.94z\"/><path d=\"M17.41 7.96l-1.37-1.37c-.4-.4-.92-.59-1.43-.59-.52 0-1.04.2-1.43.59L10.3 9.45l-7.72 7.72c-.78.78-.78 2.05 0 2.83L4 21.41c.39.39.9.59 1.41.59.51 0 1.02-.2 1.41-.59l7.78-7.78 2.81-2.81c.8-.78.8-2.07 0-2.86zM5.41 20L4 18.59l7.72-7.72 1.47 1.35L5.41 20z\"/>\n",
              "  </svg>\n",
              "      </button>\n",
              "      \n",
              "  <style>\n",
              "    .colab-df-container {\n",
              "      display:flex;\n",
              "      flex-wrap:wrap;\n",
              "      gap: 12px;\n",
              "    }\n",
              "\n",
              "    .colab-df-convert {\n",
              "      background-color: #E8F0FE;\n",
              "      border: none;\n",
              "      border-radius: 50%;\n",
              "      cursor: pointer;\n",
              "      display: none;\n",
              "      fill: #1967D2;\n",
              "      height: 32px;\n",
              "      padding: 0 0 0 0;\n",
              "      width: 32px;\n",
              "    }\n",
              "\n",
              "    .colab-df-convert:hover {\n",
              "      background-color: #E2EBFA;\n",
              "      box-shadow: 0px 1px 2px rgba(60, 64, 67, 0.3), 0px 1px 3px 1px rgba(60, 64, 67, 0.15);\n",
              "      fill: #174EA6;\n",
              "    }\n",
              "\n",
              "    [theme=dark] .colab-df-convert {\n",
              "      background-color: #3B4455;\n",
              "      fill: #D2E3FC;\n",
              "    }\n",
              "\n",
              "    [theme=dark] .colab-df-convert:hover {\n",
              "      background-color: #434B5C;\n",
              "      box-shadow: 0px 1px 3px 1px rgba(0, 0, 0, 0.15);\n",
              "      filter: drop-shadow(0px 1px 2px rgba(0, 0, 0, 0.3));\n",
              "      fill: #FFFFFF;\n",
              "    }\n",
              "  </style>\n",
              "\n",
              "      <script>\n",
              "        const buttonEl =\n",
              "          document.querySelector('#df-55ba727b-ef76-4384-b954-55cadb470868 button.colab-df-convert');\n",
              "        buttonEl.style.display =\n",
              "          google.colab.kernel.accessAllowed ? 'block' : 'none';\n",
              "\n",
              "        async function convertToInteractive(key) {\n",
              "          const element = document.querySelector('#df-55ba727b-ef76-4384-b954-55cadb470868');\n",
              "          const dataTable =\n",
              "            await google.colab.kernel.invokeFunction('convertToInteractive',\n",
              "                                                     [key], {});\n",
              "          if (!dataTable) return;\n",
              "\n",
              "          const docLinkHtml = 'Like what you see? Visit the ' +\n",
              "            '<a target=\"_blank\" href=https://colab.research.google.com/notebooks/data_table.ipynb>data table notebook</a>'\n",
              "            + ' to learn more about interactive tables.';\n",
              "          element.innerHTML = '';\n",
              "          dataTable['output_type'] = 'display_data';\n",
              "          await google.colab.output.renderOutput(dataTable, element);\n",
              "          const docLink = document.createElement('div');\n",
              "          docLink.innerHTML = docLinkHtml;\n",
              "          element.appendChild(docLink);\n",
              "        }\n",
              "      </script>\n",
              "    </div>\n",
              "  </div>\n",
              "  "
            ]
          },
          "metadata": {},
          "execution_count": 7
        }
      ],
      "source": [
        "# TO_DO 2 Estandarizar las columnas cuantitativas: cnt, temp, hum, windspeed.\n",
        "target_mean = df['cnt'].mean()\n",
        "target_std = df['cnt'].std()\n",
        "df['cnt'] = (df['cnt'] - df['cnt'].mean()) / df['cnt'].std()\n",
        "df['temp'] = (df['temp'] - df['temp'].mean()) / df['temp'].std()\n",
        "df['hum'] = (df['hum'] - df['hum'].mean()) / df['hum'].std()\n",
        "df['windspeed'] = (df['windspeed'] - df['windspeed'].mean()) / df['windspeed'].std()\n",
        "\n",
        "df.head()"
      ]
    },
    {
      "cell_type": "markdown",
      "metadata": {
        "id": "_5mCaI9Armma"
      },
      "source": [
        "#### Crear conjuntos de entrenamiento, validación y test\n",
        "\n",
        "En esta ocasión seleccionaremos los conjuntos de entrenamiento, vlaidación y test de forma ordenada. Para el test, seleccionaer los datos de aproximadamente los últimos 21 días. Para el conjunto de validación, tomar los datos de aproximadamente los últimos 60 días de los datos restantes."
      ]
    },
    {
      "cell_type": "code",
      "execution_count": 8,
      "metadata": {
        "id": "UcA98WZnrlGv"
      },
      "outputs": [],
      "source": [
        "# TO_DO3 Definir los conjuntos de train, test y validation. Darles los nombres train, val, test.\n",
        "test = df[-24*21:]\n",
        "val = df[-84*21:-24*21]\n",
        "train = df[:-84*21]"
      ]
    },
    {
      "cell_type": "markdown",
      "metadata": {
        "id": "oe0XyxIFtS1U"
      },
      "source": [
        "#### Convertir los datos a tensores y prepararlos para alimentar la red\n",
        "A continuación  crearemos una clase (*MyDataset*) que nos prepara los datos para alimentar la red neuronal, convirtiendolos a parejas ordenadas de tensores conteniento los atributos y la variable objetivo. Sus parámetros son: el dataset df y el nombre de la columna objetivo en el dataset.\n"
      ]
    },
    {
      "cell_type": "code",
      "execution_count": 9,
      "metadata": {
        "id": "ovRt0NLytnF5"
      },
      "outputs": [],
      "source": [
        "class MyDataset():\n",
        " \n",
        "  def __init__(self,df,target_column):\n",
        "    #price_df=pd.read_csv(file_name)\n",
        " \n",
        "    #x=price_df.iloc[:,0:8].values\n",
        "    #y=price_df.iloc[:,8].values\n",
        "    # y_train = df_train['activity']\n",
        "    # X_train = \n",
        "    y=df[target_column].values\n",
        "    X=df.drop(target_column,axis=1).values\n",
        "    self.X=torch.tensor(X,dtype=torch.float32)\n",
        "    self.y=torch.tensor(y,dtype=torch.float32)\n",
        " \n",
        "  def __len__(self):\n",
        "    return len(self.y)\n",
        "   \n",
        "  def __getitem__(self,idx):\n",
        "    return self.X[idx],self.y[idx]"
      ]
    },
    {
      "cell_type": "markdown",
      "metadata": {
        "id": "CB1Wuh0yuTe_"
      },
      "source": [
        "Ahora usamos los Dataloaders para los conjuntos set, val y test."
      ]
    },
    {
      "cell_type": "code",
      "execution_count": 10,
      "metadata": {
        "id": "QZs4EuDTuVai"
      },
      "outputs": [],
      "source": [
        "# Usar la clase MyDataset para preparar cada conjunto en forma de tensores\n",
        "train_sec=MyDataset(train,'cnt')\n",
        "test_sec=MyDataset(test,'cnt')\n",
        "val_sec=MyDataset(val,'cnt')"
      ]
    },
    {
      "cell_type": "code",
      "execution_count": 11,
      "metadata": {
        "id": "yJjcOaN7ukXs"
      },
      "outputs": [],
      "source": [
        "# Definir los DataLoaders para cargar la información pro lotes\n",
        "train_data=DataLoader(\n",
        "    train_sec,\n",
        "    batch_size=1,\n",
        "    shuffle=False,\n",
        "    #num_workers=0,\n",
        "    #collate_fn=None,\n",
        "    #pin_memory=False,\n",
        " )\n",
        "\n",
        "test_data=DataLoader(\n",
        "    test_sec,\n",
        "    batch_size=3,\n",
        "    shuffle=False,\n",
        "    num_workers=0,\n",
        "    collate_fn=None,\n",
        "    pin_memory=False,\n",
        " )\n",
        "\n",
        "val_data=DataLoader(\n",
        "    val_sec,\n",
        "    batch_size=3,\n",
        "    shuffle=False,\n",
        "    num_workers=0,\n",
        "    collate_fn=None,\n",
        "    pin_memory=False,\n",
        " )"
      ]
    },
    {
      "cell_type": "markdown",
      "metadata": {
        "id": "OLnxN2WNvPxG"
      },
      "source": [
        "Vamos a imprimir el primer bath del Test Set para visualizar y entender, sus tamaños y cómo el Dataloader ingresan los datos a la red neuronal."
      ]
    },
    {
      "cell_type": "code",
      "execution_count": 12,
      "metadata": {
        "id": "YN3DMvb9umEU",
        "outputId": "f30aa4ee-4d88-4083-d242-f2eb040fc3e4",
        "colab": {
          "base_uri": "https://localhost:8080/"
        }
      },
      "outputs": [
        {
          "output_type": "stream",
          "name": "stdout",
          "text": [
            "torch.Size([3, 51]) torch.Size([3])\n",
            "tensor([[ 1.0000,  0.0000,  0.0156,  0.9992,  0.2763,  0.0000,  0.0000,  1.0000,\n",
            "          0.0000,  0.0000,  0.0000,  0.0000,  0.0000,  0.0000,  0.0000,  0.0000,\n",
            "          0.0000,  0.0000,  1.0000,  0.0000,  0.0000,  0.0000,  0.0000,  0.0000,\n",
            "          0.0000,  0.0000,  0.0000,  0.0000,  0.0000,  0.0000,  0.0000,  0.0000,\n",
            "          0.0000,  0.0000,  0.0000,  0.0000,  0.0000,  0.0000,  0.0000,  0.0000,\n",
            "          1.0000,  0.0000,  1.0000,  0.0000,  0.0000,  0.0000,  0.0000,  0.0000,\n",
            "          1.0000,  0.0000,  0.0000],\n",
            "        [ 1.0000,  0.0000, -0.1921,  1.3102,  0.5199,  0.0000,  0.0000,  1.0000,\n",
            "          0.0000,  0.0000,  0.0000,  0.0000,  0.0000,  0.0000,  0.0000,  0.0000,\n",
            "          0.0000,  0.0000,  1.0000,  0.0000,  0.0000,  0.0000,  0.0000,  0.0000,\n",
            "          0.0000,  0.0000,  0.0000,  0.0000,  0.0000,  0.0000,  0.0000,  0.0000,\n",
            "          0.0000,  0.0000,  0.0000,  0.0000,  0.0000,  0.0000,  0.0000,  0.0000,\n",
            "          0.0000,  1.0000,  1.0000,  0.0000,  0.0000,  0.0000,  0.0000,  0.0000,\n",
            "          0.0000,  0.0000,  0.0000],\n",
            "        [ 1.0000,  0.0000, -0.1921,  0.7400,  2.2282,  0.0000,  0.0000,  1.0000,\n",
            "          0.0000,  0.0000,  0.0000,  0.0000,  0.0000,  0.0000,  0.0000,  0.0000,\n",
            "          0.0000,  0.0000,  1.0000,  0.0000,  0.0000,  0.0000,  0.0000,  0.0000,\n",
            "          0.0000,  0.0000,  0.0000,  0.0000,  0.0000,  0.0000,  0.0000,  0.0000,\n",
            "          0.0000,  0.0000,  0.0000,  0.0000,  0.0000,  0.0000,  0.0000,  0.0000,\n",
            "          0.0000,  0.0000,  0.0000,  1.0000,  0.0000,  0.0000,  0.0000,  0.0000,\n",
            "          0.0000,  1.0000,  0.0000]]) tensor([-0.3499, -0.5814, -0.8736])\n"
          ]
        }
      ],
      "source": [
        "for i, (data, labels) in enumerate(test_data):\n",
        "  print(data.shape, labels.shape)\n",
        "  print(data,labels)\n",
        "  break;"
      ]
    },
    {
      "cell_type": "markdown",
      "metadata": {
        "id": "HbnK1f9asrEb"
      },
      "source": [
        "### Definir la classe Net con la estructura de la red neuronal\n",
        "\n",
        "Basándose en el taller pasado, construya una red neuronal que tenga las siguientes características: \n",
        "- Una sola capa oculta. Usted decida el número de nodos. (Puede hacer entrenamientos pequeños, con una sola epoch por ejemplo, para hacer pruebas y decidir un buen número de nodos. Entre más nodos aprenderá más características de los datos, pero tardará más. Busque un buen equilibrio).\n",
        "- Una función de activación signoide para la capa oculta.\n",
        "\n",
        "\n",
        "\n",
        "\n",
        "\n"
      ]
    },
    {
      "cell_type": "code",
      "execution_count": 13,
      "metadata": {
        "id": "u3Bru3KesqG_"
      },
      "outputs": [],
      "source": [
        "# TO_DO 4 Escribir el código para la arquitectura de la red neuonal.\n",
        "class Net(nn.Module):\n",
        "    def __init__(self):\n",
        "        super(Net, self).__init__()\n",
        "        self.fc1 = nn.Linear(51,100)\n",
        "        self.fc2 = nn.Linear(100,3)\n",
        "\n",
        "    def forward(self, x):\n",
        "        x = F.sigmoid(self.fc1(x))\n",
        "        x = self.fc2(x)\n",
        "        return x"
      ]
    },
    {
      "cell_type": "markdown",
      "metadata": {
        "id": "CzbRdjh-4r9I"
      },
      "source": [
        "Revisamos que estemos usando GPU y definimos el dispositivo "
      ]
    },
    {
      "cell_type": "code",
      "execution_count": 14,
      "metadata": {
        "id": "wndN09Ya4qtM",
        "outputId": "12ed5fc2-9179-4f74-c902-b0f99bc3787a",
        "colab": {
          "base_uri": "https://localhost:8080/"
        }
      },
      "outputs": [
        {
          "output_type": "stream",
          "name": "stdout",
          "text": [
            "Is the GPU available? False\n"
          ]
        }
      ],
      "source": [
        "gpu_avail = torch.cuda.is_available()\n",
        "print(f\"Is the GPU available? {gpu_avail}\")"
      ]
    },
    {
      "cell_type": "code",
      "execution_count": 15,
      "metadata": {
        "id": "rtN8nDig4oQX",
        "outputId": "2c0d1f31-15fb-40d9-db70-20f2e3244306",
        "colab": {
          "base_uri": "https://localhost:8080/"
        }
      },
      "outputs": [
        {
          "output_type": "stream",
          "name": "stdout",
          "text": [
            "Device cpu\n"
          ]
        }
      ],
      "source": [
        "device = torch.device(\"cuda\") if torch.cuda.is_available() else torch.device(\"cpu\")\n",
        "print(\"Device\", device)"
      ]
    },
    {
      "cell_type": "markdown",
      "metadata": {
        "id": "F5KvbK0L5BLY"
      },
      "source": [
        "Definimos el modelo, el optimizadoy y la función de costo."
      ]
    },
    {
      "cell_type": "code",
      "execution_count": 16,
      "metadata": {
        "id": "JUvzZYcs47NS"
      },
      "outputs": [],
      "source": [
        "model=Net()\n",
        "\n",
        "#TO_DO 5 Definir el optimizador Stochastic gradient descent y la función MeanSquareError. Usar Learnig rate de 0.1\n",
        "optimizer= torch.optim.SGD(model.parameters(), lr=0.1)\n",
        "criterion= nn.MSELoss()"
      ]
    },
    {
      "cell_type": "markdown",
      "metadata": {
        "id": "s68IiHxyADx-"
      },
      "source": [
        "### Entrenando la red y guardando el mejor modelo\n",
        "\n",
        "A continuación definimos la función de entrenamiento."
      ]
    },
    {
      "cell_type": "code",
      "execution_count": 17,
      "metadata": {
        "id": "Y_Z3BWIs6DXv"
      },
      "outputs": [],
      "source": [
        "#pasamos el modelo al dispositivo GPU\n",
        "model.to(device)\n",
        "def train_model(model,optimizer,loss_module,train_loader,valid_loader,num_epochs):\n",
        "  \n",
        "  valid_loss_min =np.inf  #Vamos a encontrar el menor valor de error de validación. Por eso la inicializmaos como 'infinito'\n",
        "  \n",
        "  for i in range(num_epochs):\n",
        "    model.train()  #ponemos el modelo en modo entrenamiento. Es importante en otras arquitecturas como redes convolucionales.\n",
        "    train_loss = 0.0\n",
        "    v_loss = 0.0\n",
        "\n",
        "    # TODO 6 Completar el código a continuación\n",
        "    for data, target in train_loader:\n",
        "        # mover los tensores de atributos y etiquetas al dispositivo GPU\n",
        "        data = data.to(device)\n",
        "        target = target.to(device)\n",
        "\n",
        "        # Reiniciar los gradientes\n",
        "        optimizer.zero_grad()\n",
        "\n",
        "        # forward pass: calcular la salida para los datos de entrada..\n",
        "        preds = model(data)\n",
        "        preds = preds.squeeze(dim=1)\n",
        "\n",
        "        # calculate the batch loss\n",
        "        loss = loss_module(preds, target)\n",
        "        \n",
        "        # backpropagation: cálculo de gradientes\n",
        "        loss.backward()\n",
        "   \n",
        "        # actualizar los parámetros\n",
        "        optimizer.step()\n",
        "\n",
        "        # actualizar la cuenta de costos a lo largo de los lotes\n",
        "        train_loss += loss.item()*data.size(0)\n",
        "    # for data,labels in testloader:\n",
        "\n",
        "    train_loss = train_loss/len(train_loader.dataset) \n",
        "\n",
        "    model.eval() #Ponemos el modelo en modo evaluación.\n",
        "\n",
        "\n",
        "\n",
        "\n",
        "    #for param in model.parameters():\n",
        "    #  print(param.data)\n",
        "    # vamos a evaluar el modelo entrenado, calculando predicciones con el conjunto de validación\n",
        "    for data,target in valid_loader:\n",
        "      data=data.to(device)\n",
        "      target=target.to(device)\n",
        "      output=model(data)\n",
        "      valid_loss= criterion(output, target)\n",
        "      valid_loss += loss.item()*data.size(0)\n",
        "    valid_loss = valid_loss/len(valid_loader.dataset)\n",
        "    \n",
        "    #imprimir estadísticas de entrenamiento y validación\n",
        "    print('Epoch: {} \\tTraining Loss: {:.6f} \\tValidation Loss: {:.6f}'.format(\n",
        "        i, train_loss, valid_loss))\n",
        "    \n",
        "\n",
        "    #Guardamos el modelo con el menor error de validación.\n",
        "    if valid_loss <= valid_loss_min:\n",
        "        print('Validation loss decreased ({:.6f} --> {:.6f}).  Saving model ...'.format(\n",
        "        valid_loss_min,\n",
        "        valid_loss))\n",
        "        torch.save(model.state_dict(), 'model_bikeshare.pt')\n",
        "        valid_loss_min = valid_loss\n",
        "\n",
        "\n"
      ]
    },
    {
      "cell_type": "markdown",
      "metadata": {
        "id": "nXpGJHcO8y4_"
      },
      "source": [
        "Ahora entrene el modelo. Intente primero con una sola epoch para verificar que el codigo esté correcto. Luego de eso prube con más epochs. Con un buen rato de tiempo disponible podría intentar 100, 500, las que más quiera intentar de acuerdo a como vea su desempeño."
      ]
    },
    {
      "cell_type": "code",
      "execution_count": 18,
      "metadata": {
        "id": "nG7EhC099Rsr",
        "outputId": "cb0e4f2e-ea05-4e17-9088-434a0a26058f",
        "colab": {
          "base_uri": "https://localhost:8080/"
        }
      },
      "outputs": [
        {
          "output_type": "stream",
          "name": "stderr",
          "text": [
            "/usr/local/lib/python3.9/dist-packages/torch/nn/functional.py:1967: UserWarning: nn.functional.sigmoid is deprecated. Use torch.sigmoid instead.\n",
            "  warnings.warn(\"nn.functional.sigmoid is deprecated. Use torch.sigmoid instead.\")\n",
            "/usr/local/lib/python3.9/dist-packages/torch/nn/modules/loss.py:536: UserWarning: Using a target size (torch.Size([1])) that is different to the input size (torch.Size([1, 3])). This will likely lead to incorrect results due to broadcasting. Please ensure they have the same size.\n",
            "  return F.mse_loss(input, target, reduction=self.reduction)\n",
            "/usr/local/lib/python3.9/dist-packages/torch/nn/modules/loss.py:536: UserWarning: Using a target size (torch.Size([3])) that is different to the input size (torch.Size([3, 3])). This will likely lead to incorrect results due to broadcasting. Please ensure they have the same size.\n",
            "  return F.mse_loss(input, target, reduction=self.reduction)\n"
          ]
        },
        {
          "output_type": "stream",
          "name": "stdout",
          "text": [
            "Epoch: 0 \tTraining Loss: 0.203400 \tValidation Loss: 0.000825\n",
            "Validation loss decreased (inf --> 0.000825).  Saving model ...\n",
            "Epoch: 1 \tTraining Loss: 0.101747 \tValidation Loss: 0.001114\n",
            "Epoch: 2 \tTraining Loss: 0.066200 \tValidation Loss: 0.000576\n",
            "Validation loss decreased (0.000825 --> 0.000576).  Saving model ...\n",
            "Epoch: 3 \tTraining Loss: 0.056899 \tValidation Loss: 0.000393\n",
            "Validation loss decreased (0.000576 --> 0.000393).  Saving model ...\n",
            "Epoch: 4 \tTraining Loss: 0.052274 \tValidation Loss: 0.000347\n",
            "Validation loss decreased (0.000393 --> 0.000347).  Saving model ...\n",
            "Epoch: 5 \tTraining Loss: 0.049971 \tValidation Loss: 0.000338\n",
            "Validation loss decreased (0.000347 --> 0.000338).  Saving model ...\n",
            "Epoch: 6 \tTraining Loss: 0.048482 \tValidation Loss: 0.000342\n",
            "Epoch: 7 \tTraining Loss: 0.047307 \tValidation Loss: 0.000353\n",
            "Epoch: 8 \tTraining Loss: 0.046307 \tValidation Loss: 0.000364\n",
            "Epoch: 9 \tTraining Loss: 0.045422 \tValidation Loss: 0.000373\n",
            "Epoch: 10 \tTraining Loss: 0.044605 \tValidation Loss: 0.000381\n",
            "Epoch: 11 \tTraining Loss: 0.043825 \tValidation Loss: 0.000391\n",
            "Epoch: 12 \tTraining Loss: 0.043121 \tValidation Loss: 0.000401\n",
            "Epoch: 13 \tTraining Loss: 0.042531 \tValidation Loss: 0.000410\n",
            "Epoch: 14 \tTraining Loss: 0.042042 \tValidation Loss: 0.000419\n",
            "Epoch: 15 \tTraining Loss: 0.041629 \tValidation Loss: 0.000425\n",
            "Epoch: 16 \tTraining Loss: 0.041272 \tValidation Loss: 0.000429\n",
            "Epoch: 17 \tTraining Loss: 0.040960 \tValidation Loss: 0.000431\n",
            "Epoch: 18 \tTraining Loss: 0.040686 \tValidation Loss: 0.000431\n",
            "Epoch: 19 \tTraining Loss: 0.040443 \tValidation Loss: 0.000430\n",
            "Epoch: 20 \tTraining Loss: 0.040227 \tValidation Loss: 0.000429\n",
            "Epoch: 21 \tTraining Loss: 0.040033 \tValidation Loss: 0.000428\n",
            "Epoch: 22 \tTraining Loss: 0.039857 \tValidation Loss: 0.000428\n",
            "Epoch: 23 \tTraining Loss: 0.039694 \tValidation Loss: 0.000428\n",
            "Epoch: 24 \tTraining Loss: 0.039541 \tValidation Loss: 0.000429\n",
            "Epoch: 25 \tTraining Loss: 0.039396 \tValidation Loss: 0.000431\n",
            "Epoch: 26 \tTraining Loss: 0.039257 \tValidation Loss: 0.000434\n",
            "Epoch: 27 \tTraining Loss: 0.039122 \tValidation Loss: 0.000438\n",
            "Epoch: 28 \tTraining Loss: 0.038989 \tValidation Loss: 0.000442\n",
            "Epoch: 29 \tTraining Loss: 0.038858 \tValidation Loss: 0.000446\n",
            "Epoch: 30 \tTraining Loss: 0.038727 \tValidation Loss: 0.000452\n",
            "Epoch: 31 \tTraining Loss: 0.038597 \tValidation Loss: 0.000457\n",
            "Epoch: 32 \tTraining Loss: 0.038467 \tValidation Loss: 0.000464\n",
            "Epoch: 33 \tTraining Loss: 0.038337 \tValidation Loss: 0.000472\n",
            "Epoch: 34 \tTraining Loss: 0.038207 \tValidation Loss: 0.000480\n",
            "Epoch: 35 \tTraining Loss: 0.038077 \tValidation Loss: 0.000489\n",
            "Epoch: 36 \tTraining Loss: 0.037945 \tValidation Loss: 0.000498\n",
            "Epoch: 37 \tTraining Loss: 0.037812 \tValidation Loss: 0.000509\n",
            "Epoch: 38 \tTraining Loss: 0.037676 \tValidation Loss: 0.000520\n",
            "Epoch: 39 \tTraining Loss: 0.037539 \tValidation Loss: 0.000531\n",
            "Epoch: 40 \tTraining Loss: 0.037399 \tValidation Loss: 0.000542\n",
            "Epoch: 41 \tTraining Loss: 0.037256 \tValidation Loss: 0.000553\n",
            "Epoch: 42 \tTraining Loss: 0.037112 \tValidation Loss: 0.000563\n",
            "Epoch: 43 \tTraining Loss: 0.036966 \tValidation Loss: 0.000573\n",
            "Epoch: 44 \tTraining Loss: 0.036819 \tValidation Loss: 0.000582\n",
            "Epoch: 45 \tTraining Loss: 0.036671 \tValidation Loss: 0.000591\n",
            "Epoch: 46 \tTraining Loss: 0.036524 \tValidation Loss: 0.000598\n",
            "Epoch: 47 \tTraining Loss: 0.036376 \tValidation Loss: 0.000605\n",
            "Epoch: 48 \tTraining Loss: 0.036230 \tValidation Loss: 0.000611\n",
            "Epoch: 49 \tTraining Loss: 0.036085 \tValidation Loss: 0.000616\n"
          ]
        }
      ],
      "source": [
        "train_model(model, optimizer,criterion,train_data,val_data,50)  #completar"
      ]
    },
    {
      "cell_type": "markdown",
      "metadata": {
        "id": "cZeVo9TJ9dTk"
      },
      "source": [
        "Cargamos el mejor modelo obtenido del entrenamiento. \n",
        "*Observación:* En el entrenamiento se guarda un modelo en un archivo .pt usted puede descargar el archivo y guardarlo localmente. De esta forma, si quiere usar el modelo nuevamente sin volver a realizar entrenamiento, sólo carguelo como se indica en la siguiente celda."
      ]
    },
    {
      "cell_type": "code",
      "execution_count": 19,
      "metadata": {
        "id": "V35GtM169Wdd",
        "outputId": "f8f8cfea-6374-423e-9455-66e48ba63fb3",
        "colab": {
          "base_uri": "https://localhost:8080/"
        }
      },
      "outputs": [
        {
          "output_type": "execute_result",
          "data": {
            "text/plain": [
              "<All keys matched successfully>"
            ]
          },
          "metadata": {},
          "execution_count": 19
        }
      ],
      "source": [
        "model.load_state_dict(torch.load('model_bikeshare.pt'))"
      ]
    },
    {
      "cell_type": "markdown",
      "metadata": {
        "id": "6yNPImH-9l3k"
      },
      "source": [
        "Visualizamos los parámetros del modelo obtenido anteriormente"
      ]
    },
    {
      "cell_type": "code",
      "execution_count": 20,
      "metadata": {
        "id": "G5f-4tqI9ldc",
        "outputId": "10ad03d0-4b04-4fb2-b1fc-f19c6d009804",
        "colab": {
          "base_uri": "https://localhost:8080/"
        }
      },
      "outputs": [
        {
          "output_type": "stream",
          "name": "stdout",
          "text": [
            "fc1.weight tensor([[-5.7113e-01, -5.3094e-02,  5.0531e-02,  ..., -2.9092e-01,\n",
            "         -1.0025e-01, -3.1596e-02],\n",
            "        [-5.7319e-01, -1.1050e-01, -4.6157e-04,  ..., -2.1518e-01,\n",
            "         -1.4673e-01, -5.1958e-02],\n",
            "        [-4.4390e-01, -4.4159e-02, -5.6439e-02,  ..., -1.5975e-01,\n",
            "          7.8937e-02, -2.6546e-02],\n",
            "        ...,\n",
            "        [-5.9579e-01, -1.4162e-01,  3.5138e-01,  ..., -4.2392e-01,\n",
            "         -3.1509e-01,  1.2864e-01],\n",
            "        [-3.0055e-01,  7.6688e-04, -9.5217e-02,  ..., -3.9996e-01,\n",
            "         -3.7782e-01,  1.6590e-02],\n",
            "        [-5.3215e-01,  4.8108e-02, -5.4606e-02,  ..., -2.9145e-01,\n",
            "         -2.6121e-01,  6.0568e-02]])\n",
            "fc1.bias tensor([-1.5678, -1.4243, -1.2455, -1.3939, -1.3009, -1.3813, -1.2655, -1.2687,\n",
            "        -1.4304, -1.3989, -2.0478, -1.4607, -1.2260, -0.9344, -1.5398, -1.3763,\n",
            "        -1.4636, -1.7391, -1.6030, -1.2238, -1.6678, -1.3384, -1.4145, -1.4778,\n",
            "        -1.5165, -1.0517, -1.2495, -1.2539, -1.3116, -1.7915, -1.3388, -1.4092,\n",
            "        -1.6464, -1.3229, -1.4421, -1.8392, -1.6696, -1.5961, -1.6456, -1.3652,\n",
            "        -1.4489, -1.3103, -1.3543, -1.2824, -1.3937, -1.4276, -1.4846, -1.3919,\n",
            "        -1.7096, -1.4159, -1.6508, -1.2344, -2.8620, -2.8216, -1.4893, -1.5342,\n",
            "        -1.3490, -1.1908, -1.3478, -1.5020, -1.9314, -1.6822, -1.4545, -1.3876,\n",
            "        -1.4829, -2.2083, -1.6181, -1.4240, -1.2872, -1.4062, -1.4201, -1.3088,\n",
            "        -7.9379, -1.4397, -1.4062, -2.5554, -1.2259, -1.2436, -1.3895, -1.2514,\n",
            "        -1.2666, -1.4478, -1.4104, -1.2610, -1.3014, -1.5532, -1.4117, -1.5159,\n",
            "        -1.3519, -2.1907, -1.8991, -1.4101, -1.5555, -1.5983, -1.7380, -1.3400,\n",
            "        -1.2331, -1.8151, -1.4105, -1.4301])\n",
            "fc2.weight tensor([[-6.3879e-02,  9.7766e-02, -1.6327e-01, -4.8069e-01, -2.1255e-01,\n",
            "          8.4999e-02, -1.5924e-01, -3.6304e-01, -1.2945e-01, -8.2221e-03,\n",
            "          1.9902e-01, -9.9168e-02, -2.0180e-01, -5.9042e-01,  1.0285e-01,\n",
            "         -9.0053e-03, -1.1743e-01,  2.1501e-01, -6.4760e-02, -1.9261e-01,\n",
            "         -2.1977e+00, -1.1524e-01, -7.8089e-02,  1.6699e-01,  2.8541e-01,\n",
            "         -5.4766e-01, -1.8981e-01, -3.0434e-01, -1.8001e-01, -1.0058e-01,\n",
            "         -1.6818e-02, -2.2827e-01,  7.8309e-03, -4.6813e-01, -4.9411e-02,\n",
            "          3.3074e-01,  1.8779e-01,  1.0117e-01,  2.1404e-01, -1.0034e-01,\n",
            "          2.1553e-01, -4.2657e-01, -1.6893e-01, -2.8251e-01, -1.0571e-01,\n",
            "         -8.1084e-02, -1.0577e-02, -9.9521e-02,  1.0780e+00, -1.2196e-02,\n",
            "         -1.0520e-01, -2.5521e-01, -1.5807e+00,  9.2369e-01, -8.1865e-02,\n",
            "          2.2674e-01, -2.8647e-01, -2.7336e-01, -1.4272e-01,  1.4733e-02,\n",
            "          1.2608e-01,  8.8474e-02,  9.9504e-02, -2.3942e-01,  1.0373e-01,\n",
            "          1.2347e+00,  5.8459e-02,  1.1767e-01, -2.9315e-01, -1.1165e-01,\n",
            "         -9.2420e-02, -1.6621e-01,  2.4975e+00,  5.9381e-02, -1.0079e-01,\n",
            "          6.9831e-01, -2.8308e-01, -1.8869e-01, -5.7296e-02, -1.9027e-01,\n",
            "         -1.7352e-01, -1.0861e-03,  3.2605e-02, -3.9776e-02, -3.9284e-02,\n",
            "         -8.8476e-02, -1.4624e-01,  9.6975e-02, -1.8430e-01,  1.2609e+00,\n",
            "         -8.0525e-01, -2.2072e-02, -2.4745e-01,  1.2612e-01,  2.5857e-03,\n",
            "         -4.3235e-01, -2.7696e-01,  8.1821e-02,  2.5457e-01, -1.5511e-02],\n",
            "        [-4.3513e-02, -6.4076e-02, -7.1961e-02, -5.4508e-01, -2.7296e-01,\n",
            "          1.4892e-02, -1.0711e-01, -3.6719e-01, -1.1454e-01, -1.6111e-01,\n",
            "          2.1928e-01, -1.4339e-01, -3.7759e-01, -6.0767e-01,  6.8277e-02,\n",
            "         -1.2034e-01, -6.2332e-02,  1.7602e-01, -1.5352e-02, -1.6622e-01,\n",
            "         -2.2073e+00, -2.0982e-01, -2.5906e-02,  1.3518e-01,  2.9256e-01,\n",
            "         -4.9242e-01, -1.5411e-01, -1.9365e-01, -2.2500e-01, -2.2398e-02,\n",
            "         -1.3291e-01, -6.9523e-02, -8.2017e-04, -4.3100e-01, -8.6775e-02,\n",
            "          3.5703e-01,  2.0325e-01,  1.8110e-01,  1.0199e-01, -1.0085e-01,\n",
            "          1.6290e-01, -4.4985e-01, -7.5790e-02, -2.4899e-01, -4.3012e-02,\n",
            "          1.3505e-02,  2.3725e-02, -9.8990e-02,  1.0833e+00, -9.9115e-02,\n",
            "         -9.4192e-03, -2.4178e-01, -1.5753e+00,  9.7782e-01, -1.2331e-01,\n",
            "          1.2812e-01, -2.1524e-01, -2.3101e-01, -5.6741e-02, -1.3128e-02,\n",
            "          5.4427e-03,  9.7751e-02,  1.8627e-01, -1.5039e-01,  4.7542e-02,\n",
            "          1.2314e+00, -8.7955e-03,  1.3026e-01, -2.4409e-01, -2.2176e-01,\n",
            "         -1.0045e-01, -1.2386e-01,  2.5028e+00,  9.1056e-02,  6.1773e-03,\n",
            "          6.1653e-01, -2.9699e-01, -1.6801e-01,  5.5444e-02, -2.7990e-01,\n",
            "         -1.4977e-01, -1.1759e-01,  9.6891e-02, -9.1909e-02, -1.1534e-01,\n",
            "         -1.5936e-01, -9.8022e-02,  1.5595e-01, -5.4754e-02,  1.2518e+00,\n",
            "         -8.0890e-01, -1.3914e-01, -3.3683e-01,  2.6113e-01,  1.1577e-02,\n",
            "         -3.3067e-01, -3.5220e-01,  1.4339e-01,  3.1156e-01,  5.2976e-02],\n",
            "        [-1.5224e-02, -1.2121e-02, -1.2615e-01, -5.2858e-01, -3.0959e-01,\n",
            "         -2.2740e-02, -2.2529e-01, -3.0399e-01, -9.8924e-02, -7.9231e-02,\n",
            "          2.4565e-01, -9.7041e-02, -2.6221e-01, -5.8351e-01,  1.6329e-01,\n",
            "         -5.2654e-02, -9.5038e-02,  1.7778e-01,  2.7782e-02, -2.7259e-02,\n",
            "         -2.2023e+00, -1.1205e-01, -7.8578e-02,  1.0220e-01,  2.1230e-01,\n",
            "         -5.2433e-01, -1.7302e-01, -2.1723e-01, -1.4423e-01,  7.4462e-04,\n",
            "         -8.8426e-03, -1.3513e-01, -1.2472e-01, -4.9258e-01,  2.7420e-02,\n",
            "          3.7044e-01,  1.5574e-01,  2.2245e-01,  1.2536e-01, -2.3711e-01,\n",
            "          2.4597e-01, -3.9667e-01, -2.1336e-01, -2.5525e-01, -1.5000e-01,\n",
            "         -4.4347e-02, -7.5909e-02, -8.5977e-02,  1.0772e+00, -2.2870e-02,\n",
            "         -1.2813e-01, -3.3148e-01, -1.5774e+00,  9.3464e-01, -6.0934e-02,\n",
            "          1.7034e-01, -2.0301e-01, -3.3592e-01, -1.8280e-01,  3.4705e-02,\n",
            "          1.2389e-01,  1.9954e-01,  9.6204e-02, -2.1857e-01,  1.9898e-01,\n",
            "          1.2034e+00, -4.2505e-02,  3.7111e-02, -1.1120e-01, -1.0246e-01,\n",
            "         -1.1511e-01, -8.7846e-02,  2.4987e+00,  1.3346e-01, -2.4293e-02,\n",
            "          6.7689e-01, -3.1524e-01, -1.2177e-01,  3.2672e-02, -2.0232e-01,\n",
            "         -7.6070e-02, -8.9516e-02, -2.5362e-02, -1.5035e-01, -1.2490e-01,\n",
            "         -1.3041e-01, -2.0216e-01,  8.1201e-02, -1.9214e-01,  1.2893e+00,\n",
            "         -8.1110e-01, -3.0592e-02, -2.0861e-01,  1.8425e-01, -6.6075e-02,\n",
            "         -4.1193e-01, -3.2544e-01,  7.2444e-02,  2.4094e-01, -6.2824e-03]])\n",
            "fc2.bias tensor([1.0891, 1.0715, 1.0920])\n"
          ]
        }
      ],
      "source": [
        "for name, param in model.named_parameters():\n",
        "    if param.requires_grad:\n",
        "        print (name, param.data)"
      ]
    },
    {
      "cell_type": "markdown",
      "metadata": {
        "id": "j4QIP9as9u7u"
      },
      "source": [
        "### Evaluación del modelo\n",
        "Ahora la prueba final con el test set. "
      ]
    },
    {
      "cell_type": "code",
      "execution_count": 21,
      "metadata": {
        "id": "kdELpZLp9uHp",
        "outputId": "17a0948e-391d-4054-8eba-5183519ce74c",
        "colab": {
          "base_uri": "https://localhost:8080/"
        }
      },
      "outputs": [
        {
          "output_type": "stream",
          "name": "stdout",
          "text": [
            "Test Loss: 0.510267\n",
            "\n"
          ]
        }
      ],
      "source": [
        "test_loss=0.0\n",
        "\n",
        "criterion= nn.MSELoss()\n",
        "for data, target in test_data:\n",
        "  data=data.to(device)\n",
        "  target=target.to(device)\n",
        "  output=model(data)\n",
        "  loss= criterion(output,target)\n",
        "  test_loss += loss.item()*data.size(0)\n",
        "test_loss = test_loss/len(test_data.dataset)\n",
        "print('Test Loss: {:.6f}\\n'.format(test_loss))\n"
      ]
    },
    {
      "cell_type": "markdown",
      "metadata": {
        "id": "7fppYxUZAWq_"
      },
      "source": [
        "### Usando el modelo en contexto"
      ]
    },
    {
      "cell_type": "markdown",
      "metadata": {
        "id": "zmSC3s4J96RC"
      },
      "source": [
        "TO_DO 7: Finalmente, utilice el modelo encontrado para predecir el número de bicicletas rentadas en tres momentos (fecha, hora y demás atributos) diferentes que usted elija (pueden ser tomados del test set o con unos atributos nuevos que usted elija). \n",
        "Comente por favor lo siguiente: \n",
        "- Escribr si son atributos que usted seleccionó del dataset o unos nuevos.\n",
        "- Describa cómo obtuvo el valor de la predicción y qué valor dió (tenga en cuenta que la salida está normalizada, pero queremos la cantidad de bicicletas).\n",
        "- Si son atributos seleccionados del test set, compare su resultado con la etiqueta original. ¿Qué tal se desempeñó en esos tres casos?"
      ]
    },
    {
      "cell_type": "code",
      "execution_count": 26,
      "metadata": {
        "id": "vYyGLkXw944m",
        "outputId": "940ca38f-89e2-43c9-9383-9b830f30103a",
        "colab": {
          "base_uri": "https://localhost:8080/",
          "height": 237
        }
      },
      "outputs": [
        {
          "output_type": "execute_result",
          "data": {
            "text/plain": [
              "       yr  holiday      temp       hum  windspeed       cnt  season_2  \\\n",
              "13963   1        0  1.054305  0.118028  -0.821460 -0.575911         0   \n",
              "8568    0        0 -1.334609 -1.125947   0.519881 -0.212049         0   \n",
              "7835    0        0 -0.295951  1.310171   0.276298 -1.016955         0   \n",
              "\n",
              "       season_3  season_4  mnth_2  ...  hr_23  weekday_1  weekday_2  \\\n",
              "13963         1         0       0  ...      0          0          0   \n",
              "8568          0         0       0  ...      0          0          0   \n",
              "7835          0         1       0  ...      0          1          0   \n",
              "\n",
              "       weekday_3  weekday_4  weekday_5  weekday_6  weathersit_2  weathersit_3  \\\n",
              "13963          0          0          1          0             0             0   \n",
              "8568           1          0          0          0             0             0   \n",
              "7835           0          0          0          0             0             0   \n",
              "\n",
              "       weathersit_4  \n",
              "13963             0  \n",
              "8568              0  \n",
              "7835              0  \n",
              "\n",
              "[3 rows x 52 columns]"
            ],
            "text/html": [
              "\n",
              "  <div id=\"df-5497426a-0571-43fa-8c76-14de17c48fcc\">\n",
              "    <div class=\"colab-df-container\">\n",
              "      <div>\n",
              "<style scoped>\n",
              "    .dataframe tbody tr th:only-of-type {\n",
              "        vertical-align: middle;\n",
              "    }\n",
              "\n",
              "    .dataframe tbody tr th {\n",
              "        vertical-align: top;\n",
              "    }\n",
              "\n",
              "    .dataframe thead th {\n",
              "        text-align: right;\n",
              "    }\n",
              "</style>\n",
              "<table border=\"1\" class=\"dataframe\">\n",
              "  <thead>\n",
              "    <tr style=\"text-align: right;\">\n",
              "      <th></th>\n",
              "      <th>yr</th>\n",
              "      <th>holiday</th>\n",
              "      <th>temp</th>\n",
              "      <th>hum</th>\n",
              "      <th>windspeed</th>\n",
              "      <th>cnt</th>\n",
              "      <th>season_2</th>\n",
              "      <th>season_3</th>\n",
              "      <th>season_4</th>\n",
              "      <th>mnth_2</th>\n",
              "      <th>...</th>\n",
              "      <th>hr_23</th>\n",
              "      <th>weekday_1</th>\n",
              "      <th>weekday_2</th>\n",
              "      <th>weekday_3</th>\n",
              "      <th>weekday_4</th>\n",
              "      <th>weekday_5</th>\n",
              "      <th>weekday_6</th>\n",
              "      <th>weathersit_2</th>\n",
              "      <th>weathersit_3</th>\n",
              "      <th>weathersit_4</th>\n",
              "    </tr>\n",
              "  </thead>\n",
              "  <tbody>\n",
              "    <tr>\n",
              "      <th>13963</th>\n",
              "      <td>1</td>\n",
              "      <td>0</td>\n",
              "      <td>1.054305</td>\n",
              "      <td>0.118028</td>\n",
              "      <td>-0.821460</td>\n",
              "      <td>-0.575911</td>\n",
              "      <td>0</td>\n",
              "      <td>1</td>\n",
              "      <td>0</td>\n",
              "      <td>0</td>\n",
              "      <td>...</td>\n",
              "      <td>0</td>\n",
              "      <td>0</td>\n",
              "      <td>0</td>\n",
              "      <td>0</td>\n",
              "      <td>0</td>\n",
              "      <td>1</td>\n",
              "      <td>0</td>\n",
              "      <td>0</td>\n",
              "      <td>0</td>\n",
              "      <td>0</td>\n",
              "    </tr>\n",
              "    <tr>\n",
              "      <th>8568</th>\n",
              "      <td>0</td>\n",
              "      <td>0</td>\n",
              "      <td>-1.334609</td>\n",
              "      <td>-1.125947</td>\n",
              "      <td>0.519881</td>\n",
              "      <td>-0.212049</td>\n",
              "      <td>0</td>\n",
              "      <td>0</td>\n",
              "      <td>0</td>\n",
              "      <td>0</td>\n",
              "      <td>...</td>\n",
              "      <td>0</td>\n",
              "      <td>0</td>\n",
              "      <td>0</td>\n",
              "      <td>1</td>\n",
              "      <td>0</td>\n",
              "      <td>0</td>\n",
              "      <td>0</td>\n",
              "      <td>0</td>\n",
              "      <td>0</td>\n",
              "      <td>0</td>\n",
              "    </tr>\n",
              "    <tr>\n",
              "      <th>7835</th>\n",
              "      <td>0</td>\n",
              "      <td>0</td>\n",
              "      <td>-0.295951</td>\n",
              "      <td>1.310171</td>\n",
              "      <td>0.276298</td>\n",
              "      <td>-1.016955</td>\n",
              "      <td>0</td>\n",
              "      <td>0</td>\n",
              "      <td>1</td>\n",
              "      <td>0</td>\n",
              "      <td>...</td>\n",
              "      <td>0</td>\n",
              "      <td>1</td>\n",
              "      <td>0</td>\n",
              "      <td>0</td>\n",
              "      <td>0</td>\n",
              "      <td>0</td>\n",
              "      <td>0</td>\n",
              "      <td>0</td>\n",
              "      <td>0</td>\n",
              "      <td>0</td>\n",
              "    </tr>\n",
              "  </tbody>\n",
              "</table>\n",
              "<p>3 rows × 52 columns</p>\n",
              "</div>\n",
              "      <button class=\"colab-df-convert\" onclick=\"convertToInteractive('df-5497426a-0571-43fa-8c76-14de17c48fcc')\"\n",
              "              title=\"Convert this dataframe to an interactive table.\"\n",
              "              style=\"display:none;\">\n",
              "        \n",
              "  <svg xmlns=\"http://www.w3.org/2000/svg\" height=\"24px\"viewBox=\"0 0 24 24\"\n",
              "       width=\"24px\">\n",
              "    <path d=\"M0 0h24v24H0V0z\" fill=\"none\"/>\n",
              "    <path d=\"M18.56 5.44l.94 2.06.94-2.06 2.06-.94-2.06-.94-.94-2.06-.94 2.06-2.06.94zm-11 1L8.5 8.5l.94-2.06 2.06-.94-2.06-.94L8.5 2.5l-.94 2.06-2.06.94zm10 10l.94 2.06.94-2.06 2.06-.94-2.06-.94-.94-2.06-.94 2.06-2.06.94z\"/><path d=\"M17.41 7.96l-1.37-1.37c-.4-.4-.92-.59-1.43-.59-.52 0-1.04.2-1.43.59L10.3 9.45l-7.72 7.72c-.78.78-.78 2.05 0 2.83L4 21.41c.39.39.9.59 1.41.59.51 0 1.02-.2 1.41-.59l7.78-7.78 2.81-2.81c.8-.78.8-2.07 0-2.86zM5.41 20L4 18.59l7.72-7.72 1.47 1.35L5.41 20z\"/>\n",
              "  </svg>\n",
              "      </button>\n",
              "      \n",
              "  <style>\n",
              "    .colab-df-container {\n",
              "      display:flex;\n",
              "      flex-wrap:wrap;\n",
              "      gap: 12px;\n",
              "    }\n",
              "\n",
              "    .colab-df-convert {\n",
              "      background-color: #E8F0FE;\n",
              "      border: none;\n",
              "      border-radius: 50%;\n",
              "      cursor: pointer;\n",
              "      display: none;\n",
              "      fill: #1967D2;\n",
              "      height: 32px;\n",
              "      padding: 0 0 0 0;\n",
              "      width: 32px;\n",
              "    }\n",
              "\n",
              "    .colab-df-convert:hover {\n",
              "      background-color: #E2EBFA;\n",
              "      box-shadow: 0px 1px 2px rgba(60, 64, 67, 0.3), 0px 1px 3px 1px rgba(60, 64, 67, 0.15);\n",
              "      fill: #174EA6;\n",
              "    }\n",
              "\n",
              "    [theme=dark] .colab-df-convert {\n",
              "      background-color: #3B4455;\n",
              "      fill: #D2E3FC;\n",
              "    }\n",
              "\n",
              "    [theme=dark] .colab-df-convert:hover {\n",
              "      background-color: #434B5C;\n",
              "      box-shadow: 0px 1px 3px 1px rgba(0, 0, 0, 0.15);\n",
              "      filter: drop-shadow(0px 1px 2px rgba(0, 0, 0, 0.3));\n",
              "      fill: #FFFFFF;\n",
              "    }\n",
              "  </style>\n",
              "\n",
              "      <script>\n",
              "        const buttonEl =\n",
              "          document.querySelector('#df-5497426a-0571-43fa-8c76-14de17c48fcc button.colab-df-convert');\n",
              "        buttonEl.style.display =\n",
              "          google.colab.kernel.accessAllowed ? 'block' : 'none';\n",
              "\n",
              "        async function convertToInteractive(key) {\n",
              "          const element = document.querySelector('#df-5497426a-0571-43fa-8c76-14de17c48fcc');\n",
              "          const dataTable =\n",
              "            await google.colab.kernel.invokeFunction('convertToInteractive',\n",
              "                                                     [key], {});\n",
              "          if (!dataTable) return;\n",
              "\n",
              "          const docLinkHtml = 'Like what you see? Visit the ' +\n",
              "            '<a target=\"_blank\" href=https://colab.research.google.com/notebooks/data_table.ipynb>data table notebook</a>'\n",
              "            + ' to learn more about interactive tables.';\n",
              "          element.innerHTML = '';\n",
              "          dataTable['output_type'] = 'display_data';\n",
              "          await google.colab.output.renderOutput(dataTable, element);\n",
              "          const docLink = document.createElement('div');\n",
              "          docLink.innerHTML = docLinkHtml;\n",
              "          element.appendChild(docLink);\n",
              "        }\n",
              "      </script>\n",
              "    </div>\n",
              "  </div>\n",
              "  "
            ]
          },
          "metadata": {},
          "execution_count": 26
        }
      ],
      "source": [
        "sample = df.sample(3)\n",
        "sample"
      ]
    },
    {
      "cell_type": "code",
      "execution_count": 27,
      "metadata": {
        "id": "fmRdr7c8KGc4",
        "outputId": "def1a98c-33e3-45ec-d3ee-34e86794508b",
        "colab": {
          "base_uri": "https://localhost:8080/"
        }
      },
      "outputs": [
        {
          "output_type": "stream",
          "name": "stdout",
          "text": [
            "tensor([[54.0405, 52.7868, 54.0532]], grad_fn=<AddBackward0>)\n",
            "13963     85.0\n",
            "8568     151.0\n",
            "7835       5.0\n",
            "Name: cnt, dtype: float64\n"
          ]
        },
        {
          "output_type": "stream",
          "name": "stderr",
          "text": [
            "/usr/local/lib/python3.9/dist-packages/torch/nn/functional.py:1967: UserWarning: nn.functional.sigmoid is deprecated. Use torch.sigmoid instead.\n",
            "  warnings.warn(\"nn.functional.sigmoid is deprecated. Use torch.sigmoid instead.\")\n"
          ]
        }
      ],
      "source": [
        "sample_sec=MyDataset(sample,'cnt')\n",
        "\n",
        "sample_data=DataLoader(\n",
        "    sample_sec,\n",
        "    batch_size=1,\n",
        "    shuffle=False,\n",
        "    num_workers=0,\n",
        "    collate_fn=None,\n",
        "    pin_memory=False,\n",
        " )\n",
        "\n",
        "criterion= nn.MSELoss()\n",
        "for data, target in sample_data:\n",
        "  data=data.to(device)\n",
        "  target=target.to(device)\n",
        "  output=model(data)\n",
        "\n",
        "print((output*target_std)+target_mean)\n",
        "print((sample['cnt']*target_std)+target_mean)"
      ]
    },
    {
      "cell_type": "markdown",
      "source": [
        "- Escribr si son atributos que usted seleccionó del dataset o unos nuevos.\n",
        "\n",
        "**R//** Los atributos son extraidos del dataset utilizando sample para aleatorizar la seleccion y minimizar la posibilidad de datos sesgados. Debido a esto, tomamos 3 muestras del dataset modificado y veremos si el modelo logra predeccir los valores."
      ],
      "metadata": {
        "id": "q0Hh18cYxChW"
      }
    },
    {
      "cell_type": "markdown",
      "source": [
        "\n",
        "- Describa cómo obtuvo el valor de la predicción y qué valor dió (tenga en cuenta que la salida está normalizada, pero queremos la cantidad de bicicletas).\n",
        "\n",
        "**R//** Para obtener el valor de la predicción se paso a el modelo y se cargaron los datos extraidos con un DataLoader, donde realizamos los procedimientos semejantes a los realizados para la evaluacion del modelo. Adicionalmente, se revirtio la normalizacion al multiplicar por la desviación y sumarle la media. De esto se obtuvieron los valores [54.0405, 52.7868, 54.0532].\n",
        "\n",
        "\n",
        "\n",
        "- Si son atributos seleccionados del test set, compare su resultado con la etiqueta original. ¿Qué tal se desempeñó en esos tres casos?\n",
        "\n",
        "\n",
        "**R//**Los valores 54.0405, 52.7868, 54.0532 fueron resultados de los datos objetivo 85.0, 151.0, 5.0 respectivamente. Los resultados son evidentemente sesgados y el modelo tiene poca varianza entre los resultados retornados pero una alta varianza ante cuales tres datos se le envien. Además, este resultado ya se estaba esperando debido la perdida que nos dio en la evalución del modelo era muy alta del 0.51. "
      ],
      "metadata": {
        "id": "mrZq9Q8XxOo_"
      }
    }
  ],
  "metadata": {
    "colab": {
      "provenance": []
    },
    "kernelspec": {
      "display_name": "Python 3 (ipykernel)",
      "language": "python",
      "name": "python3"
    },
    "language_info": {
      "codemirror_mode": {
        "name": "ipython",
        "version": 3
      },
      "file_extension": ".py",
      "mimetype": "text/x-python",
      "name": "python",
      "nbconvert_exporter": "python",
      "pygments_lexer": "ipython3",
      "version": "3.9.12"
    }
  },
  "nbformat": 4,
  "nbformat_minor": 0
}