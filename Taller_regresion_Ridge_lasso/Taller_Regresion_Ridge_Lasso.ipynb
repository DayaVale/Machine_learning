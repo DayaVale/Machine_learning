{
 "cells": [
  {
   "cell_type": "markdown",
   "metadata": {
    "id": "o5VUaJXwjAX4"
   },
   "source": [
    "# Taller 1: Regresión lineal, Ridge y Lasso\n",
    "**Nombres:** \n",
    "- Juan Manuel Ramirez\n",
    "- Dayana Gonzalez vargas"
   ]
  },
  {
   "cell_type": "markdown",
   "metadata": {
    "id": "ibE1PgK4IGiF"
   },
   "source": [
    "En este taller analizaremos métodos de regresión lineal para el conjunto de datos [Hitters](https://www.kaggle.com/datasets/floser/hitters). Cada registro corresponde a un jugador de baseball. Las variables son registros como cantidad de *home runs* o número de años en las ligas mayores. La variable objetivo es el salario de dicho jugador. \n",
    "Usaremos regresión de Ridge y Lasso y las compararemos. \n",
    "\n",
    "- El taller consiste en realizar todas las tareas señaladas con **TO_DO**. \n",
    "\n",
    "- Se puede realizar de forma individual o en parejas.\n",
    "\n",
    "- Subir el cuaderno en dos formatos : 1. En formato .ipynb  2. En formato .html.\n",
    "- Subirlo al aula a más tardar el miércoles 15 de ferbero.\n",
    "\n"
   ]
  },
  {
   "cell_type": "code",
   "execution_count": 1,
   "metadata": {
    "id": "mnPPGc-kv2gW"
   },
   "outputs": [],
   "source": [
    "#importar paquetes\n",
    "%matplotlib inline\n",
    "\n",
    "import pandas as pd\n",
    "import numpy as np\n",
    "import matplotlib.pyplot as plt\n",
    "from sklearn.preprocessing import scale \n",
    "from sklearn.model_selection import train_test_split\n",
    "from sklearn.linear_model import Ridge, RidgeCV, Lasso, LassoCV\n",
    "from sklearn.metrics import mean_squared_error\n",
    "from sklearn.linear_model import LinearRegression \n",
    "import random"
   ]
  },
  {
   "cell_type": "code",
   "execution_count": 2,
   "metadata": {
    "id": "XnKq_XsE24O0"
   },
   "outputs": [],
   "source": [
    "#Evitar la impresión de warnings\n",
    "import warnings\n",
    "warnings.filterwarnings(\"ignore\")"
   ]
  },
  {
   "cell_type": "markdown",
   "metadata": {
    "id": "4MnY7M1vkav9"
   },
   "source": [
    "En primer lugar, leemos el conjunto de datos e imprimimos la información sobre sus columnas."
   ]
  },
  {
   "cell_type": "code",
   "execution_count": 14,
   "metadata": {
    "id": "hn49Fea4sqPM"
   },
   "outputs": [
    {
     "name": "stdout",
     "output_type": "stream",
     "text": [
      "<class 'pandas.core.frame.DataFrame'>\n",
      "Int64Index: 263 entries, 1 to 321\n",
      "Data columns (total 20 columns):\n",
      " #   Column     Non-Null Count  Dtype  \n",
      "---  ------     --------------  -----  \n",
      " 0   AtBat      263 non-null    int64  \n",
      " 1   Hits       263 non-null    int64  \n",
      " 2   HmRun      263 non-null    int64  \n",
      " 3   Runs       263 non-null    int64  \n",
      " 4   RBI        263 non-null    int64  \n",
      " 5   Walks      263 non-null    int64  \n",
      " 6   Years      263 non-null    int64  \n",
      " 7   CAtBat     263 non-null    int64  \n",
      " 8   CHits      263 non-null    int64  \n",
      " 9   CHmRun     263 non-null    int64  \n",
      " 10  CRuns      263 non-null    int64  \n",
      " 11  CRBI       263 non-null    int64  \n",
      " 12  CWalks     263 non-null    int64  \n",
      " 13  League     263 non-null    object \n",
      " 14  Division   263 non-null    object \n",
      " 15  PutOuts    263 non-null    int64  \n",
      " 16  Assists    263 non-null    int64  \n",
      " 17  Errors     263 non-null    int64  \n",
      " 18  Salary     263 non-null    float64\n",
      " 19  NewLeague  263 non-null    object \n",
      "dtypes: float64(1), int64(16), object(3)\n",
      "memory usage: 43.1+ KB\n"
     ]
    }
   ],
   "source": [
    "df = pd.read_csv('Hitters.csv').dropna()\n",
    "df.info()"
   ]
  },
  {
   "cell_type": "code",
   "execution_count": 15,
   "metadata": {
    "id": "DFZ_n8uHnTNN"
   },
   "outputs": [],
   "source": [
    "#TO_DO 1: Codificar las 3 variables categóricas como variables Dummy (usar por ejemplo el\n",
    "#método get_dummies de Pandas). \n",
    "df = pd.get_dummies(df, ['League','Division','NewLeague'])\n",
    "#volver las variables categoricas a numero"
   ]
  },
  {
   "cell_type": "code",
   "execution_count": 16,
   "metadata": {
    "id": "3Lt_zZfLs78W"
   },
   "outputs": [
    {
     "data": {
      "text/html": [
       "<div>\n",
       "<style scoped>\n",
       "    .dataframe tbody tr th:only-of-type {\n",
       "        vertical-align: middle;\n",
       "    }\n",
       "\n",
       "    .dataframe tbody tr th {\n",
       "        vertical-align: top;\n",
       "    }\n",
       "\n",
       "    .dataframe thead th {\n",
       "        text-align: right;\n",
       "    }\n",
       "</style>\n",
       "<table border=\"1\" class=\"dataframe\">\n",
       "  <thead>\n",
       "    <tr style=\"text-align: right;\">\n",
       "      <th></th>\n",
       "      <th>AtBat</th>\n",
       "      <th>Hits</th>\n",
       "      <th>HmRun</th>\n",
       "      <th>Runs</th>\n",
       "      <th>RBI</th>\n",
       "      <th>Walks</th>\n",
       "      <th>Years</th>\n",
       "      <th>CAtBat</th>\n",
       "      <th>CHits</th>\n",
       "      <th>CHmRun</th>\n",
       "      <th>...</th>\n",
       "      <th>PutOuts</th>\n",
       "      <th>Assists</th>\n",
       "      <th>Errors</th>\n",
       "      <th>Salary</th>\n",
       "      <th>League_A</th>\n",
       "      <th>League_N</th>\n",
       "      <th>Division_E</th>\n",
       "      <th>Division_W</th>\n",
       "      <th>NewLeague_A</th>\n",
       "      <th>NewLeague_N</th>\n",
       "    </tr>\n",
       "  </thead>\n",
       "  <tbody>\n",
       "    <tr>\n",
       "      <th>1</th>\n",
       "      <td>315</td>\n",
       "      <td>81</td>\n",
       "      <td>7</td>\n",
       "      <td>24</td>\n",
       "      <td>38</td>\n",
       "      <td>39</td>\n",
       "      <td>14</td>\n",
       "      <td>3449</td>\n",
       "      <td>835</td>\n",
       "      <td>69</td>\n",
       "      <td>...</td>\n",
       "      <td>632</td>\n",
       "      <td>43</td>\n",
       "      <td>10</td>\n",
       "      <td>475.0</td>\n",
       "      <td>0</td>\n",
       "      <td>1</td>\n",
       "      <td>0</td>\n",
       "      <td>1</td>\n",
       "      <td>0</td>\n",
       "      <td>1</td>\n",
       "    </tr>\n",
       "    <tr>\n",
       "      <th>2</th>\n",
       "      <td>479</td>\n",
       "      <td>130</td>\n",
       "      <td>18</td>\n",
       "      <td>66</td>\n",
       "      <td>72</td>\n",
       "      <td>76</td>\n",
       "      <td>3</td>\n",
       "      <td>1624</td>\n",
       "      <td>457</td>\n",
       "      <td>63</td>\n",
       "      <td>...</td>\n",
       "      <td>880</td>\n",
       "      <td>82</td>\n",
       "      <td>14</td>\n",
       "      <td>480.0</td>\n",
       "      <td>1</td>\n",
       "      <td>0</td>\n",
       "      <td>0</td>\n",
       "      <td>1</td>\n",
       "      <td>1</td>\n",
       "      <td>0</td>\n",
       "    </tr>\n",
       "    <tr>\n",
       "      <th>3</th>\n",
       "      <td>496</td>\n",
       "      <td>141</td>\n",
       "      <td>20</td>\n",
       "      <td>65</td>\n",
       "      <td>78</td>\n",
       "      <td>37</td>\n",
       "      <td>11</td>\n",
       "      <td>5628</td>\n",
       "      <td>1575</td>\n",
       "      <td>225</td>\n",
       "      <td>...</td>\n",
       "      <td>200</td>\n",
       "      <td>11</td>\n",
       "      <td>3</td>\n",
       "      <td>500.0</td>\n",
       "      <td>0</td>\n",
       "      <td>1</td>\n",
       "      <td>1</td>\n",
       "      <td>0</td>\n",
       "      <td>0</td>\n",
       "      <td>1</td>\n",
       "    </tr>\n",
       "    <tr>\n",
       "      <th>4</th>\n",
       "      <td>321</td>\n",
       "      <td>87</td>\n",
       "      <td>10</td>\n",
       "      <td>39</td>\n",
       "      <td>42</td>\n",
       "      <td>30</td>\n",
       "      <td>2</td>\n",
       "      <td>396</td>\n",
       "      <td>101</td>\n",
       "      <td>12</td>\n",
       "      <td>...</td>\n",
       "      <td>805</td>\n",
       "      <td>40</td>\n",
       "      <td>4</td>\n",
       "      <td>91.5</td>\n",
       "      <td>0</td>\n",
       "      <td>1</td>\n",
       "      <td>1</td>\n",
       "      <td>0</td>\n",
       "      <td>0</td>\n",
       "      <td>1</td>\n",
       "    </tr>\n",
       "    <tr>\n",
       "      <th>5</th>\n",
       "      <td>594</td>\n",
       "      <td>169</td>\n",
       "      <td>4</td>\n",
       "      <td>74</td>\n",
       "      <td>51</td>\n",
       "      <td>35</td>\n",
       "      <td>11</td>\n",
       "      <td>4408</td>\n",
       "      <td>1133</td>\n",
       "      <td>19</td>\n",
       "      <td>...</td>\n",
       "      <td>282</td>\n",
       "      <td>421</td>\n",
       "      <td>25</td>\n",
       "      <td>750.0</td>\n",
       "      <td>1</td>\n",
       "      <td>0</td>\n",
       "      <td>0</td>\n",
       "      <td>1</td>\n",
       "      <td>1</td>\n",
       "      <td>0</td>\n",
       "    </tr>\n",
       "  </tbody>\n",
       "</table>\n",
       "<p>5 rows × 23 columns</p>\n",
       "</div>"
      ],
      "text/plain": [
       "   AtBat  Hits  HmRun  Runs  RBI  Walks  Years  CAtBat  CHits  CHmRun  ...  \\\n",
       "1    315    81      7    24   38     39     14    3449    835      69  ...   \n",
       "2    479   130     18    66   72     76      3    1624    457      63  ...   \n",
       "3    496   141     20    65   78     37     11    5628   1575     225  ...   \n",
       "4    321    87     10    39   42     30      2     396    101      12  ...   \n",
       "5    594   169      4    74   51     35     11    4408   1133      19  ...   \n",
       "\n",
       "   PutOuts  Assists  Errors  Salary  League_A  League_N  Division_E  \\\n",
       "1      632       43      10   475.0         0         1           0   \n",
       "2      880       82      14   480.0         1         0           0   \n",
       "3      200       11       3   500.0         0         1           1   \n",
       "4      805       40       4    91.5         0         1           1   \n",
       "5      282      421      25   750.0         1         0           0   \n",
       "\n",
       "   Division_W  NewLeague_A  NewLeague_N  \n",
       "1           1            0            1  \n",
       "2           1            1            0  \n",
       "3           0            0            1  \n",
       "4           0            0            1  \n",
       "5           1            1            0  \n",
       "\n",
       "[5 rows x 23 columns]"
      ]
     },
     "execution_count": 16,
     "metadata": {},
     "output_type": "execute_result"
    }
   ],
   "source": [
    "#Verificar la codificación anterior\n",
    "df.head()"
   ]
  },
  {
   "cell_type": "code",
   "execution_count": 18,
   "metadata": {
    "id": "uAwIeNpdtID_"
   },
   "outputs": [
    {
     "name": "stdout",
     "output_type": "stream",
     "text": [
      "<class 'pandas.core.frame.DataFrame'>\n",
      "Int64Index: 263 entries, 1 to 321\n",
      "Data columns (total 22 columns):\n",
      " #   Column       Non-Null Count  Dtype\n",
      "---  ------       --------------  -----\n",
      " 0   AtBat        263 non-null    int64\n",
      " 1   Hits         263 non-null    int64\n",
      " 2   HmRun        263 non-null    int64\n",
      " 3   Runs         263 non-null    int64\n",
      " 4   RBI          263 non-null    int64\n",
      " 5   Walks        263 non-null    int64\n",
      " 6   Years        263 non-null    int64\n",
      " 7   CAtBat       263 non-null    int64\n",
      " 8   CHits        263 non-null    int64\n",
      " 9   CHmRun       263 non-null    int64\n",
      " 10  CRuns        263 non-null    int64\n",
      " 11  CRBI         263 non-null    int64\n",
      " 12  CWalks       263 non-null    int64\n",
      " 13  PutOuts      263 non-null    int64\n",
      " 14  Assists      263 non-null    int64\n",
      " 15  Errors       263 non-null    int64\n",
      " 16  League_A     263 non-null    uint8\n",
      " 17  League_N     263 non-null    uint8\n",
      " 18  Division_E   263 non-null    uint8\n",
      " 19  Division_W   263 non-null    uint8\n",
      " 20  NewLeague_A  263 non-null    uint8\n",
      " 21  NewLeague_N  263 non-null    uint8\n",
      "dtypes: int64(16), uint8(6)\n",
      "memory usage: 44.6 KB\n"
     ]
    }
   ],
   "source": [
    "# Definimos la columna y, correspondiente a la variable objetivo.\n",
    "y = df.Salary\n",
    "\n",
    "#TO_DO 2:\n",
    "#Eliminar la columna con la variable dependiente (Salary) y de ser necesario, las columnas originales para las que se crearon\n",
    "#variables dummy. Dar a la nueva tabla de atributos el nombre X (mayúscula).\n",
    "X = df.drop(columns = ['Salary'])\n",
    "\n",
    "#Verificar lo anterior\n",
    "X.info()"
   ]
  },
  {
   "cell_type": "markdown",
   "metadata": {
    "id": "9cdjFZR9lWGS"
   },
   "source": [
    "Vamos a generar valores de Lambda equidistantes para experimentar sobre un intervalo. Estos valores se encuentran entre 10^(-2) y 10^10. Experimentaremos con 100 valores distintos de lambda. Para esto usamos *linspace* de Numpy:"
   ]
  },
  {
   "cell_type": "code",
   "execution_count": 19,
   "metadata": {
    "id": "k7REJ95dtiuL"
   },
   "outputs": [
    {
     "data": {
      "text/plain": [
       "array([1.00000000e+10, 7.56463328e+09, 5.72236766e+09, 4.32876128e+09,\n",
       "       3.27454916e+09, 2.47707636e+09, 1.87381742e+09, 1.41747416e+09,\n",
       "       1.07226722e+09, 8.11130831e+08, 6.13590727e+08, 4.64158883e+08,\n",
       "       3.51119173e+08, 2.65608778e+08, 2.00923300e+08, 1.51991108e+08,\n",
       "       1.14975700e+08, 8.69749003e+07, 6.57933225e+07, 4.97702356e+07,\n",
       "       3.76493581e+07, 2.84803587e+07, 2.15443469e+07, 1.62975083e+07,\n",
       "       1.23284674e+07, 9.32603347e+06, 7.05480231e+06, 5.33669923e+06,\n",
       "       4.03701726e+06, 3.05385551e+06, 2.31012970e+06, 1.74752840e+06,\n",
       "       1.32194115e+06, 1.00000000e+06, 7.56463328e+05, 5.72236766e+05,\n",
       "       4.32876128e+05, 3.27454916e+05, 2.47707636e+05, 1.87381742e+05,\n",
       "       1.41747416e+05, 1.07226722e+05, 8.11130831e+04, 6.13590727e+04,\n",
       "       4.64158883e+04, 3.51119173e+04, 2.65608778e+04, 2.00923300e+04,\n",
       "       1.51991108e+04, 1.14975700e+04, 8.69749003e+03, 6.57933225e+03,\n",
       "       4.97702356e+03, 3.76493581e+03, 2.84803587e+03, 2.15443469e+03,\n",
       "       1.62975083e+03, 1.23284674e+03, 9.32603347e+02, 7.05480231e+02,\n",
       "       5.33669923e+02, 4.03701726e+02, 3.05385551e+02, 2.31012970e+02,\n",
       "       1.74752840e+02, 1.32194115e+02, 1.00000000e+02, 7.56463328e+01,\n",
       "       5.72236766e+01, 4.32876128e+01, 3.27454916e+01, 2.47707636e+01,\n",
       "       1.87381742e+01, 1.41747416e+01, 1.07226722e+01, 8.11130831e+00,\n",
       "       6.13590727e+00, 4.64158883e+00, 3.51119173e+00, 2.65608778e+00,\n",
       "       2.00923300e+00, 1.51991108e+00, 1.14975700e+00, 8.69749003e-01,\n",
       "       6.57933225e-01, 4.97702356e-01, 3.76493581e-01, 2.84803587e-01,\n",
       "       2.15443469e-01, 1.62975083e-01, 1.23284674e-01, 9.32603347e-02,\n",
       "       7.05480231e-02, 5.33669923e-02, 4.03701726e-02, 3.05385551e-02,\n",
       "       2.31012970e-02, 1.74752840e-02, 1.32194115e-02, 1.00000000e-02])"
      ]
     },
     "execution_count": 19,
     "metadata": {},
     "output_type": "execute_result"
    }
   ],
   "source": [
    "# Creamos una lista con posibles valores para el parámetro Lambda para los algoritmos Ridge y Lasso\n",
    "lambdas = 10**np.linspace(10,-2,100)\n",
    "lambdas"
   ]
  },
  {
   "cell_type": "markdown",
   "metadata": {
    "id": "MMkdjJinqgam"
   },
   "source": [
    "Vamos a usar el algoritmo de Ridge de SKlearn para hacer regresión con los diferentes valores del parámetro Lambda, de manera que podamos realizar algunas observaciones y comparaciones."
   ]
  },
  {
   "cell_type": "code",
   "execution_count": 42,
   "metadata": {
    "id": "p9N3z07Wtvmf"
   },
   "outputs": [
    {
     "data": {
      "text/plain": [
       "(100, 22)"
      ]
     },
     "execution_count": 42,
     "metadata": {},
     "output_type": "execute_result"
    }
   ],
   "source": [
    "# Aplicamos el algoritmo Ridge de SKlearn para los diferentes valores de Lambda definidos\n",
    "# en la celda anterior. Guardar los vectores obtenidos de parámetros en la lista coefs.\n",
    "ridge = Ridge(normalize = True)\n",
    "coefs = []\n",
    "\n",
    "for a in lambdas:\n",
    "    ridge.set_params(alpha = a)\n",
    "    ridge.fit(X, y)\n",
    "    coefs.append(ridge.coef_)\n",
    "#Imprimir las dimensiones de la matriz coef.   \n",
    "np.shape(coefs)"
   ]
  },
  {
   "cell_type": "markdown",
   "metadata": {
    "id": "A1t0wbe1q12G"
   },
   "source": [
    "Usamos los arreglos *lambdas* y *coefs* para comparar los resultados de la regresión Ridge para diferentes valores del parámetro Lambda."
   ]
  },
  {
   "cell_type": "code",
   "execution_count": 43,
   "metadata": {
    "id": "HsHxVKALuQgA"
   },
   "outputs": [
    {
     "data": {
      "text/plain": [
       "Text(0, 0.5, 'weights')"
      ]
     },
     "execution_count": 43,
     "metadata": {},
     "output_type": "execute_result"
    },
    {
     "data": {
      "image/png": "[encoded data removed]",
      "text/plain": [
       "<Figure size 432x288 with 1 Axes>"
      ]
     },
     "metadata": {
      "needs_background": "light"
     },
     "output_type": "display_data"
    }
   ],
   "source": [
    "ax = plt.gca()\n",
    "ax.plot(lambdas, coefs)\n",
    "ax.set_xscale('log')\n",
    "plt.axis('tight')\n",
    "plt.xlabel('alpha')\n",
    "plt.ylabel('weights')"
   ]
  },
  {
   "cell_type": "markdown",
   "metadata": {
    "id": "ZoWHrSPPJCyG"
   },
   "source": [
    "TO_DO 3: Hallar el coeficiente de las variables Hits Runs y Walks, arrojado por el algoritmo Ridge, para 3 lambdas distintos.\n",
    "Ejemplo: \"Para lambda=3.06795364e+00, el coeficiente de Hits es (valor), el coeficiente de Runs es (valor) y el coeficiente de Walks es (valor).\"\n",
    "\n",
    "**Respuesta:**"
   ]
  },
  {
   "cell_type": "code",
   "execution_count": 44,
   "metadata": {},
   "outputs": [
    {
     "name": "stdout",
     "output_type": "stream",
     "text": [
      "Para lambda = 0.5 , el coeficiente de Hits es 0.9834042713537325 , el coeficiente de Runs es  1.0946748134817357 y el coeficiente de Walks es 1.7693081978700638\n",
      "Para lambda = 3.06795364 , el coeficiente de Hits es 0.50580499812353 , el coeficiente de Runs es  0.7770918104425876 y el coeficiente de Walks es 1.040984238441106\n",
      "Para lambda = 3.5 , el coeficiente de Hits es 0.47807904310606386 , el coeficiente de Runs es  0.7423726967181855 y el coeficiente de Walks es 0.9867185830422165\n"
     ]
    }
   ],
   "source": [
    "ridge.set_params(alpha = .5)\n",
    "ridge.fit(X, y)\n",
    "print(\"Para lambda =\", 0.5, \", el coeficiente de Hits es\", ridge.coef_[1], \", el coeficiente de Runs es \", ridge.coef_[3], \"y el coeficiente de Walks es\", ridge.coef_[5])\n",
    "\n",
    "ridge.set_params(alpha = 3.06795364)\n",
    "ridge.fit(X, y)\n",
    "print(\"Para lambda =\", 3.06795364, \", el coeficiente de Hits es\", ridge.coef_[1],\", el coeficiente de Runs es \", ridge.coef_[3], \"y el coeficiente de Walks es\", ridge.coef_[5])\n",
    "\n",
    "ridge.set_params(alpha = 3.5)\n",
    "ridge.fit(X, y)\n",
    "print(\"Para lambda =\", 3.5, \", el coeficiente de Hits es\", ridge.coef_[1],\", el coeficiente de Runs es \", ridge.coef_[3], \"y el coeficiente de Walks es\", ridge.coef_[5])\n"
   ]
  },
  {
   "cell_type": "markdown",
   "metadata": {
    "id": "BNB_1iWSs0x_"
   },
   "source": [
    "A continuación separamos el conjunto de datos en conjunto de Entrenamiento y Testeo."
   ]
  },
  {
   "cell_type": "code",
   "execution_count": 62,
   "metadata": {
    "id": "ZT6Ulnl9ubYn"
   },
   "outputs": [],
   "source": [
    "#TO_DO 4: \n",
    "#Escoger random_sate = 0. Y partir el conjunto de datos en Entrenamiento y Testeo, con porcentaje de Testeo de 20%\n",
    "\n",
    "X_train,X_test,Y_train,Y_test = train_test_split(X, y, test_size=0.20, random_state=0)"
   ]
  },
  {
   "cell_type": "markdown",
   "metadata": {
    "id": "VY6_5sQfvn1O"
   },
   "source": [
    "Apliquemos el algoritmo de regresión lineal de SKLearn a éste conjunto de datos."
   ]
  },
  {
   "cell_type": "code",
   "execution_count": 66,
   "metadata": {
    "id": "D2bSIcULDiF5"
   },
   "outputs": [
    {
     "data": {
      "text/plain": [
       "0.5301735180942861"
      ]
     },
     "execution_count": 66,
     "metadata": {},
     "output_type": "execute_result"
    }
   ],
   "source": [
    "#TO_DO 5: Aplicar el algoritmo de regresión lineal de SKLearn a éste conjunto de datos e\n",
    "# imprimir su coeficiente de determinación R^2 (score)\n",
    "regr = LinearRegression().fit(X_train,Y_train)\n",
    "regr.score(X,y)"
   ]
  },
  {
   "cell_type": "markdown",
   "metadata": {
    "id": "8aJWiIxKu29p"
   },
   "source": [
    "TO_DO 6: Cuáles son los valores de los parámetros en el modelo lineal obtenido? (Pista: En el taller anterior eran la pendiente y el punto de corte.) Cuál valor corresponde con cuál variable en el Dataset?\n",
    "\n",
    "**Respuesta:**"
   ]
  },
  {
   "cell_type": "code",
   "execution_count": 67,
   "metadata": {},
   "outputs": [
    {
     "name": "stdout",
     "output_type": "stream",
     "text": [
      "AtBat          -1.834146\n",
      "Hits            7.021244\n",
      "HmRun          11.279774\n",
      "Runs           -1.786829\n",
      "RBI            -2.910850\n",
      "Walks           7.360806\n",
      "Years           5.858296\n",
      "CAtBat         -0.149143\n",
      "CHits           0.306629\n",
      "CHmRun         -0.652869\n",
      "CRuns           1.016259\n",
      "CRBI            0.695087\n",
      "CWalks         -0.863273\n",
      "PutOuts         0.193153\n",
      "Assists         0.459977\n",
      "Errors         -5.810322\n",
      "League_A      -16.099322\n",
      "League_N       16.099322\n",
      "Division_E     57.276941\n",
      "Division_W    -57.276941\n",
      "NewLeague_A    -2.118528\n",
      "NewLeague_N     2.118528\n",
      "dtype: float64\n"
     ]
    }
   ],
   "source": [
    "X.columns\n",
    "#regr.coef_\n",
    "print(pd.Series(regr.coef_, index = X.columns))"
   ]
  },
  {
   "cell_type": "markdown",
   "metadata": {
    "id": "UOipPDgdwHIj"
   },
   "source": [
    "## Regresión Ridge\n",
    "Ahora apliquemos Regresión de Ridge para algunos valores de lambda. En primer lugar usemos Lambda=4. "
   ]
  },
  {
   "cell_type": "code",
   "execution_count": 69,
   "metadata": {
    "id": "FkxCVV82u0MH"
   },
   "outputs": [
    {
     "name": "stdout",
     "output_type": "stream",
     "text": [
      "AtBat           0.111406\n",
      "Hits            0.467295\n",
      "HmRun           1.365857\n",
      "Runs            0.778508\n",
      "RBI             0.646139\n",
      "Walks           0.966759\n",
      "Years           2.796045\n",
      "CAtBat          0.008318\n",
      "CHits           0.032662\n",
      "CHmRun          0.219125\n",
      "CRuns           0.065070\n",
      "CRBI            0.065515\n",
      "CWalks          0.060097\n",
      "PutOuts         0.048401\n",
      "Assists         0.023814\n",
      "Errors         -0.396742\n",
      "League_A       -3.503111\n",
      "League_N        3.503111\n",
      "Division_E     20.698058\n",
      "Division_W    -20.698058\n",
      "NewLeague_A    -4.763146\n",
      "NewLeague_N     4.763146\n",
      "dtype: float64\n",
      "MSE: 177295.1880623487\n",
      "R2 0.39711269272001215\n"
     ]
    }
   ],
   "source": [
    "#Modelo de regresión de Ridge para Lambda=4\n",
    "# Note el uso del parámetro normalize=True\n",
    "ridge = Ridge(alpha = 4, normalize = True)\n",
    "ridge.fit(X_train, Y_train)             # Entrenar una regresión de Ridge para el conjunto de entrenamiento.\n",
    "pred = ridge.predict(X_test)           # Uso del modelo para predecir el conjunto de Testeo\n",
    "print(pd.Series(ridge.coef_, index = X.columns)) # Imprimir los coeficientes del modelo\n",
    "print(\"MSE:\",mean_squared_error(Y_test, pred))          # Imprimit el error de mínimos cuadrados MSE\n",
    "print(\"R2\",ridge.score(X_test, Y_test))         #Imprimir el coeficiente de determinación R^2"
   ]
  },
  {
   "cell_type": "code",
   "execution_count": 76,
   "metadata": {
    "id": "jFATExWKu3ZX"
   },
   "outputs": [
    {
     "name": "stdout",
     "output_type": "stream",
     "text": [
      "AtBat          1.199328e-10\n",
      "Hits           4.318179e-10\n",
      "HmRun          1.650614e-09\n",
      "Runs           7.511952e-10\n",
      "RBI            7.227535e-10\n",
      "Walks          8.969918e-10\n",
      "Years          3.478858e-09\n",
      "CAtBat         9.426433e-12\n",
      "CHits          3.471758e-11\n",
      "CHmRun         2.742106e-10\n",
      "CRuns          6.998938e-11\n",
      "CRBI           7.355186e-11\n",
      "CWalks         7.564463e-11\n",
      "PutOuts        3.687963e-11\n",
      "Assists        2.030162e-11\n",
      "Errors        -3.698884e-13\n",
      "League_A      -8.582518e-10\n",
      "League_N       8.582518e-10\n",
      "Division_E     1.249941e-08\n",
      "Division_W    -1.249941e-08\n",
      "NewLeague_A   -2.321768e-09\n",
      "NewLeague_N    2.321768e-09\n",
      "dtype: float64\n",
      "MSE: 297431.0635741096\n",
      "R2 -0.011405977676945955\n"
     ]
    }
   ],
   "source": [
    "#TO_DO 7 Hacer regresión Ridge para lambda=10^10. Imprimir los coeficientes obtenidos y el error MSE\n",
    "# Usar el parámetro normalize=True\n",
    "ridge = Ridge(alpha = 10**10, normalize = True)\n",
    "ridge.fit(X_train, Y_train)             # Entrenar una regresión de Ridge para el conjunto de entrenamiento.\n",
    "pred = ridge.predict(X_test)           # Uso del modelo para predecir el conjunto de Testeo\n",
    "print(pd.Series(ridge.coef_, index = X.columns)) # Imprimir los coeficientes del modelo\n",
    "print(\"MSE:\",mean_squared_error(Y_test, pred))          # Imprimit el error de mínimos cuadrados MSE\n",
    "print(\"R2\",ridge.score(X_test, Y_test))         #Imprimir el coeficiente de determinación R^2"
   ]
  },
  {
   "cell_type": "markdown",
   "metadata": {
    "id": "hG9rLSeBypmX"
   },
   "source": [
    "TO_DO 8: Cuál debería ser el coeficiente de determinación R^2 al asignar Lambda=0? Justifique y compruebe en la siguiente celda.\n",
    "\n",
    "**Respuesta y justificación:**"
   ]
  },
  {
   "cell_type": "markdown",
   "metadata": {},
   "source": [
    "El valor de R^2 debe ser el maximo debido a que no se imponen limitaciones adicionales a las variables permitiendo que expliquen mas de la varianza de los datos considerados"
   ]
  },
  {
   "cell_type": "code",
   "execution_count": 73,
   "metadata": {
    "id": "cPKuNNqivH8v"
   },
   "outputs": [
    {
     "name": "stdout",
     "output_type": "stream",
     "text": [
      "AtBat          -1.834146\n",
      "Hits            7.021244\n",
      "HmRun          11.279774\n",
      "Runs           -1.786829\n",
      "RBI            -2.910850\n",
      "Walks           7.360806\n",
      "Years           5.858296\n",
      "CAtBat         -0.149143\n",
      "CHits           0.306629\n",
      "CHmRun         -0.652869\n",
      "CRuns           1.016259\n",
      "CRBI            0.695087\n",
      "CWalks         -0.863273\n",
      "PutOuts         0.193153\n",
      "Assists         0.459977\n",
      "Errors         -5.810322\n",
      "League_A      -16.099322\n",
      "League_N       16.099322\n",
      "Division_E     57.276941\n",
      "Division_W    -57.276941\n",
      "NewLeague_A    -2.118528\n",
      "NewLeague_N     2.118528\n",
      "dtype: float64\n",
      "MSE: 129058.63649627281\n",
      "R2 0.5611397314906126\n"
     ]
    }
   ],
   "source": [
    "# TO_DO 9 Verifique su respuesta anterior.\n",
    "# Usar el parámetro normalize=True\n",
    "ridge = Ridge(alpha = 0, normalize = True)\n",
    "ridge.fit(X_train, Y_train)             # Entrenar una regresión de Ridge para el conjunto de entrenamiento.\n",
    "pred = ridge.predict(X_test)           # Uso del modelo para predecir el conjunto de Testeo\n",
    "print(pd.Series(ridge.coef_, index = X.columns)) # Imprimir los coeficientes del modelo\n",
    "print(\"MSE:\",mean_squared_error(Y_test, pred))          # Imprimit el error de mínimos cuadrados MSE\n",
    "print(\"R2\",ridge.score(X_test, Y_test))  "
   ]
  },
  {
   "cell_type": "code",
   "execution_count": 78,
   "metadata": {
    "id": "ISu__2uNvbcp"
   },
   "outputs": [
    {
     "data": {
      "text/plain": [
       "0.017475284000076828"
      ]
     },
     "execution_count": 78,
     "metadata": {},
     "output_type": "execute_result"
    }
   ],
   "source": [
    "# con RidgeCV de SKLearn hacer cross validation con la lista de Lambdas y normalize True\n",
    "# Imprimir el alpha optimo. Note que usamos el parametro normalize=True\n",
    "ridgecv = RidgeCV(alphas = lambdas, normalize = True)\n",
    "ridgecv.fit(X_train, Y_train)\n",
    "ridgecv.alpha_\n"
   ]
  },
  {
   "cell_type": "code",
   "execution_count": 79,
   "metadata": {
    "id": "-r72ay2gvjpo"
   },
   "outputs": [
    {
     "name": "stdout",
     "output_type": "stream",
     "text": [
      "AtBat          -1.225726\n",
      "Hits            4.394193\n",
      "HmRun           5.949377\n",
      "Runs            0.500543\n",
      "RBI            -0.946982\n",
      "Walks           5.585597\n",
      "Years          -1.349922\n",
      "CAtBat         -0.018688\n",
      "CHits           0.205722\n",
      "CHmRun         -0.064280\n",
      "CRuns           0.432776\n",
      "CRBI            0.327277\n",
      "CWalks         -0.589424\n",
      "PutOuts         0.188154\n",
      "Assists         0.344924\n",
      "Errors         -6.137032\n",
      "League_A      -17.384447\n",
      "League_N       17.384447\n",
      "Division_E     60.225864\n",
      "Division_W    -60.225864\n",
      "NewLeague_A    -0.388878\n",
      "NewLeague_N     0.388878\n",
      "dtype: float64\n",
      "MSE: 133547.42368174848\n",
      "R2 0.5458757367438818\n"
     ]
    }
   ],
   "source": [
    "#TO_DO 10 Con el alpha optimo hallado arriba, calcular los coeficientes(parámetros),\n",
    "# el error cuadrático MSE y el coeficiente de determinación R^2 en el conjunto de Testeo.\n",
    "# Usar el parámetro normalize=True\n",
    "ridge = Ridge(alpha = ridgecv.alpha_, normalize = True)\n",
    "ridge.fit(X_train, Y_train)             # Entrenar una regresión de Ridge para el conjunto de entrenamiento.\n",
    "pred = ridge.predict(X_test)           # Uso del modelo para predecir el conjunto de Testeo\n",
    "print(pd.Series(ridge.coef_, index = X.columns)) # Imprimir los coeficientes del modelo\n",
    "print(\"MSE:\",mean_squared_error(Y_test, pred))          # Imprimit el error de mínimos cuadrados MSE\n",
    "print(\"R2\",ridge.score(X_test, Y_test)) "
   ]
  },
  {
   "cell_type": "markdown",
   "metadata": {
    "id": "X1tTtE2w1OcF"
   },
   "source": [
    "## Regresión Lasso\n",
    "Ahora aplicaremos regresión Lasso a éste conjunto de datos. Para esto, en primero lugar encontremos el valor óptimo de Lambda."
   ]
  },
  {
   "cell_type": "code",
   "execution_count": 80,
   "metadata": {
    "id": "d_Acv6lawBDT"
   },
   "outputs": [
    {
     "data": {
      "text/plain": [
       "1.5199110829529332"
      ]
     },
     "execution_count": 80,
     "metadata": {},
     "output_type": "execute_result"
    }
   ],
   "source": [
    "# TO_DO 11 Determinar el valor óptimo de Lambda mediante corss-validation\n",
    "## Usar el parámetro normalize=True\n",
    "lassocv = LassoCV(alphas = lambdas, normalize = True)\n",
    "lassocv.fit(X_train, Y_train)\n",
    "lassocv.alpha_"
   ]
  },
  {
   "cell_type": "code",
   "execution_count": 82,
   "metadata": {
    "id": "5dO8Eg-EwXND"
   },
   "outputs": [
    {
     "name": "stdout",
     "output_type": "stream",
     "text": [
      "AtBat          0.000000e+00\n",
      "Hits           2.017124e+00\n",
      "HmRun          5.598871e-01\n",
      "Runs           0.000000e+00\n",
      "RBI            0.000000e+00\n",
      "Walks          2.597229e+00\n",
      "Years          0.000000e+00\n",
      "CAtBat         0.000000e+00\n",
      "CHits          1.081377e-01\n",
      "CHmRun         0.000000e+00\n",
      "CRuns          1.365369e-01\n",
      "CRBI           1.929720e-01\n",
      "CWalks         0.000000e+00\n",
      "PutOuts        1.058311e-01\n",
      "Assists       -0.000000e+00\n",
      "Errors        -0.000000e+00\n",
      "League_A      -0.000000e+00\n",
      "League_N       0.000000e+00\n",
      "Division_E     8.066397e+01\n",
      "Division_W    -2.813156e-12\n",
      "NewLeague_A   -0.000000e+00\n",
      "NewLeague_N    0.000000e+00\n",
      "dtype: float64\n",
      "MSE: 147855.54875049167\n",
      "R2 0.4972213593228413\n"
     ]
    }
   ],
   "source": [
    "# TO_DO 12 Aplicar regresión de Lasso al conjunto de datos, usando el valor de Lambda encontrado arriba\n",
    "# Usar el parámetro normalize=True\n",
    "lasso = Lasso(alpha = lassocv.alpha_, normalize = True)\n",
    "lasso.fit(X_train, Y_train)             # Entrenar una regresión de Ridge para el conjunto de entrenamiento.\n",
    "pred = lasso.predict(X_test)           # Uso del modelo para predecir el conjunto de Testeo\n",
    "print(pd.Series(lasso.coef_, index = X.columns)) # Imprimir los coeficientes del modelo\n",
    "print(\"MSE:\",mean_squared_error(Y_test, pred))          # Imprimit el error de mínimos cuadrados MSE\n",
    "print(\"R2\",lasso.score(X_test, Y_test)) "
   ]
  },
  {
   "cell_type": "code",
   "execution_count": 83,
   "metadata": {
    "id": "mBX9-ongw1XA"
   },
   "outputs": [
    {
     "data": {
      "text/plain": [
       "AtBat          0.000000e+00\n",
       "Hits           2.017124e+00\n",
       "HmRun          5.598871e-01\n",
       "Runs           0.000000e+00\n",
       "RBI            0.000000e+00\n",
       "Walks          2.597229e+00\n",
       "Years          0.000000e+00\n",
       "CAtBat         0.000000e+00\n",
       "CHits          1.081377e-01\n",
       "CHmRun         0.000000e+00\n",
       "CRuns          1.365369e-01\n",
       "CRBI           1.929720e-01\n",
       "CWalks         0.000000e+00\n",
       "PutOuts        1.058311e-01\n",
       "Assists       -0.000000e+00\n",
       "Errors        -0.000000e+00\n",
       "League_A      -0.000000e+00\n",
       "League_N       0.000000e+00\n",
       "Division_E     8.066397e+01\n",
       "Division_W    -2.813156e-12\n",
       "NewLeague_A   -0.000000e+00\n",
       "NewLeague_N    0.000000e+00\n",
       "dtype: float64"
      ]
     },
     "execution_count": 83,
     "metadata": {},
     "output_type": "execute_result"
    }
   ],
   "source": [
    "#Imprimir los coeficientes de la misma forma que en Ridge.\n",
    "pd.Series(lasso.coef_, index=X.columns)"
   ]
  },
  {
   "cell_type": "code",
   "execution_count": 85,
   "metadata": {
    "id": "JdjVTuwhxBf3"
   },
   "outputs": [
    {
     "name": "stdout",
     "output_type": "stream",
     "text": [
      "0.4972213593228413\n"
     ]
    }
   ],
   "source": [
    "#Imprimir el score (R^2)\n",
    "print(lassocv.score(X_test, Y_test))"
   ]
  },
  {
   "cell_type": "markdown",
   "metadata": {
    "id": "xF5UUEhx5r1_"
   },
   "source": [
    "TO_DO 13: Escriba sus conclusiones acerca de los diferentes modelos obtenidos y sus métricas."
   ]
  },
  {
   "cell_type": "markdown",
   "metadata": {
    "id": "dU0UZlGKqPiq"
   },
   "source": [
    "## Conclusiones\n",
    "- Dada esta base de datos al estimarla mediante la regresion lineal, regresion de ridge y la regresion de lasso nos dimos cuenta  al utilizar la metrica de r2 que la regresión de ridge ajusta un poco mejor que la regresión de lasso. Tambien la regresión lineal para este modelo fue mejor que la regresión de lasso y esta cercana a la regresión de Ridge.\n",
    "- La regresión de Lasso nos anula diferentes coeficientes, donde podemos ver las varibles que estan afectando a la predicción. encambio en Ridge no es muy notoria la anulación d elos coeficientes, pero toman valores muy pequeños y cercanos a cero.\n",
    "    "
   ]
  },
  {
   "cell_type": "code",
   "execution_count": null,
   "metadata": {},
   "outputs": [],
   "source": []
  }
 ],
 "metadata": {
  "colab": {
   "provenance": []
  },
  "kernelspec": {
   "display_name": "Python 3 (ipykernel)",
   "language": "python",
   "name": "python3"
  },
  "language_info": {
   "codemirror_mode": {
    "name": "ipython",
    "version": 3
   },
   "file_extension": ".py",
   "mimetype": "text/x-python",
   "name": "python",
   "nbconvert_exporter": "python",
   "pygments_lexer": "ipython3",
   "version": "3.9.12"
  }
 },
 "nbformat": 4,
 "nbformat_minor": 1
}
