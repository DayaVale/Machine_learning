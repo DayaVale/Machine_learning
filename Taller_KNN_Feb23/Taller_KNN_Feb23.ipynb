{
 "cells": [
  {
   "cell_type": "markdown",
   "metadata": {},
   "source": [
    "### Integrantes\n",
    "\n",
    "- Dayana Gonzalez\n",
    "- Juan Manuel Ramirez"
   ]
  },
  {
   "cell_type": "markdown",
   "metadata": {
    "id": "vb7JcpGytwI-"
   },
   "source": [
    "# Taller Vecinos más cercanos (KNN)"
   ]
  },
  {
   "cell_type": "markdown",
   "metadata": {
    "id": "TfBew5r1uKq3"
   },
   "source": [
    "Usamos el método de vecinos más cercanos para clasificación. Por un lado, analizamos el Iris Dataset sobre especies de flores. Por el otro lado analizamos la supervivencia en la tragedia del Titanic utilizando diferentes valores de K. \n",
    "\n",
    "Importamos primero las librerías y paquetes que utilizaremos. Puede importar otros si lo considera útil."
   ]
  },
  {
   "cell_type": "code",
   "execution_count": 1,
   "metadata": {
    "id": "y1nYtnFwncsf"
   },
   "outputs": [],
   "source": [
    "#importar paquetes\n",
    "import numpy as np\n",
    "import pandas as pd\n",
    "import matplotlib.pyplot as plt\n",
    "from sklearn.model_selection import train_test_split\n",
    "from sklearn.neighbors import KNeighborsClassifier"
   ]
  },
  {
   "cell_type": "markdown",
   "metadata": {
    "id": "y2PGF2SZV1Ep"
   },
   "source": [
    "## Iris Dataset\n",
    "\n",
    "Importamos el conjunto de datos desde sklearn.\n",
    "\n",
    "\n"
   ]
  },
  {
   "cell_type": "code",
   "execution_count": 21,
   "metadata": {
    "id": "-je5Z5yIiAht"
   },
   "outputs": [],
   "source": [
    "#importar dataset\n",
    "from sklearn.datasets import load_iris"
   ]
  },
  {
   "cell_type": "code",
   "execution_count": 22,
   "metadata": {
    "id": "aGVzYnkVAzcG"
   },
   "outputs": [],
   "source": [
    "#Importar iris dataset y separar en data y target\n",
    "iris = load_iris()\n",
    "X=pd.DataFrame(iris.data)\n",
    "y=pd.DataFrame(iris.target)"
   ]
  },
  {
   "cell_type": "markdown",
   "metadata": {
    "id": "4b1lK_jfRN0G"
   },
   "source": [
    "Primero separamos el conjunto de datos en Train y Test, en una proporción de 70%, 30%."
   ]
  },
  {
   "cell_type": "code",
   "execution_count": 23,
   "metadata": {
    "id": "iD4eBBStBuIu"
   },
   "outputs": [],
   "source": [
    "#Separar en train y test\n",
    "X_train, X_test, y_train, y_test = train_test_split(X, y, test_size=0.30, random_state=0)"
   ]
  },
  {
   "cell_type": "markdown",
   "metadata": {
    "id": "CCarZX--RanF"
   },
   "source": [
    "Importamos el classificador KNeighborsClassifier de SKLearn con el nombre *knn*. Usar k=3.\n"
   ]
  },
  {
   "cell_type": "code",
   "execution_count": 43,
   "metadata": {
    "id": "vsn3h3j2BmAk"
   },
   "outputs": [],
   "source": [
    "#TODO1 importar KNeighborsClassifier con k=3 con el nombre knn\n",
    "neigh = KNeighborsClassifier(n_neighbors=3)"
   ]
  },
  {
   "cell_type": "markdown",
   "metadata": {
    "id": "EIWHeEGDSMeY"
   },
   "source": [
    "Entrenamos el clasificador con los datos de entrenamiento."
   ]
  },
  {
   "cell_type": "code",
   "execution_count": 44,
   "metadata": {
    "id": "bxM2E55YB6n0"
   },
   "outputs": [
    {
     "name": "stderr",
     "output_type": "stream",
     "text": [
      "C:\\ProgramData\\Anaconda3\\lib\\site-packages\\sklearn\\neighbors\\_classification.py:198: DataConversionWarning: A column-vector y was passed when a 1d array was expected. Please change the shape of y to (n_samples,), for example using ravel().\n",
      "  return self._fit(X, y)\n"
     ]
    },
    {
     "data": {
      "text/plain": [
       "KNeighborsClassifier(n_neighbors=1)"
      ]
     },
     "execution_count": 44,
     "metadata": {},
     "output_type": "execute_result"
    }
   ],
   "source": [
    "#TODO2 entrenar knn con los datos de entrenamiento\n",
    "neigh.fit(X_train, y_train)"
   ]
  },
  {
   "cell_type": "markdown",
   "metadata": {
    "id": "6cQAgKmeSd78"
   },
   "source": [
    "Calculamos la exactitud del modelo en los datos Test, con el método *score* del clasificador."
   ]
  },
  {
   "cell_type": "code",
   "execution_count": 45,
   "metadata": {
    "id": "zlrL9JhAB87q"
   },
   "outputs": [
    {
     "data": {
      "text/plain": [
       "0.9777777777777777"
      ]
     },
     "execution_count": 45,
     "metadata": {},
     "output_type": "execute_result"
    }
   ],
   "source": [
    "#TODO3 calcular la exactitud (score) del modelo en los datos test.\n",
    "neigh.score(X_test, y_test)"
   ]
  },
  {
   "cell_type": "markdown",
   "metadata": {
    "id": "SeWq0Z6I0Jkk"
   },
   "source": [
    "**TODO 4**: Observe los diagramas de dispersión del Iris datset [aquí](https://es.wikipedia.org/wiki/Conjunto_de_datos_flor_iris).¿Cree que la exactitud mejorará con un k más pequeño?¿Cree que mejorará con un K más grande? ¿Por qué?\n",
    "\n",
    "No mejorará debido a que el dataset original muestra separaciones bastante claras en varias variables entre las 3 especies. Un k más pequeño generaría un analisis individualizado genrando un efecto peor o similar al de k=3. Tomando un k mas grande, por ejemplo 100, se encuentra que depende de demasiados vecinos para definir su agrupacion lo cual ya tiende a incluir observaciones de otras especies.\n",
    "\n",
    "## Titanic Dataset\n",
    "Ahora analizamos la supervivencia en el naufragio del Titanic. El conjunto de datos, así como el diccionario de atributos, puede verlos [aquí](https://www.kaggle.com/competitions/titanic/data).\n",
    "\n",
    "*Observación* Usaremos sólo el conjunto Train proporcionado en Kaggle para la fase Test y Train en el taller."
   ]
  },
  {
   "cell_type": "code",
   "execution_count": 115,
   "metadata": {
    "id": "mmzuPixPE4NO"
   },
   "outputs": [],
   "source": [
    "#importar los datos de entrenamiento del Titanic Dataset.\n",
    "df=pd.read_csv(\"train.csv\")\n"
   ]
  },
  {
   "cell_type": "markdown",
   "metadata": {
    "id": "_NN0VP4BU2Pw"
   },
   "source": [
    "Eliminar del dataframe las filas con valores ausentes (NaN)."
   ]
  },
  {
   "cell_type": "code",
   "execution_count": 116,
   "metadata": {
    "id": "PBJCxZPgVRb8"
   },
   "outputs": [],
   "source": [
    "#TODO5 Remover filas con valores ausentes.\n",
    "df= df.dropna()"
   ]
  },
  {
   "cell_type": "markdown",
   "metadata": {
    "id": "fjq8-ogxXt_5"
   },
   "source": [
    "Explorar el dataset mediante su visualización, el uso de los métodos *head*, *info* y *value_counts* para los Dataframes en pandas y sus columnas. ¿Qué tipo de variables tiene? qué caracteriza a los valores de dichas variables? ¿Qué tipos de datos se usan?"
   ]
  },
  {
   "cell_type": "code",
   "execution_count": 117,
   "metadata": {
    "id": "03OZ6O4kFHaA"
   },
   "outputs": [
    {
     "data": {
      "text/html": [
       "<div>\n",
       "<style scoped>\n",
       "    .dataframe tbody tr th:only-of-type {\n",
       "        vertical-align: middle;\n",
       "    }\n",
       "\n",
       "    .dataframe tbody tr th {\n",
       "        vertical-align: top;\n",
       "    }\n",
       "\n",
       "    .dataframe thead th {\n",
       "        text-align: right;\n",
       "    }\n",
       "</style>\n",
       "<table border=\"1\" class=\"dataframe\">\n",
       "  <thead>\n",
       "    <tr style=\"text-align: right;\">\n",
       "      <th></th>\n",
       "      <th>PassengerId</th>\n",
       "      <th>Survived</th>\n",
       "      <th>Pclass</th>\n",
       "      <th>Name</th>\n",
       "      <th>Sex</th>\n",
       "      <th>Age</th>\n",
       "      <th>SibSp</th>\n",
       "      <th>Parch</th>\n",
       "      <th>Ticket</th>\n",
       "      <th>Fare</th>\n",
       "      <th>Cabin</th>\n",
       "      <th>Embarked</th>\n",
       "    </tr>\n",
       "  </thead>\n",
       "  <tbody>\n",
       "    <tr>\n",
       "      <th>1</th>\n",
       "      <td>2</td>\n",
       "      <td>1</td>\n",
       "      <td>1</td>\n",
       "      <td>Cumings, Mrs. John Bradley (Florence Briggs Th...</td>\n",
       "      <td>female</td>\n",
       "      <td>38.0</td>\n",
       "      <td>1</td>\n",
       "      <td>0</td>\n",
       "      <td>PC 17599</td>\n",
       "      <td>71.2833</td>\n",
       "      <td>C85</td>\n",
       "      <td>C</td>\n",
       "    </tr>\n",
       "    <tr>\n",
       "      <th>3</th>\n",
       "      <td>4</td>\n",
       "      <td>1</td>\n",
       "      <td>1</td>\n",
       "      <td>Futrelle, Mrs. Jacques Heath (Lily May Peel)</td>\n",
       "      <td>female</td>\n",
       "      <td>35.0</td>\n",
       "      <td>1</td>\n",
       "      <td>0</td>\n",
       "      <td>113803</td>\n",
       "      <td>53.1000</td>\n",
       "      <td>C123</td>\n",
       "      <td>S</td>\n",
       "    </tr>\n",
       "    <tr>\n",
       "      <th>6</th>\n",
       "      <td>7</td>\n",
       "      <td>0</td>\n",
       "      <td>1</td>\n",
       "      <td>McCarthy, Mr. Timothy J</td>\n",
       "      <td>male</td>\n",
       "      <td>54.0</td>\n",
       "      <td>0</td>\n",
       "      <td>0</td>\n",
       "      <td>17463</td>\n",
       "      <td>51.8625</td>\n",
       "      <td>E46</td>\n",
       "      <td>S</td>\n",
       "    </tr>\n",
       "    <tr>\n",
       "      <th>10</th>\n",
       "      <td>11</td>\n",
       "      <td>1</td>\n",
       "      <td>3</td>\n",
       "      <td>Sandstrom, Miss. Marguerite Rut</td>\n",
       "      <td>female</td>\n",
       "      <td>4.0</td>\n",
       "      <td>1</td>\n",
       "      <td>1</td>\n",
       "      <td>PP 9549</td>\n",
       "      <td>16.7000</td>\n",
       "      <td>G6</td>\n",
       "      <td>S</td>\n",
       "    </tr>\n",
       "    <tr>\n",
       "      <th>11</th>\n",
       "      <td>12</td>\n",
       "      <td>1</td>\n",
       "      <td>1</td>\n",
       "      <td>Bonnell, Miss. Elizabeth</td>\n",
       "      <td>female</td>\n",
       "      <td>58.0</td>\n",
       "      <td>0</td>\n",
       "      <td>0</td>\n",
       "      <td>113783</td>\n",
       "      <td>26.5500</td>\n",
       "      <td>C103</td>\n",
       "      <td>S</td>\n",
       "    </tr>\n",
       "  </tbody>\n",
       "</table>\n",
       "</div>"
      ],
      "text/plain": [
       "    PassengerId  Survived  Pclass  \\\n",
       "1             2         1       1   \n",
       "3             4         1       1   \n",
       "6             7         0       1   \n",
       "10           11         1       3   \n",
       "11           12         1       1   \n",
       "\n",
       "                                                 Name     Sex   Age  SibSp  \\\n",
       "1   Cumings, Mrs. John Bradley (Florence Briggs Th...  female  38.0      1   \n",
       "3        Futrelle, Mrs. Jacques Heath (Lily May Peel)  female  35.0      1   \n",
       "6                             McCarthy, Mr. Timothy J    male  54.0      0   \n",
       "10                    Sandstrom, Miss. Marguerite Rut  female   4.0      1   \n",
       "11                           Bonnell, Miss. Elizabeth  female  58.0      0   \n",
       "\n",
       "    Parch    Ticket     Fare Cabin Embarked  \n",
       "1       0  PC 17599  71.2833   C85        C  \n",
       "3       0    113803  53.1000  C123        S  \n",
       "6       0     17463  51.8625   E46        S  \n",
       "10      1   PP 9549  16.7000    G6        S  \n",
       "11      0    113783  26.5500  C103        S  "
      ]
     },
     "execution_count": 117,
     "metadata": {},
     "output_type": "execute_result"
    }
   ],
   "source": [
    "#TODO6 Explorar el dataset\n",
    "df.head()\n"
   ]
  },
  {
   "cell_type": "code",
   "execution_count": 118,
   "metadata": {},
   "outputs": [
    {
     "name": "stdout",
     "output_type": "stream",
     "text": [
      "<class 'pandas.core.frame.DataFrame'>\n",
      "Int64Index: 183 entries, 1 to 889\n",
      "Data columns (total 12 columns):\n",
      " #   Column       Non-Null Count  Dtype  \n",
      "---  ------       --------------  -----  \n",
      " 0   PassengerId  183 non-null    int64  \n",
      " 1   Survived     183 non-null    int64  \n",
      " 2   Pclass       183 non-null    int64  \n",
      " 3   Name         183 non-null    object \n",
      " 4   Sex          183 non-null    object \n",
      " 5   Age          183 non-null    float64\n",
      " 6   SibSp        183 non-null    int64  \n",
      " 7   Parch        183 non-null    int64  \n",
      " 8   Ticket       183 non-null    object \n",
      " 9   Fare         183 non-null    float64\n",
      " 10  Cabin        183 non-null    object \n",
      " 11  Embarked     183 non-null    object \n",
      "dtypes: float64(2), int64(5), object(5)\n",
      "memory usage: 18.6+ KB\n"
     ]
    }
   ],
   "source": [
    "df.info()"
   ]
  },
  {
   "cell_type": "code",
   "execution_count": 119,
   "metadata": {},
   "outputs": [
    {
     "data": {
      "text/plain": [
       "1    123\n",
       "0     60\n",
       "Name: Survived, dtype: int64"
      ]
     },
     "execution_count": 119,
     "metadata": {},
     "output_type": "execute_result"
    }
   ],
   "source": [
    "df['Survived'].value_counts()"
   ]
  },
  {
   "cell_type": "code",
   "execution_count": 120,
   "metadata": {},
   "outputs": [
    {
     "data": {
      "text/plain": [
       "male      95\n",
       "female    88\n",
       "Name: Sex, dtype: int64"
      ]
     },
     "execution_count": 120,
     "metadata": {},
     "output_type": "execute_result"
    }
   ],
   "source": [
    "df['Sex'].value_counts()"
   ]
  },
  {
   "cell_type": "code",
   "execution_count": 121,
   "metadata": {},
   "outputs": [
    {
     "data": {
      "text/plain": [
       "1    158\n",
       "2     15\n",
       "3     10\n",
       "Name: Pclass, dtype: int64"
      ]
     },
     "execution_count": 121,
     "metadata": {},
     "output_type": "execute_result"
    }
   ],
   "source": [
    "df['Pclass'].value_counts()"
   ]
  },
  {
   "cell_type": "code",
   "execution_count": 122,
   "metadata": {},
   "outputs": [
    {
     "data": {
      "text/plain": [
       "0    110\n",
       "1     64\n",
       "2      6\n",
       "3      3\n",
       "Name: SibSp, dtype: int64"
      ]
     },
     "execution_count": 122,
     "metadata": {},
     "output_type": "execute_result"
    }
   ],
   "source": [
    "df['SibSp'].value_counts()"
   ]
  },
  {
   "cell_type": "code",
   "execution_count": 123,
   "metadata": {},
   "outputs": [
    {
     "data": {
      "text/plain": [
       "0    122\n",
       "1     37\n",
       "2     23\n",
       "4      1\n",
       "Name: Parch, dtype: int64"
      ]
     },
     "execution_count": 123,
     "metadata": {},
     "output_type": "execute_result"
    }
   ],
   "source": [
    "df['Parch'].value_counts()"
   ]
  },
  {
   "cell_type": "code",
   "execution_count": 124,
   "metadata": {},
   "outputs": [
    {
     "data": {
      "text/plain": [
       "S    116\n",
       "C     65\n",
       "Q      2\n",
       "Name: Embarked, dtype: int64"
      ]
     },
     "execution_count": 124,
     "metadata": {},
     "output_type": "execute_result"
    }
   ],
   "source": [
    "df['Embarked'].value_counts()"
   ]
  },
  {
   "cell_type": "markdown",
   "metadata": {
    "id": "J0_OIMbr0ueD"
   },
   "source": [
    "**TODO7**: ¿Cuáles considera, de acuero a su intuición que son las variables más relevantes para predecir la columna 'Survived'? ¿Cuáles considera irrelevantes?¿Por qué?"
   ]
  },
  {
   "cell_type": "code",
   "execution_count": 163,
   "metadata": {
    "id": "iYLagSw_RRbm"
   },
   "outputs": [],
   "source": [
    "#Separar la columna objetivo.\n",
    "X=df.drop('Survived',axis=1)\n",
    "y=df['Survived']"
   ]
  },
  {
   "cell_type": "code",
   "execution_count": 164,
   "metadata": {
    "id": "7JdsO_6TFuTN"
   },
   "outputs": [],
   "source": [
    "#TODO8 Remover columnas que usted considera irrelevantes.\n",
    "X=X.drop(['Name','PassengerId','SibSp','Ticket','Fare','Cabin','Embarked'],axis=1)"
   ]
  },
  {
   "cell_type": "markdown",
   "metadata": {
    "id": "hjvGHlBPY0K-"
   },
   "source": [
    "Convertimos a dummies las columnas categóricas. Nos aseguramos de que las originales no permanezcan en la tabla. Se sugiere usar el parámetro drop_first = True si está trabajando con Getdummies. ¿Por qué cree que es conveniente usar este parámetro?"
   ]
  },
  {
   "cell_type": "code",
   "execution_count": 165,
   "metadata": {},
   "outputs": [
    {
     "data": {
      "text/html": [
       "<div>\n",
       "<style scoped>\n",
       "    .dataframe tbody tr th:only-of-type {\n",
       "        vertical-align: middle;\n",
       "    }\n",
       "\n",
       "    .dataframe tbody tr th {\n",
       "        vertical-align: top;\n",
       "    }\n",
       "\n",
       "    .dataframe thead th {\n",
       "        text-align: right;\n",
       "    }\n",
       "</style>\n",
       "<table border=\"1\" class=\"dataframe\">\n",
       "  <thead>\n",
       "    <tr style=\"text-align: right;\">\n",
       "      <th></th>\n",
       "      <th>Pclass</th>\n",
       "      <th>Sex</th>\n",
       "      <th>Age</th>\n",
       "      <th>Parch</th>\n",
       "    </tr>\n",
       "  </thead>\n",
       "  <tbody>\n",
       "    <tr>\n",
       "      <th>1</th>\n",
       "      <td>1</td>\n",
       "      <td>female</td>\n",
       "      <td>38.0</td>\n",
       "      <td>0</td>\n",
       "    </tr>\n",
       "    <tr>\n",
       "      <th>3</th>\n",
       "      <td>1</td>\n",
       "      <td>female</td>\n",
       "      <td>35.0</td>\n",
       "      <td>0</td>\n",
       "    </tr>\n",
       "    <tr>\n",
       "      <th>6</th>\n",
       "      <td>1</td>\n",
       "      <td>male</td>\n",
       "      <td>54.0</td>\n",
       "      <td>0</td>\n",
       "    </tr>\n",
       "    <tr>\n",
       "      <th>10</th>\n",
       "      <td>3</td>\n",
       "      <td>female</td>\n",
       "      <td>4.0</td>\n",
       "      <td>1</td>\n",
       "    </tr>\n",
       "    <tr>\n",
       "      <th>11</th>\n",
       "      <td>1</td>\n",
       "      <td>female</td>\n",
       "      <td>58.0</td>\n",
       "      <td>0</td>\n",
       "    </tr>\n",
       "  </tbody>\n",
       "</table>\n",
       "</div>"
      ],
      "text/plain": [
       "    Pclass     Sex   Age  Parch\n",
       "1        1  female  38.0      0\n",
       "3        1  female  35.0      0\n",
       "6        1    male  54.0      0\n",
       "10       3  female   4.0      1\n",
       "11       1  female  58.0      0"
      ]
     },
     "execution_count": 165,
     "metadata": {},
     "output_type": "execute_result"
    }
   ],
   "source": [
    "X.head()"
   ]
  },
  {
   "cell_type": "code",
   "execution_count": 166,
   "metadata": {
    "id": "0Z6hkkziHYAh"
   },
   "outputs": [
    {
     "data": {
      "text/html": [
       "<div>\n",
       "<style scoped>\n",
       "    .dataframe tbody tr th:only-of-type {\n",
       "        vertical-align: middle;\n",
       "    }\n",
       "\n",
       "    .dataframe tbody tr th {\n",
       "        vertical-align: top;\n",
       "    }\n",
       "\n",
       "    .dataframe thead th {\n",
       "        text-align: right;\n",
       "    }\n",
       "</style>\n",
       "<table border=\"1\" class=\"dataframe\">\n",
       "  <thead>\n",
       "    <tr style=\"text-align: right;\">\n",
       "      <th></th>\n",
       "      <th>Age</th>\n",
       "      <th>Parch</th>\n",
       "      <th>Pclass_2</th>\n",
       "      <th>Pclass_3</th>\n",
       "      <th>Sex_male</th>\n",
       "    </tr>\n",
       "  </thead>\n",
       "  <tbody>\n",
       "    <tr>\n",
       "      <th>1</th>\n",
       "      <td>38.0</td>\n",
       "      <td>0</td>\n",
       "      <td>0</td>\n",
       "      <td>0</td>\n",
       "      <td>0</td>\n",
       "    </tr>\n",
       "    <tr>\n",
       "      <th>3</th>\n",
       "      <td>35.0</td>\n",
       "      <td>0</td>\n",
       "      <td>0</td>\n",
       "      <td>0</td>\n",
       "      <td>0</td>\n",
       "    </tr>\n",
       "    <tr>\n",
       "      <th>6</th>\n",
       "      <td>54.0</td>\n",
       "      <td>0</td>\n",
       "      <td>0</td>\n",
       "      <td>0</td>\n",
       "      <td>1</td>\n",
       "    </tr>\n",
       "    <tr>\n",
       "      <th>10</th>\n",
       "      <td>4.0</td>\n",
       "      <td>1</td>\n",
       "      <td>0</td>\n",
       "      <td>1</td>\n",
       "      <td>0</td>\n",
       "    </tr>\n",
       "    <tr>\n",
       "      <th>11</th>\n",
       "      <td>58.0</td>\n",
       "      <td>0</td>\n",
       "      <td>0</td>\n",
       "      <td>0</td>\n",
       "      <td>0</td>\n",
       "    </tr>\n",
       "  </tbody>\n",
       "</table>\n",
       "</div>"
      ],
      "text/plain": [
       "     Age  Parch  Pclass_2  Pclass_3  Sex_male\n",
       "1   38.0      0         0         0         0\n",
       "3   35.0      0         0         0         0\n",
       "6   54.0      0         0         0         1\n",
       "10   4.0      1         0         1         0\n",
       "11  58.0      0         0         0         0"
      ]
     },
     "execution_count": 166,
     "metadata": {},
     "output_type": "execute_result"
    }
   ],
   "source": [
    "#TODO9 Convertir a dummies. Asegurarse de eliminar las columnas originales. Se sugiere usar el parámetro drop_first=True si se está trabajando con getdummies.\n",
    "X['Pclass'] = X['Pclass'].astype('category')\n",
    "X = pd.get_dummies(X, drop_first=True)\n",
    "X.head()"
   ]
  },
  {
   "cell_type": "code",
   "execution_count": 167,
   "metadata": {
    "id": "4kPUIxpLYCCC"
   },
   "outputs": [
    {
     "name": "stdout",
     "output_type": "stream",
     "text": [
      "<class 'pandas.core.frame.DataFrame'>\n",
      "Int64Index: 183 entries, 1 to 889\n",
      "Data columns (total 5 columns):\n",
      " #   Column    Non-Null Count  Dtype  \n",
      "---  ------    --------------  -----  \n",
      " 0   Age       183 non-null    float64\n",
      " 1   Parch     183 non-null    int64  \n",
      " 2   Pclass_2  183 non-null    uint8  \n",
      " 3   Pclass_3  183 non-null    uint8  \n",
      " 4   Sex_male  183 non-null    uint8  \n",
      "dtypes: float64(1), int64(1), uint8(3)\n",
      "memory usage: 4.8 KB\n"
     ]
    }
   ],
   "source": [
    "#Imprimir info de X\n",
    "X.info()"
   ]
  },
  {
   "cell_type": "code",
   "execution_count": 168,
   "metadata": {
    "id": "PtAfpNePYEXH"
   },
   "outputs": [],
   "source": [
    "X_train, X_test, y_train, y_test = train_test_split(X, y, random_state = 0, test_size=0.2, shuffle=True)"
   ]
  },
  {
   "cell_type": "markdown",
   "metadata": {
    "id": "KMI-RrTtZ_ew"
   },
   "source": [
    "Ahora entrenamos clasificadores de KNN con diferentes valores de k y visualizamos el cambio entre ellos."
   ]
  },
  {
   "cell_type": "code",
   "execution_count": 169,
   "metadata": {
    "id": "LkLTPdgR3wjt"
   },
   "outputs": [],
   "source": [
    "#TODO10 para k entre 1 y 100, entrenar knn en los datos de entrenamiento. Calcular sus respectivos scores\n",
    "# Guardar los scores en una lista llamada \"scores\".\n",
    "scores = []\n",
    "for i in range(100):\n",
    "    neigh = KNeighborsClassifier(n_neighbors=i+1)\n",
    "    neigh.fit(X_train, y_train)\n",
    "    scores.append(neigh.score(X_test,y_test))\n",
    "    "
   ]
  },
  {
   "cell_type": "code",
   "execution_count": 170,
   "metadata": {
    "id": "tgH9ocJUcFRa"
   },
   "outputs": [
    {
     "data": {
      "text/plain": [
       "[<matplotlib.lines.Line2D at 0x1bcc2e0dee0>]"
      ]
     },
     "execution_count": 170,
     "metadata": {},
     "output_type": "execute_result"
    },
    {
     "data": {
      "image/png": "[encoded data removed]",
      "text/plain": [
       "<Figure size 432x288 with 1 Axes>"
      ]
     },
     "metadata": {
      "needs_background": "light"
     },
     "output_type": "display_data"
    }
   ],
   "source": [
    "#Graficar scores\n",
    "plt.plot(scores)"
   ]
  },
  {
   "cell_type": "markdown",
   "metadata": {
    "id": "7PqA_ttX5OKX"
   },
   "source": [
    "**TODO11** ¿Qué se puede concluir a partir de la gráfica anterior?\n",
    "\n",
    "*R/* A partir de la gráfica podemos concluir que la mejor presición se encuentra tomando un K mayor a 80. \n",
    "\n",
    "**TODO12:** Determinar si las siguientes afirmaciones son verdaderas o falsas. Justificar su respuesta.\n",
    "\n",
    "- El score en el test set de 1-NN siempre será menor o igual que el de 5-NN.  \n",
    "\n",
    "**FALSO.** Depende de como los datos esten distribuidos.\n",
    "\n",
    "- El tiempo para clasificar una muestra del testset con k-NN crece con el tamaño del train set.\n",
    "\n",
    "**TRUE.** Porque, el tiempo de ejecución de una Query en K-NN es de Log(n)+K, lo cual es una muy buena complejidad computacional."
   ]
  },
  {
   "cell_type": "markdown",
   "metadata": {
    "id": "LVAyfDXOa7q7"
   },
   "source": [
    "## Titanic dataset usando pesos en la distancia."
   ]
  },
  {
   "cell_type": "markdown",
   "metadata": {
    "id": "r75ERgX0bGdx"
   },
   "source": [
    "A continuación usamos clasificadores de KNN dándole pesos a las distancias. \n",
    "\n",
    "**TODO13:** ¿Nota alguna diferencia con la clasificación sin pesos en las distancias? ¿Alguna hipótesis sobre el porqué?"
   ]
  },
  {
   "cell_type": "code",
   "execution_count": 171,
   "metadata": {
    "id": "XlgtFggZbc48"
   },
   "outputs": [
    {
     "name": "stdout",
     "output_type": "stream",
     "text": [
      "0.7297297297297297\n",
      "0.6756756756756757\n",
      "0.6756756756756757\n",
      "0.6756756756756757\n",
      "0.7567567567567568\n",
      "0.7297297297297297\n",
      "0.7567567567567568\n",
      "0.7567567567567568\n",
      "0.7297297297297297\n",
      "0.7297297297297297\n",
      "0.7297297297297297\n",
      "0.7297297297297297\n",
      "0.7297297297297297\n",
      "0.7297297297297297\n",
      "0.7567567567567568\n",
      "0.7297297297297297\n",
      "0.7297297297297297\n",
      "0.7297297297297297\n",
      "0.7297297297297297\n",
      "0.7297297297297297\n",
      "0.7297297297297297\n",
      "0.7297297297297297\n",
      "0.7297297297297297\n",
      "0.7297297297297297\n",
      "0.7297297297297297\n",
      "0.7297297297297297\n",
      "0.7297297297297297\n",
      "0.7297297297297297\n",
      "0.7297297297297297\n",
      "0.7297297297297297\n",
      "0.7567567567567568\n",
      "0.7567567567567568\n",
      "0.7297297297297297\n",
      "0.7297297297297297\n",
      "0.7297297297297297\n",
      "0.7297297297297297\n",
      "0.7297297297297297\n",
      "0.7297297297297297\n",
      "0.7297297297297297\n",
      "0.7297297297297297\n",
      "0.7567567567567568\n",
      "0.7567567567567568\n",
      "0.7567567567567568\n",
      "0.7567567567567568\n",
      "0.7567567567567568\n",
      "0.7567567567567568\n",
      "0.7567567567567568\n",
      "0.7567567567567568\n",
      "0.7567567567567568\n",
      "0.7567567567567568\n",
      "0.7567567567567568\n",
      "0.7567567567567568\n",
      "0.7567567567567568\n",
      "0.7567567567567568\n",
      "0.7567567567567568\n",
      "0.7567567567567568\n",
      "0.7567567567567568\n",
      "0.7567567567567568\n",
      "0.7567567567567568\n",
      "0.7567567567567568\n",
      "0.7567567567567568\n",
      "0.7567567567567568\n",
      "0.7567567567567568\n",
      "0.7567567567567568\n",
      "0.7567567567567568\n",
      "0.7567567567567568\n",
      "0.7567567567567568\n",
      "0.7567567567567568\n",
      "0.7567567567567568\n",
      "0.7567567567567568\n",
      "0.7567567567567568\n",
      "0.7567567567567568\n",
      "0.7567567567567568\n",
      "0.7567567567567568\n",
      "0.7567567567567568\n",
      "0.7567567567567568\n",
      "0.7567567567567568\n",
      "0.7567567567567568\n",
      "0.7567567567567568\n",
      "0.7567567567567568\n",
      "0.7567567567567568\n",
      "0.7567567567567568\n",
      "0.7567567567567568\n",
      "0.7567567567567568\n",
      "0.7567567567567568\n",
      "0.7567567567567568\n",
      "0.7567567567567568\n",
      "0.7567567567567568\n",
      "0.7567567567567568\n",
      "0.7567567567567568\n",
      "0.7567567567567568\n",
      "0.7297297297297297\n",
      "0.7837837837837838\n",
      "0.7567567567567568\n",
      "0.7837837837837838\n",
      "0.7297297297297297\n",
      "0.7567567567567568\n",
      "0.7297297297297297\n",
      "0.7567567567567568\n"
     ]
    }
   ],
   "source": [
    "# Weighted k-nn\n",
    "scores=[]\n",
    "for n in range(1,100):\n",
    "  knn = KNeighborsClassifier(n_neighbors=n, weights='distance')\n",
    "  knn.fit(X_train,y_train)\n",
    "  s=knn.score(X_test,y_test)\n",
    "  scores.append(s)\n",
    "  print(s)"
   ]
  },
  {
   "cell_type": "code",
   "execution_count": 172,
   "metadata": {
    "id": "EMK3f_vNb5wV"
   },
   "outputs": [
    {
     "data": {
      "text/plain": [
       "[<matplotlib.lines.Line2D at 0x1bcc2eee2e0>]"
      ]
     },
     "execution_count": 172,
     "metadata": {},
     "output_type": "execute_result"
    },
    {
     "data": {
      "image/png": "[encoded data removed]",
      "text/plain": [
       "<Figure size 432x288 with 1 Axes>"
      ]
     },
     "metadata": {
      "needs_background": "light"
     },
     "output_type": "display_data"
    }
   ],
   "source": [
    "#Graficar\n",
    "plt.plot(scores)"
   ]
  },
  {
   "cell_type": "markdown",
   "metadata": {},
   "source": [
    "**R/** Podemos darnos cuenta en comparación con el punto anterior que al tomar los pesos, verificando las distancias, la presición tiene niveles mas bajos y ahora se encuentra en valores mas especificos de K-NN entre 90 y 95 mostrando una caida despues. Esto puede estar sucediendo, ya que al considerar la distancia entre los vecinos se penaliza mas la inclusion de datos mas anomalos."
   ]
  }
 ],
 "metadata": {
  "colab": {
   "provenance": []
  },
  "kernelspec": {
   "display_name": "Python 3 (ipykernel)",
   "language": "python",
   "name": "python3"
  },
  "language_info": {
   "codemirror_mode": {
    "name": "ipython",
    "version": 3
   },
   "file_extension": ".py",
   "mimetype": "text/x-python",
   "name": "python",
   "nbconvert_exporter": "python",
   "pygments_lexer": "ipython3",
   "version": "3.9.12"
  }
 },
 "nbformat": 4,
 "nbformat_minor": 1
}
