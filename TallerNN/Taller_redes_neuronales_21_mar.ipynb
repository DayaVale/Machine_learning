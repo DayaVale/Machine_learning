{
 "cells": [
  {
   "cell_type": "markdown",
   "metadata": {
    "id": "MtJzIS1HeOsb"
   },
   "source": [
    "## Red neuronal para predicción de alquiler de bicicletas\n",
    "\n",
    "Construiremos una red neuronal, esta vez para un problema de regresión: predicción de la cantidad de bicicletas alquiladas, según el conjunto de datos *bikeshare_hour*, el cuál se proveerá. Adicionalmente, en esta ocasión encontraremos el mejor modelo usando un conjunto de validación.\n",
    "\n",
    "Cargar en formato .ipynb o .html en aulas a más tardar el día lunes 17 de marzo."
   ]
  },
  {
   "cell_type": "code",
   "execution_count": 1,
   "metadata": {
    "id": "kyuH3kGIVku9"
   },
   "outputs": [],
   "source": [
    "import numpy as np\n",
    "import pandas as pd\n",
    "import matplotlib.pyplot as plt\n",
    "\n",
    "from sklearn.model_selection import train_test_split\n",
    "\n",
    "import torch\n",
    "import torch.nn as nn\n",
    "import torch.nn.functional as F\n",
    "import torch.utils.data \n",
    "from torch.utils.data import DataLoader\n",
    "from torch.utils.data import TensorDataset"
   ]
  },
  {
   "cell_type": "markdown",
   "metadata": {
    "id": "EdmFWlr2eN2E"
   },
   "source": [
    "### Cargar y preparar los datos\n",
    "\n",
    "Un paso muy importante en redes neuronales es preparar correctamente los datos. Variables con diferentes escalas le dificulta a la red aprender eficientemente los pesos correctos. \n"
   ]
  },
  {
   "cell_type": "code",
   "execution_count": 8,
   "metadata": {
    "id": "KooB2GeojdYl"
   },
   "outputs": [
    {
     "data": {
      "text/html": [
       "<div>\n",
       "<style scoped>\n",
       "    .dataframe tbody tr th:only-of-type {\n",
       "        vertical-align: middle;\n",
       "    }\n",
       "\n",
       "    .dataframe tbody tr th {\n",
       "        vertical-align: top;\n",
       "    }\n",
       "\n",
       "    .dataframe thead th {\n",
       "        text-align: right;\n",
       "    }\n",
       "</style>\n",
       "<table border=\"1\" class=\"dataframe\">\n",
       "  <thead>\n",
       "    <tr style=\"text-align: right;\">\n",
       "      <th></th>\n",
       "      <th>instant</th>\n",
       "      <th>dteday</th>\n",
       "      <th>season</th>\n",
       "      <th>yr</th>\n",
       "      <th>mnth</th>\n",
       "      <th>hr</th>\n",
       "      <th>holiday</th>\n",
       "      <th>weekday</th>\n",
       "      <th>workingday</th>\n",
       "      <th>weathersit</th>\n",
       "      <th>temp</th>\n",
       "      <th>atemp</th>\n",
       "      <th>hum</th>\n",
       "      <th>windspeed</th>\n",
       "      <th>casual</th>\n",
       "      <th>registered</th>\n",
       "      <th>cnt</th>\n",
       "    </tr>\n",
       "  </thead>\n",
       "  <tbody>\n",
       "    <tr>\n",
       "      <th>0</th>\n",
       "      <td>1</td>\n",
       "      <td>2011-01-01</td>\n",
       "      <td>1</td>\n",
       "      <td>0</td>\n",
       "      <td>1</td>\n",
       "      <td>0</td>\n",
       "      <td>0</td>\n",
       "      <td>6</td>\n",
       "      <td>0</td>\n",
       "      <td>1</td>\n",
       "      <td>0.24</td>\n",
       "      <td>0.2879</td>\n",
       "      <td>0.81</td>\n",
       "      <td>0.0</td>\n",
       "      <td>3</td>\n",
       "      <td>13</td>\n",
       "      <td>16</td>\n",
       "    </tr>\n",
       "    <tr>\n",
       "      <th>1</th>\n",
       "      <td>2</td>\n",
       "      <td>2011-01-01</td>\n",
       "      <td>1</td>\n",
       "      <td>0</td>\n",
       "      <td>1</td>\n",
       "      <td>1</td>\n",
       "      <td>0</td>\n",
       "      <td>6</td>\n",
       "      <td>0</td>\n",
       "      <td>1</td>\n",
       "      <td>0.22</td>\n",
       "      <td>0.2727</td>\n",
       "      <td>0.80</td>\n",
       "      <td>0.0</td>\n",
       "      <td>8</td>\n",
       "      <td>32</td>\n",
       "      <td>40</td>\n",
       "    </tr>\n",
       "    <tr>\n",
       "      <th>2</th>\n",
       "      <td>3</td>\n",
       "      <td>2011-01-01</td>\n",
       "      <td>1</td>\n",
       "      <td>0</td>\n",
       "      <td>1</td>\n",
       "      <td>2</td>\n",
       "      <td>0</td>\n",
       "      <td>6</td>\n",
       "      <td>0</td>\n",
       "      <td>1</td>\n",
       "      <td>0.22</td>\n",
       "      <td>0.2727</td>\n",
       "      <td>0.80</td>\n",
       "      <td>0.0</td>\n",
       "      <td>5</td>\n",
       "      <td>27</td>\n",
       "      <td>32</td>\n",
       "    </tr>\n",
       "    <tr>\n",
       "      <th>3</th>\n",
       "      <td>4</td>\n",
       "      <td>2011-01-01</td>\n",
       "      <td>1</td>\n",
       "      <td>0</td>\n",
       "      <td>1</td>\n",
       "      <td>3</td>\n",
       "      <td>0</td>\n",
       "      <td>6</td>\n",
       "      <td>0</td>\n",
       "      <td>1</td>\n",
       "      <td>0.24</td>\n",
       "      <td>0.2879</td>\n",
       "      <td>0.75</td>\n",
       "      <td>0.0</td>\n",
       "      <td>3</td>\n",
       "      <td>10</td>\n",
       "      <td>13</td>\n",
       "    </tr>\n",
       "    <tr>\n",
       "      <th>4</th>\n",
       "      <td>5</td>\n",
       "      <td>2011-01-01</td>\n",
       "      <td>1</td>\n",
       "      <td>0</td>\n",
       "      <td>1</td>\n",
       "      <td>4</td>\n",
       "      <td>0</td>\n",
       "      <td>6</td>\n",
       "      <td>0</td>\n",
       "      <td>1</td>\n",
       "      <td>0.24</td>\n",
       "      <td>0.2879</td>\n",
       "      <td>0.75</td>\n",
       "      <td>0.0</td>\n",
       "      <td>0</td>\n",
       "      <td>1</td>\n",
       "      <td>1</td>\n",
       "    </tr>\n",
       "  </tbody>\n",
       "</table>\n",
       "</div>"
      ],
      "text/plain": [
       "   instant      dteday  season  yr  mnth  hr  holiday  weekday  workingday  \\\n",
       "0        1  2011-01-01       1   0     1   0        0        6           0   \n",
       "1        2  2011-01-01       1   0     1   1        0        6           0   \n",
       "2        3  2011-01-01       1   0     1   2        0        6           0   \n",
       "3        4  2011-01-01       1   0     1   3        0        6           0   \n",
       "4        5  2011-01-01       1   0     1   4        0        6           0   \n",
       "\n",
       "   weathersit  temp   atemp   hum  windspeed  casual  registered  cnt  \n",
       "0           1  0.24  0.2879  0.81        0.0       3          13   16  \n",
       "1           1  0.22  0.2727  0.80        0.0       8          32   40  \n",
       "2           1  0.22  0.2727  0.80        0.0       5          27   32  \n",
       "3           1  0.24  0.2879  0.75        0.0       3          10   13  \n",
       "4           1  0.24  0.2879  0.75        0.0       0           1    1  "
      ]
     },
     "execution_count": 8,
     "metadata": {},
     "output_type": "execute_result"
    }
   ],
   "source": [
    "df=pd.read_csv('bikeshare_hour.csv')\n",
    "df.head()"
   ]
  },
  {
   "cell_type": "markdown",
   "metadata": {
    "id": "nJbJ0xUkj0Oq"
   },
   "source": [
    "Este dataset contiene el número de alquileres para cada hora de cada día desde Enero 1 de 2011 hasta Diciembre 31 de 2012. El número de usuarios que alquilaron se divide en regitrados *(registered)* y casuales *(casual)*, los cuales se suman en la columna *cnt*, la cuál será nuestra variable objetivo.\n",
    "\n",
    "\n",
    "Los fines de semana tienen un número más bajo de alquileres y hay picos cuando las personas se dirigen desde y hacia el trabajo durante la semana También tenemos información acerca de la temperatura, humedad, velocidad del viento, todas estas afectando el npumero de alquileres. Trataremos de capturar esta información con nuestro modelo.\n",
    "\n"
   ]
  },
  {
   "cell_type": "code",
   "execution_count": 9,
   "metadata": {
    "id": "hKOhx_hRmUek"
   },
   "outputs": [
    {
     "data": {
      "text/plain": [
       "<AxesSubplot:xlabel='dteday'>"
      ]
     },
     "execution_count": 9,
     "metadata": {},
     "output_type": "execute_result"
    },
    {
     "data": {
      "image/png": "[encoded data removed]",
      "text/plain": [
       "<Figure size 432x288 with 1 Axes>"
      ]
     },
     "metadata": {
      "needs_background": "light"
     },
     "output_type": "display_data"
    }
   ],
   "source": [
    "df[:24*10].plot(x='dteday', y='cnt')"
   ]
  },
  {
   "cell_type": "markdown",
   "metadata": {
    "id": "9FPYGLaqmVdj"
   },
   "source": [
    "Hay algunas variables categóricas: **season**, **weathersit**, **mnth**, **hr**, **weekday**. Nevesitamos crear variables dummy para éstas. \n",
    "\n",
    "Así mismo, eliminaremos algunas variables que redundan o no aportan para el modelamiento el modelamiento: **instant**, **dteday**, **atemp**, **workingday**,**registered**, **casual** así como las **columnas originales de las variables que convertimos en dummies** si es necesario."
   ]
  },
  {
   "cell_type": "code",
   "execution_count": 10,
   "metadata": {},
   "outputs": [
    {
     "name": "stdout",
     "output_type": "stream",
     "text": [
      "<class 'pandas.core.frame.DataFrame'>\n",
      "RangeIndex: 17379 entries, 0 to 17378\n",
      "Data columns (total 17 columns):\n",
      " #   Column      Non-Null Count  Dtype  \n",
      "---  ------      --------------  -----  \n",
      " 0   instant     17379 non-null  int64  \n",
      " 1   dteday      17379 non-null  object \n",
      " 2   season      17379 non-null  int64  \n",
      " 3   yr          17379 non-null  int64  \n",
      " 4   mnth        17379 non-null  int64  \n",
      " 5   hr          17379 non-null  int64  \n",
      " 6   holiday     17379 non-null  int64  \n",
      " 7   weekday     17379 non-null  int64  \n",
      " 8   workingday  17379 non-null  int64  \n",
      " 9   weathersit  17379 non-null  int64  \n",
      " 10  temp        17379 non-null  float64\n",
      " 11  atemp       17379 non-null  float64\n",
      " 12  hum         17379 non-null  float64\n",
      " 13  windspeed   17379 non-null  float64\n",
      " 14  casual      17379 non-null  int64  \n",
      " 15  registered  17379 non-null  int64  \n",
      " 16  cnt         17379 non-null  int64  \n",
      "dtypes: float64(4), int64(12), object(1)\n",
      "memory usage: 2.3+ MB\n"
     ]
    }
   ],
   "source": [
    "df.info()"
   ]
  },
  {
   "cell_type": "code",
   "execution_count": 11,
   "metadata": {},
   "outputs": [],
   "source": [
    "df['season'] = df['season'].astype('category')\n",
    "df['hr'] = df['hr'].astype('category')\n",
    "df['weathersit'] = df['weathersit'].astype('category')\n",
    "df['weekday'] = df['weekday'].astype('category')\n",
    "df['mnth'] = df['mnth'].astype('category')"
   ]
  },
  {
   "cell_type": "code",
   "execution_count": 12,
   "metadata": {
    "id": "nNl0uDVTmsqr"
   },
   "outputs": [
    {
     "data": {
      "text/html": [
       "<div>\n",
       "<style scoped>\n",
       "    .dataframe tbody tr th:only-of-type {\n",
       "        vertical-align: middle;\n",
       "    }\n",
       "\n",
       "    .dataframe tbody tr th {\n",
       "        vertical-align: top;\n",
       "    }\n",
       "\n",
       "    .dataframe thead th {\n",
       "        text-align: right;\n",
       "    }\n",
       "</style>\n",
       "<table border=\"1\" class=\"dataframe\">\n",
       "  <thead>\n",
       "    <tr style=\"text-align: right;\">\n",
       "      <th></th>\n",
       "      <th>yr</th>\n",
       "      <th>holiday</th>\n",
       "      <th>temp</th>\n",
       "      <th>hum</th>\n",
       "      <th>windspeed</th>\n",
       "      <th>cnt</th>\n",
       "      <th>season_2</th>\n",
       "      <th>season_3</th>\n",
       "      <th>season_4</th>\n",
       "      <th>mnth_2</th>\n",
       "      <th>...</th>\n",
       "      <th>hr_23</th>\n",
       "      <th>weekday_1</th>\n",
       "      <th>weekday_2</th>\n",
       "      <th>weekday_3</th>\n",
       "      <th>weekday_4</th>\n",
       "      <th>weekday_5</th>\n",
       "      <th>weekday_6</th>\n",
       "      <th>weathersit_2</th>\n",
       "      <th>weathersit_3</th>\n",
       "      <th>weathersit_4</th>\n",
       "    </tr>\n",
       "  </thead>\n",
       "  <tbody>\n",
       "    <tr>\n",
       "      <th>0</th>\n",
       "      <td>0</td>\n",
       "      <td>0</td>\n",
       "      <td>0.24</td>\n",
       "      <td>0.81</td>\n",
       "      <td>0.0</td>\n",
       "      <td>16</td>\n",
       "      <td>0</td>\n",
       "      <td>0</td>\n",
       "      <td>0</td>\n",
       "      <td>0</td>\n",
       "      <td>...</td>\n",
       "      <td>0</td>\n",
       "      <td>0</td>\n",
       "      <td>0</td>\n",
       "      <td>0</td>\n",
       "      <td>0</td>\n",
       "      <td>0</td>\n",
       "      <td>1</td>\n",
       "      <td>0</td>\n",
       "      <td>0</td>\n",
       "      <td>0</td>\n",
       "    </tr>\n",
       "    <tr>\n",
       "      <th>1</th>\n",
       "      <td>0</td>\n",
       "      <td>0</td>\n",
       "      <td>0.22</td>\n",
       "      <td>0.80</td>\n",
       "      <td>0.0</td>\n",
       "      <td>40</td>\n",
       "      <td>0</td>\n",
       "      <td>0</td>\n",
       "      <td>0</td>\n",
       "      <td>0</td>\n",
       "      <td>...</td>\n",
       "      <td>0</td>\n",
       "      <td>0</td>\n",
       "      <td>0</td>\n",
       "      <td>0</td>\n",
       "      <td>0</td>\n",
       "      <td>0</td>\n",
       "      <td>1</td>\n",
       "      <td>0</td>\n",
       "      <td>0</td>\n",
       "      <td>0</td>\n",
       "    </tr>\n",
       "    <tr>\n",
       "      <th>2</th>\n",
       "      <td>0</td>\n",
       "      <td>0</td>\n",
       "      <td>0.22</td>\n",
       "      <td>0.80</td>\n",
       "      <td>0.0</td>\n",
       "      <td>32</td>\n",
       "      <td>0</td>\n",
       "      <td>0</td>\n",
       "      <td>0</td>\n",
       "      <td>0</td>\n",
       "      <td>...</td>\n",
       "      <td>0</td>\n",
       "      <td>0</td>\n",
       "      <td>0</td>\n",
       "      <td>0</td>\n",
       "      <td>0</td>\n",
       "      <td>0</td>\n",
       "      <td>1</td>\n",
       "      <td>0</td>\n",
       "      <td>0</td>\n",
       "      <td>0</td>\n",
       "    </tr>\n",
       "    <tr>\n",
       "      <th>3</th>\n",
       "      <td>0</td>\n",
       "      <td>0</td>\n",
       "      <td>0.24</td>\n",
       "      <td>0.75</td>\n",
       "      <td>0.0</td>\n",
       "      <td>13</td>\n",
       "      <td>0</td>\n",
       "      <td>0</td>\n",
       "      <td>0</td>\n",
       "      <td>0</td>\n",
       "      <td>...</td>\n",
       "      <td>0</td>\n",
       "      <td>0</td>\n",
       "      <td>0</td>\n",
       "      <td>0</td>\n",
       "      <td>0</td>\n",
       "      <td>0</td>\n",
       "      <td>1</td>\n",
       "      <td>0</td>\n",
       "      <td>0</td>\n",
       "      <td>0</td>\n",
       "    </tr>\n",
       "    <tr>\n",
       "      <th>4</th>\n",
       "      <td>0</td>\n",
       "      <td>0</td>\n",
       "      <td>0.24</td>\n",
       "      <td>0.75</td>\n",
       "      <td>0.0</td>\n",
       "      <td>1</td>\n",
       "      <td>0</td>\n",
       "      <td>0</td>\n",
       "      <td>0</td>\n",
       "      <td>0</td>\n",
       "      <td>...</td>\n",
       "      <td>0</td>\n",
       "      <td>0</td>\n",
       "      <td>0</td>\n",
       "      <td>0</td>\n",
       "      <td>0</td>\n",
       "      <td>0</td>\n",
       "      <td>1</td>\n",
       "      <td>0</td>\n",
       "      <td>0</td>\n",
       "      <td>0</td>\n",
       "    </tr>\n",
       "  </tbody>\n",
       "</table>\n",
       "<p>5 rows × 52 columns</p>\n",
       "</div>"
      ],
      "text/plain": [
       "   yr  holiday  temp   hum  windspeed  cnt  season_2  season_3  season_4  \\\n",
       "0   0        0  0.24  0.81        0.0   16         0         0         0   \n",
       "1   0        0  0.22  0.80        0.0   40         0         0         0   \n",
       "2   0        0  0.22  0.80        0.0   32         0         0         0   \n",
       "3   0        0  0.24  0.75        0.0   13         0         0         0   \n",
       "4   0        0  0.24  0.75        0.0    1         0         0         0   \n",
       "\n",
       "   mnth_2  ...  hr_23  weekday_1  weekday_2  weekday_3  weekday_4  weekday_5  \\\n",
       "0       0  ...      0          0          0          0          0          0   \n",
       "1       0  ...      0          0          0          0          0          0   \n",
       "2       0  ...      0          0          0          0          0          0   \n",
       "3       0  ...      0          0          0          0          0          0   \n",
       "4       0  ...      0          0          0          0          0          0   \n",
       "\n",
       "   weekday_6  weathersit_2  weathersit_3  weathersit_4  \n",
       "0          1             0             0             0  \n",
       "1          1             0             0             0  \n",
       "2          1             0             0             0  \n",
       "3          1             0             0             0  \n",
       "4          1             0             0             0  \n",
       "\n",
       "[5 rows x 52 columns]"
      ]
     },
     "execution_count": 12,
     "metadata": {},
     "output_type": "execute_result"
    }
   ],
   "source": [
    "# TO_DO1 Crear las variables dummies indicadas, y eliminar los atributos indicados\n",
    "df = df.drop(columns = [ 'instant', 'dteday', 'atemp', 'workingday','registered', 'casual'])\n",
    "\n",
    "df = pd.get_dummies(df, drop_first = True)\n",
    "df.head()"
   ]
  },
  {
   "cell_type": "markdown",
   "metadata": {
    "id": "P9lXcUDhoI4x"
   },
   "source": [
    "#### Cambiar la escala en variables cuantitativas (normalizar).\n",
    "Para que el entrenamiento sea más fácil, estandarizaremos los datos de las variables contínuas, de manera que tengan media 0 y desviación estandar 1. \n",
    "\n",
    "Para esto, en las columnas de variables contínuas usamos la media y desviación estandar de la respectiva columna\n",
    "\n",
    "$$col:=\\frac{col-mean}{standardeviation}$$ "
   ]
  },
  {
   "cell_type": "code",
   "execution_count": 18,
   "metadata": {
    "id": "-R8AjJzJoBGJ"
   },
   "outputs": [
    {
     "data": {
      "text/html": [
       "<div>\n",
       "<style scoped>\n",
       "    .dataframe tbody tr th:only-of-type {\n",
       "        vertical-align: middle;\n",
       "    }\n",
       "\n",
       "    .dataframe tbody tr th {\n",
       "        vertical-align: top;\n",
       "    }\n",
       "\n",
       "    .dataframe thead th {\n",
       "        text-align: right;\n",
       "    }\n",
       "</style>\n",
       "<table border=\"1\" class=\"dataframe\">\n",
       "  <thead>\n",
       "    <tr style=\"text-align: right;\">\n",
       "      <th></th>\n",
       "      <th>yr</th>\n",
       "      <th>holiday</th>\n",
       "      <th>temp</th>\n",
       "      <th>hum</th>\n",
       "      <th>windspeed</th>\n",
       "      <th>cnt</th>\n",
       "      <th>season_2</th>\n",
       "      <th>season_3</th>\n",
       "      <th>season_4</th>\n",
       "      <th>mnth_2</th>\n",
       "      <th>...</th>\n",
       "      <th>hr_23</th>\n",
       "      <th>weekday_1</th>\n",
       "      <th>weekday_2</th>\n",
       "      <th>weekday_3</th>\n",
       "      <th>weekday_4</th>\n",
       "      <th>weekday_5</th>\n",
       "      <th>weekday_6</th>\n",
       "      <th>weathersit_2</th>\n",
       "      <th>weathersit_3</th>\n",
       "      <th>weathersit_4</th>\n",
       "    </tr>\n",
       "  </thead>\n",
       "  <tbody>\n",
       "    <tr>\n",
       "      <th>0</th>\n",
       "      <td>0</td>\n",
       "      <td>0</td>\n",
       "      <td>-1.334609</td>\n",
       "      <td>0.947345</td>\n",
       "      <td>-1.553844</td>\n",
       "      <td>-0.956312</td>\n",
       "      <td>0</td>\n",
       "      <td>0</td>\n",
       "      <td>0</td>\n",
       "      <td>0</td>\n",
       "      <td>...</td>\n",
       "      <td>0</td>\n",
       "      <td>0</td>\n",
       "      <td>0</td>\n",
       "      <td>0</td>\n",
       "      <td>0</td>\n",
       "      <td>0</td>\n",
       "      <td>1</td>\n",
       "      <td>0</td>\n",
       "      <td>0</td>\n",
       "      <td>0</td>\n",
       "    </tr>\n",
       "    <tr>\n",
       "      <th>1</th>\n",
       "      <td>0</td>\n",
       "      <td>0</td>\n",
       "      <td>-1.438475</td>\n",
       "      <td>0.895513</td>\n",
       "      <td>-1.553844</td>\n",
       "      <td>-0.823998</td>\n",
       "      <td>0</td>\n",
       "      <td>0</td>\n",
       "      <td>0</td>\n",
       "      <td>0</td>\n",
       "      <td>...</td>\n",
       "      <td>0</td>\n",
       "      <td>0</td>\n",
       "      <td>0</td>\n",
       "      <td>0</td>\n",
       "      <td>0</td>\n",
       "      <td>0</td>\n",
       "      <td>1</td>\n",
       "      <td>0</td>\n",
       "      <td>0</td>\n",
       "      <td>0</td>\n",
       "    </tr>\n",
       "    <tr>\n",
       "      <th>2</th>\n",
       "      <td>0</td>\n",
       "      <td>0</td>\n",
       "      <td>-1.438475</td>\n",
       "      <td>0.895513</td>\n",
       "      <td>-1.553844</td>\n",
       "      <td>-0.868103</td>\n",
       "      <td>0</td>\n",
       "      <td>0</td>\n",
       "      <td>0</td>\n",
       "      <td>0</td>\n",
       "      <td>...</td>\n",
       "      <td>0</td>\n",
       "      <td>0</td>\n",
       "      <td>0</td>\n",
       "      <td>0</td>\n",
       "      <td>0</td>\n",
       "      <td>0</td>\n",
       "      <td>1</td>\n",
       "      <td>0</td>\n",
       "      <td>0</td>\n",
       "      <td>0</td>\n",
       "    </tr>\n",
       "    <tr>\n",
       "      <th>3</th>\n",
       "      <td>0</td>\n",
       "      <td>0</td>\n",
       "      <td>-1.334609</td>\n",
       "      <td>0.636351</td>\n",
       "      <td>-1.553844</td>\n",
       "      <td>-0.972851</td>\n",
       "      <td>0</td>\n",
       "      <td>0</td>\n",
       "      <td>0</td>\n",
       "      <td>0</td>\n",
       "      <td>...</td>\n",
       "      <td>0</td>\n",
       "      <td>0</td>\n",
       "      <td>0</td>\n",
       "      <td>0</td>\n",
       "      <td>0</td>\n",
       "      <td>0</td>\n",
       "      <td>1</td>\n",
       "      <td>0</td>\n",
       "      <td>0</td>\n",
       "      <td>0</td>\n",
       "    </tr>\n",
       "    <tr>\n",
       "      <th>4</th>\n",
       "      <td>0</td>\n",
       "      <td>0</td>\n",
       "      <td>-1.334609</td>\n",
       "      <td>0.636351</td>\n",
       "      <td>-1.553844</td>\n",
       "      <td>-1.039008</td>\n",
       "      <td>0</td>\n",
       "      <td>0</td>\n",
       "      <td>0</td>\n",
       "      <td>0</td>\n",
       "      <td>...</td>\n",
       "      <td>0</td>\n",
       "      <td>0</td>\n",
       "      <td>0</td>\n",
       "      <td>0</td>\n",
       "      <td>0</td>\n",
       "      <td>0</td>\n",
       "      <td>1</td>\n",
       "      <td>0</td>\n",
       "      <td>0</td>\n",
       "      <td>0</td>\n",
       "    </tr>\n",
       "  </tbody>\n",
       "</table>\n",
       "<p>5 rows × 52 columns</p>\n",
       "</div>"
      ],
      "text/plain": [
       "   yr  holiday      temp       hum  windspeed       cnt  season_2  season_3  \\\n",
       "0   0        0 -1.334609  0.947345  -1.553844 -0.956312         0         0   \n",
       "1   0        0 -1.438475  0.895513  -1.553844 -0.823998         0         0   \n",
       "2   0        0 -1.438475  0.895513  -1.553844 -0.868103         0         0   \n",
       "3   0        0 -1.334609  0.636351  -1.553844 -0.972851         0         0   \n",
       "4   0        0 -1.334609  0.636351  -1.553844 -1.039008         0         0   \n",
       "\n",
       "   season_4  mnth_2  ...  hr_23  weekday_1  weekday_2  weekday_3  weekday_4  \\\n",
       "0         0       0  ...      0          0          0          0          0   \n",
       "1         0       0  ...      0          0          0          0          0   \n",
       "2         0       0  ...      0          0          0          0          0   \n",
       "3         0       0  ...      0          0          0          0          0   \n",
       "4         0       0  ...      0          0          0          0          0   \n",
       "\n",
       "   weekday_5  weekday_6  weathersit_2  weathersit_3  weathersit_4  \n",
       "0          0          1             0             0             0  \n",
       "1          0          1             0             0             0  \n",
       "2          0          1             0             0             0  \n",
       "3          0          1             0             0             0  \n",
       "4          0          1             0             0             0  \n",
       "\n",
       "[5 rows x 52 columns]"
      ]
     },
     "execution_count": 18,
     "metadata": {},
     "output_type": "execute_result"
    }
   ],
   "source": [
    "# TO_DO 2 Estandarizar las columnas cuantitativas: cnt, temp, hum, windspeed.\n",
    "target_mean = df['cnt'].mean()\n",
    "target_std = df['cnt'].std()\n",
    "df['cnt'] = (df['cnt'] - df['cnt'].mean()) / df['cnt'].std()\n",
    "df['temp'] = (df['temp'] - df['temp'].mean()) / df['temp'].std()\n",
    "df['hum'] = (df['hum'] - df['hum'].mean()) / df['hum'].std()\n",
    "df['windspeed'] = (df['windspeed'] - df['windspeed'].mean()) / df['windspeed'].std()\n",
    "\n",
    "df.head()"
   ]
  },
  {
   "cell_type": "markdown",
   "metadata": {
    "id": "_5mCaI9Armma"
   },
   "source": [
    "#### Crear conjuntos de entrenamiento, validación y test\n",
    "\n",
    "En esta ocasión seleccionaremos los conjuntos de entrenamiento, vlaidación y test de forma ordenada. Para el test, seleccionaer los datos de aproximadamente los últimos 21 días. Para el conjunto de validación, tomar los datos de aproximadamente los últimos 60 días de los datos restantes."
   ]
  },
  {
   "cell_type": "code",
   "execution_count": 47,
   "metadata": {
    "id": "UcA98WZnrlGv"
   },
   "outputs": [],
   "source": [
    "# TO_DO3 Definir los conjuntos de train, test y validation. Darles los nombres train, val, test.\n",
    "test = df[-24*21:]\n",
    "val = df[-84*21:-24*21]\n",
    "train = df[:-84*21]"
   ]
  },
  {
   "cell_type": "markdown",
   "metadata": {
    "id": "oe0XyxIFtS1U"
   },
   "source": [
    "#### Convertir los datos a tensores y prepararlos para alimentar la red\n",
    "A continuación  crearemos una clase (*MyDataset*) que nos prepara los datos para alimentar la red neuronal, convirtiendolos a parejas ordenadas de tensores conteniento los atributos y la variable objetivo. Sus parámetros son: el dataset df y el nombre de la columna objetivo en el dataset.\n"
   ]
  },
  {
   "cell_type": "code",
   "execution_count": 48,
   "metadata": {
    "id": "ovRt0NLytnF5"
   },
   "outputs": [],
   "source": [
    "class MyDataset():\n",
    " \n",
    "  def __init__(self,df,target_column):\n",
    "    #price_df=pd.read_csv(file_name)\n",
    " \n",
    "    #x=price_df.iloc[:,0:8].values\n",
    "    #y=price_df.iloc[:,8].values\n",
    "    # y_train = df_train['activity']\n",
    "    # X_train = \n",
    "    y=df[target_column].values\n",
    "    X=df.drop(target_column,axis=1).values\n",
    "    self.X=torch.tensor(X,dtype=torch.float32)\n",
    "    self.y=torch.tensor(y,dtype=torch.float32)\n",
    " \n",
    "  def __len__(self):\n",
    "    return len(self.y)\n",
    "   \n",
    "  def __getitem__(self,idx):\n",
    "    return self.X[idx],self.y[idx]"
   ]
  },
  {
   "cell_type": "markdown",
   "metadata": {
    "id": "CB1Wuh0yuTe_"
   },
   "source": [
    "Ahora usamos los Dataloaders para los conjuntos set, val y test."
   ]
  },
  {
   "cell_type": "code",
   "execution_count": 49,
   "metadata": {
    "id": "QZs4EuDTuVai"
   },
   "outputs": [],
   "source": [
    "# Usar la clase MyDataset para preparar cada conjunto en forma de tensores\n",
    "train_sec=MyDataset(train,'cnt')\n",
    "test_sec=MyDataset(test,'cnt')\n",
    "val_sec=MyDataset(val,'cnt')"
   ]
  },
  {
   "cell_type": "code",
   "execution_count": 50,
   "metadata": {
    "id": "yJjcOaN7ukXs"
   },
   "outputs": [],
   "source": [
    "# Definir los DataLoaders para cargar la información pro lotes\n",
    "train_data=DataLoader(\n",
    "    train_sec,\n",
    "    batch_size=1,\n",
    "    shuffle=False,\n",
    "    #num_workers=0,\n",
    "    #collate_fn=None,\n",
    "    #pin_memory=False,\n",
    " )\n",
    "\n",
    "test_data=DataLoader(\n",
    "    test_sec,\n",
    "    batch_size=3,\n",
    "    shuffle=False,\n",
    "    num_workers=0,\n",
    "    collate_fn=None,\n",
    "    pin_memory=False,\n",
    " )\n",
    "\n",
    "val_data=DataLoader(\n",
    "    val_sec,\n",
    "    batch_size=3,\n",
    "    shuffle=False,\n",
    "    num_workers=0,\n",
    "    collate_fn=None,\n",
    "    pin_memory=False,\n",
    " )"
   ]
  },
  {
   "cell_type": "markdown",
   "metadata": {
    "id": "OLnxN2WNvPxG"
   },
   "source": [
    "Vamos a imprimir el primer bath del Test Set para visualizar y entender, sus tamaños y cómo el Dataloader ingresan los datos a la red neuronal."
   ]
  },
  {
   "cell_type": "code",
   "execution_count": 51,
   "metadata": {
    "id": "YN3DMvb9umEU"
   },
   "outputs": [
    {
     "name": "stdout",
     "output_type": "stream",
     "text": [
      "torch.Size([3, 51]) torch.Size([3])\n",
      "tensor([[ 1.0000,  0.0000,  0.0156,  0.9992,  0.2763,  0.0000,  0.0000,  1.0000,\n",
      "          0.0000,  0.0000,  0.0000,  0.0000,  0.0000,  0.0000,  0.0000,  0.0000,\n",
      "          0.0000,  0.0000,  1.0000,  0.0000,  0.0000,  0.0000,  0.0000,  0.0000,\n",
      "          0.0000,  0.0000,  0.0000,  0.0000,  0.0000,  0.0000,  0.0000,  0.0000,\n",
      "          0.0000,  0.0000,  0.0000,  0.0000,  0.0000,  0.0000,  0.0000,  0.0000,\n",
      "          1.0000,  0.0000,  1.0000,  0.0000,  0.0000,  0.0000,  0.0000,  0.0000,\n",
      "          1.0000,  0.0000,  0.0000],\n",
      "        [ 1.0000,  0.0000, -0.1921,  1.3102,  0.5199,  0.0000,  0.0000,  1.0000,\n",
      "          0.0000,  0.0000,  0.0000,  0.0000,  0.0000,  0.0000,  0.0000,  0.0000,\n",
      "          0.0000,  0.0000,  1.0000,  0.0000,  0.0000,  0.0000,  0.0000,  0.0000,\n",
      "          0.0000,  0.0000,  0.0000,  0.0000,  0.0000,  0.0000,  0.0000,  0.0000,\n",
      "          0.0000,  0.0000,  0.0000,  0.0000,  0.0000,  0.0000,  0.0000,  0.0000,\n",
      "          0.0000,  1.0000,  1.0000,  0.0000,  0.0000,  0.0000,  0.0000,  0.0000,\n",
      "          0.0000,  0.0000,  0.0000],\n",
      "        [ 1.0000,  0.0000, -0.1921,  0.7400,  2.2282,  0.0000,  0.0000,  1.0000,\n",
      "          0.0000,  0.0000,  0.0000,  0.0000,  0.0000,  0.0000,  0.0000,  0.0000,\n",
      "          0.0000,  0.0000,  1.0000,  0.0000,  0.0000,  0.0000,  0.0000,  0.0000,\n",
      "          0.0000,  0.0000,  0.0000,  0.0000,  0.0000,  0.0000,  0.0000,  0.0000,\n",
      "          0.0000,  0.0000,  0.0000,  0.0000,  0.0000,  0.0000,  0.0000,  0.0000,\n",
      "          0.0000,  0.0000,  0.0000,  1.0000,  0.0000,  0.0000,  0.0000,  0.0000,\n",
      "          0.0000,  1.0000,  0.0000]]) tensor([-0.3499, -0.5814, -0.8736])\n"
     ]
    }
   ],
   "source": [
    "for i, (data, labels) in enumerate(test_data):\n",
    "  print(data.shape, labels.shape)\n",
    "  print(data,labels)\n",
    "  break;"
   ]
  },
  {
   "cell_type": "markdown",
   "metadata": {
    "id": "HbnK1f9asrEb"
   },
   "source": [
    "### Definir la classe Net con la estructura de la red neuronal\n",
    "\n",
    "Basándose en el taller pasado, construya una red neuronal que tenga las siguientes características: \n",
    "- Una sola capa oculta. Usted decida el número de nodos. (Puede hacer entrenamientos pequeños, con una sola epoch por ejemplo, para hacer pruebas y decidir un buen número de nodos. Entre más nodos aprenderá más características de los datos, pero tardará más. Busque un buen equilibrio).\n",
    "- Una función de activación signoide para la capa oculta.\n",
    "\n",
    "\n",
    "\n",
    "\n",
    "\n"
   ]
  },
  {
   "cell_type": "code",
   "execution_count": 78,
   "metadata": {
    "id": "u3Bru3KesqG_"
   },
   "outputs": [],
   "source": [
    "# TO_DO 4 Escribir el código para la arquitectura de la red neuonal.\n",
    "class Net(nn.Module):\n",
    "    def __init__(self):\n",
    "        super(Net, self).__init__()\n",
    "        self.fc1 = nn.Linear(51,200)\n",
    "        self.fc2 = nn.Linear(200,3)\n",
    "\n",
    "    def forward(self, x):\n",
    "        x = F.sigmoid(self.fc1(x))\n",
    "        x = self.fc2(x)\n",
    "        return x"
   ]
  },
  {
   "cell_type": "markdown",
   "metadata": {
    "id": "CzbRdjh-4r9I"
   },
   "source": [
    "Revisamos que estemos usando GPU y definimos el dispositivo "
   ]
  },
  {
   "cell_type": "code",
   "execution_count": 79,
   "metadata": {
    "id": "wndN09Ya4qtM"
   },
   "outputs": [
    {
     "name": "stdout",
     "output_type": "stream",
     "text": [
      "Is the GPU available? False\n"
     ]
    }
   ],
   "source": [
    "gpu_avail = torch.cuda.is_available()\n",
    "print(f\"Is the GPU available? {gpu_avail}\")"
   ]
  },
  {
   "cell_type": "code",
   "execution_count": 80,
   "metadata": {
    "id": "rtN8nDig4oQX"
   },
   "outputs": [
    {
     "name": "stdout",
     "output_type": "stream",
     "text": [
      "Device cpu\n"
     ]
    }
   ],
   "source": [
    "device = torch.device(\"cuda\") if torch.cuda.is_available() else torch.device(\"cpu\")\n",
    "print(\"Device\", device)"
   ]
  },
  {
   "cell_type": "markdown",
   "metadata": {
    "id": "F5KvbK0L5BLY"
   },
   "source": [
    "Definimos el modelo, el optimizadoy y la función de costo."
   ]
  },
  {
   "cell_type": "code",
   "execution_count": 81,
   "metadata": {
    "id": "JUvzZYcs47NS"
   },
   "outputs": [],
   "source": [
    "model=Net()\n",
    "\n",
    "#TO_DO 5 Definir el optimizador Stochastic gradient descent y la función MeanSquareError. Usar Learnig rate de 0.1\n",
    "optimizer= torch.optim.SGD(model.parameters(), lr=0.1)\n",
    "criterion= nn.MSELoss()"
   ]
  },
  {
   "cell_type": "markdown",
   "metadata": {
    "id": "s68IiHxyADx-"
   },
   "source": [
    "### Entrenando la red y guardando el mejor modelo\n",
    "\n",
    "A continuación definimos la función de entrenamiento."
   ]
  },
  {
   "cell_type": "code",
   "execution_count": 82,
   "metadata": {
    "id": "Y_Z3BWIs6DXv"
   },
   "outputs": [],
   "source": [
    "#pasamos el modelo al dispositivo GPU\n",
    "model.to(device)\n",
    "def train_model(model,optimizer,loss_module,train_loader,valid_loader,num_epochs):\n",
    "  \n",
    "  valid_loss_min =np.inf  #Vamos a encontrar el menor valor de error de validación. Por eso la inicializmaos como 'infinito'\n",
    "  \n",
    "  for i in range(num_epochs):\n",
    "    model.train()  #ponemos el modelo en modo entrenamiento. Es importante en otras arquitecturas como redes convolucionales.\n",
    "    train_loss = 0.0\n",
    "    v_loss = 0.0\n",
    "\n",
    "    # TODO 6 Completar el código a continuación\n",
    "    for data, target in train_loader:\n",
    "        # mover los tensores de atributos y etiquetas al dispositivo GPU\n",
    "        data = data.to(device)\n",
    "        target = target.to(device)\n",
    "\n",
    "        # Reiniciar los gradientes\n",
    "        optimizer.zero_grad()\n",
    "\n",
    "        # forward pass: calcular la salida para los datos de entrada..\n",
    "        preds = model(data)\n",
    "        preds = preds.squeeze(dim=1)\n",
    "\n",
    "        # calculate the batch loss\n",
    "        loss = loss_module(preds, target)\n",
    "        \n",
    "        # backpropagation: cálculo de gradientes\n",
    "        loss.backward()\n",
    "   \n",
    "        # actualizar los parámetros\n",
    "        optimizer.step()\n",
    "\n",
    "        # actualizar la cuenta de costos a lo largo de los lotes\n",
    "        train_loss += loss.item()*data.size(0)\n",
    "    # for data,labels in testloader:\n",
    "\n",
    "    train_loss = train_loss/len(train_loader.dataset) \n",
    "\n",
    "    model.eval() #Ponemos el modelo en modo evaluación.\n",
    "\n",
    "\n",
    "\n",
    "\n",
    "    #for param in model.parameters():\n",
    "    #  print(param.data)\n",
    "    # vamos a evaluar el modelo entrenado, calculando predicciones con el conjunto de validación\n",
    "    for data,target in valid_loader:\n",
    "      data=data.to(device)\n",
    "      target=target.to(device)\n",
    "      output=model(data)\n",
    "      valid_loss= criterion(output, target)\n",
    "      valid_loss += loss.item()*data.size(0)\n",
    "    valid_loss = valid_loss/len(valid_loader.dataset)\n",
    "    \n",
    "    #imprimir estadísticas de entrenamiento y validación\n",
    "    print('Epoch: {} \\tTraining Loss: {:.6f} \\tValidation Loss: {:.6f}'.format(\n",
    "        i, train_loss, valid_loss))\n",
    "    \n",
    "\n",
    "    #Guardamos el modelo con el menor error de validación.\n",
    "    if valid_loss <= valid_loss_min:\n",
    "        print('Validation loss decreased ({:.6f} --> {:.6f}).  Saving model ...'.format(\n",
    "        valid_loss_min,\n",
    "        valid_loss))\n",
    "        torch.save(model.state_dict(), 'model_bikeshare.pt')\n",
    "        valid_loss_min = valid_loss\n",
    "\n",
    "\n"
   ]
  },
  {
   "cell_type": "markdown",
   "metadata": {
    "id": "nXpGJHcO8y4_"
   },
   "source": [
    "Ahora entrene el modelo. Intente primero con una sola epoch para verificar que el codigo esté correcto. Luego de eso prube con más epochs. Con un buen rato de tiempo disponible podría intentar 100, 500, las que más quiera intentar de acuerdo a como vea su desempeño."
   ]
  },
  {
   "cell_type": "code",
   "execution_count": 85,
   "metadata": {
    "id": "nG7EhC099Rsr"
   },
   "outputs": [
    {
     "name": "stdout",
     "output_type": "stream",
     "text": [
      "Epoch: 0 \tTraining Loss: 0.037725 \tValidation Loss: 0.000565\n",
      "Validation loss decreased (inf --> 0.000565).  Saving model ...\n",
      "Epoch: 1 \tTraining Loss: 0.037636 \tValidation Loss: 0.000565\n",
      "Epoch: 2 \tTraining Loss: 0.037544 \tValidation Loss: 0.000564\n",
      "Validation loss decreased (0.000565 --> 0.000564).  Saving model ...\n",
      "Epoch: 3 \tTraining Loss: 0.037449 \tValidation Loss: 0.000563\n",
      "Validation loss decreased (0.000564 --> 0.000563).  Saving model ...\n"
     ]
    },
    {
     "ename": "KeyboardInterrupt",
     "evalue": "",
     "output_type": "error",
     "traceback": [
      "\u001b[1;31m---------------------------------------------------------------------------\u001b[0m",
      "\u001b[1;31mKeyboardInterrupt\u001b[0m                         Traceback (most recent call last)",
      "Input \u001b[1;32mIn [85]\u001b[0m, in \u001b[0;36m<cell line: 1>\u001b[1;34m()\u001b[0m\n\u001b[1;32m----> 1\u001b[0m \u001b[43mtrain_model\u001b[49m\u001b[43m(\u001b[49m\u001b[43mmodel\u001b[49m\u001b[43m,\u001b[49m\u001b[43m \u001b[49m\u001b[43moptimizer\u001b[49m\u001b[43m,\u001b[49m\u001b[43mcriterion\u001b[49m\u001b[43m,\u001b[49m\u001b[43mtrain_data\u001b[49m\u001b[43m,\u001b[49m\u001b[43mval_data\u001b[49m\u001b[43m,\u001b[49m\u001b[38;5;241;43m100\u001b[39;49m\u001b[43m)\u001b[49m\n",
      "Input \u001b[1;32mIn [82]\u001b[0m, in \u001b[0;36mtrain_model\u001b[1;34m(model, optimizer, loss_module, train_loader, valid_loader, num_epochs)\u001b[0m\n\u001b[0;32m     10\u001b[0m v_loss \u001b[38;5;241m=\u001b[39m \u001b[38;5;241m0.0\u001b[39m\n\u001b[0;32m     12\u001b[0m \u001b[38;5;66;03m# TODO 6 Completar el código a continuación\u001b[39;00m\n\u001b[1;32m---> 13\u001b[0m \u001b[38;5;28;01mfor\u001b[39;00m data, target \u001b[38;5;129;01min\u001b[39;00m train_loader:\n\u001b[0;32m     14\u001b[0m     \u001b[38;5;66;03m# mover los tensores de atributos y etiquetas al dispositivo GPU\u001b[39;00m\n\u001b[0;32m     15\u001b[0m     data \u001b[38;5;241m=\u001b[39m data\u001b[38;5;241m.\u001b[39mto(device)\n\u001b[0;32m     16\u001b[0m     target \u001b[38;5;241m=\u001b[39m target\u001b[38;5;241m.\u001b[39mto(device)\n",
      "File \u001b[1;32m~\\AppData\\Roaming\\Python\\Python39\\site-packages\\torch\\utils\\data\\dataloader.py:628\u001b[0m, in \u001b[0;36m_BaseDataLoaderIter.__next__\u001b[1;34m(self)\u001b[0m\n\u001b[0;32m    625\u001b[0m \u001b[38;5;28;01mif\u001b[39;00m \u001b[38;5;28mself\u001b[39m\u001b[38;5;241m.\u001b[39m_sampler_iter \u001b[38;5;129;01mis\u001b[39;00m \u001b[38;5;28;01mNone\u001b[39;00m:\n\u001b[0;32m    626\u001b[0m     \u001b[38;5;66;03m# TODO(https://github.com/pytorch/pytorch/issues/76750)\u001b[39;00m\n\u001b[0;32m    627\u001b[0m     \u001b[38;5;28mself\u001b[39m\u001b[38;5;241m.\u001b[39m_reset()  \u001b[38;5;66;03m# type: ignore[call-arg]\u001b[39;00m\n\u001b[1;32m--> 628\u001b[0m data \u001b[38;5;241m=\u001b[39m \u001b[38;5;28;43mself\u001b[39;49m\u001b[38;5;241;43m.\u001b[39;49m\u001b[43m_next_data\u001b[49m\u001b[43m(\u001b[49m\u001b[43m)\u001b[49m\n\u001b[0;32m    629\u001b[0m \u001b[38;5;28mself\u001b[39m\u001b[38;5;241m.\u001b[39m_num_yielded \u001b[38;5;241m+\u001b[39m\u001b[38;5;241m=\u001b[39m \u001b[38;5;241m1\u001b[39m\n\u001b[0;32m    630\u001b[0m \u001b[38;5;28;01mif\u001b[39;00m \u001b[38;5;28mself\u001b[39m\u001b[38;5;241m.\u001b[39m_dataset_kind \u001b[38;5;241m==\u001b[39m _DatasetKind\u001b[38;5;241m.\u001b[39mIterable \u001b[38;5;129;01mand\u001b[39;00m \\\n\u001b[0;32m    631\u001b[0m         \u001b[38;5;28mself\u001b[39m\u001b[38;5;241m.\u001b[39m_IterableDataset_len_called \u001b[38;5;129;01mis\u001b[39;00m \u001b[38;5;129;01mnot\u001b[39;00m \u001b[38;5;28;01mNone\u001b[39;00m \u001b[38;5;129;01mand\u001b[39;00m \\\n\u001b[0;32m    632\u001b[0m         \u001b[38;5;28mself\u001b[39m\u001b[38;5;241m.\u001b[39m_num_yielded \u001b[38;5;241m>\u001b[39m \u001b[38;5;28mself\u001b[39m\u001b[38;5;241m.\u001b[39m_IterableDataset_len_called:\n",
      "File \u001b[1;32m~\\AppData\\Roaming\\Python\\Python39\\site-packages\\torch\\utils\\data\\dataloader.py:671\u001b[0m, in \u001b[0;36m_SingleProcessDataLoaderIter._next_data\u001b[1;34m(self)\u001b[0m\n\u001b[0;32m    669\u001b[0m \u001b[38;5;28;01mdef\u001b[39;00m \u001b[38;5;21m_next_data\u001b[39m(\u001b[38;5;28mself\u001b[39m):\n\u001b[0;32m    670\u001b[0m     index \u001b[38;5;241m=\u001b[39m \u001b[38;5;28mself\u001b[39m\u001b[38;5;241m.\u001b[39m_next_index()  \u001b[38;5;66;03m# may raise StopIteration\u001b[39;00m\n\u001b[1;32m--> 671\u001b[0m     data \u001b[38;5;241m=\u001b[39m \u001b[38;5;28;43mself\u001b[39;49m\u001b[38;5;241;43m.\u001b[39;49m\u001b[43m_dataset_fetcher\u001b[49m\u001b[38;5;241;43m.\u001b[39;49m\u001b[43mfetch\u001b[49m\u001b[43m(\u001b[49m\u001b[43mindex\u001b[49m\u001b[43m)\u001b[49m  \u001b[38;5;66;03m# may raise StopIteration\u001b[39;00m\n\u001b[0;32m    672\u001b[0m     \u001b[38;5;28;01mif\u001b[39;00m \u001b[38;5;28mself\u001b[39m\u001b[38;5;241m.\u001b[39m_pin_memory:\n\u001b[0;32m    673\u001b[0m         data \u001b[38;5;241m=\u001b[39m _utils\u001b[38;5;241m.\u001b[39mpin_memory\u001b[38;5;241m.\u001b[39mpin_memory(data, \u001b[38;5;28mself\u001b[39m\u001b[38;5;241m.\u001b[39m_pin_memory_device)\n",
      "File \u001b[1;32m~\\AppData\\Roaming\\Python\\Python39\\site-packages\\torch\\utils\\data\\_utils\\fetch.py:61\u001b[0m, in \u001b[0;36m_MapDatasetFetcher.fetch\u001b[1;34m(self, possibly_batched_index)\u001b[0m\n\u001b[0;32m     59\u001b[0m \u001b[38;5;28;01melse\u001b[39;00m:\n\u001b[0;32m     60\u001b[0m     data \u001b[38;5;241m=\u001b[39m \u001b[38;5;28mself\u001b[39m\u001b[38;5;241m.\u001b[39mdataset[possibly_batched_index]\n\u001b[1;32m---> 61\u001b[0m \u001b[38;5;28;01mreturn\u001b[39;00m \u001b[38;5;28;43mself\u001b[39;49m\u001b[38;5;241;43m.\u001b[39;49m\u001b[43mcollate_fn\u001b[49m\u001b[43m(\u001b[49m\u001b[43mdata\u001b[49m\u001b[43m)\u001b[49m\n",
      "File \u001b[1;32m~\\AppData\\Roaming\\Python\\Python39\\site-packages\\torch\\utils\\data\\_utils\\collate.py:265\u001b[0m, in \u001b[0;36mdefault_collate\u001b[1;34m(batch)\u001b[0m\n\u001b[0;32m    204\u001b[0m \u001b[38;5;28;01mdef\u001b[39;00m \u001b[38;5;21mdefault_collate\u001b[39m(batch):\n\u001b[0;32m    205\u001b[0m     \u001b[38;5;124mr\u001b[39m\u001b[38;5;124;03m\"\"\"\u001b[39;00m\n\u001b[0;32m    206\u001b[0m \u001b[38;5;124;03m        Function that takes in a batch of data and puts the elements within the batch\u001b[39;00m\n\u001b[0;32m    207\u001b[0m \u001b[38;5;124;03m        into a tensor with an additional outer dimension - batch size. The exact output type can be\u001b[39;00m\n\u001b[1;32m   (...)\u001b[0m\n\u001b[0;32m    263\u001b[0m \u001b[38;5;124;03m            >>> default_collate(batch)  # Handle `CustomType` automatically\u001b[39;00m\n\u001b[0;32m    264\u001b[0m \u001b[38;5;124;03m    \"\"\"\u001b[39;00m\n\u001b[1;32m--> 265\u001b[0m     \u001b[38;5;28;01mreturn\u001b[39;00m \u001b[43mcollate\u001b[49m\u001b[43m(\u001b[49m\u001b[43mbatch\u001b[49m\u001b[43m,\u001b[49m\u001b[43m \u001b[49m\u001b[43mcollate_fn_map\u001b[49m\u001b[38;5;241;43m=\u001b[39;49m\u001b[43mdefault_collate_fn_map\u001b[49m\u001b[43m)\u001b[49m\n",
      "File \u001b[1;32m~\\AppData\\Roaming\\Python\\Python39\\site-packages\\torch\\utils\\data\\_utils\\collate.py:143\u001b[0m, in \u001b[0;36mcollate\u001b[1;34m(batch, collate_fn_map)\u001b[0m\n\u001b[0;32m    140\u001b[0m transposed \u001b[38;5;241m=\u001b[39m \u001b[38;5;28mlist\u001b[39m(\u001b[38;5;28mzip\u001b[39m(\u001b[38;5;241m*\u001b[39mbatch))  \u001b[38;5;66;03m# It may be accessed twice, so we use a list.\u001b[39;00m\n\u001b[0;32m    142\u001b[0m \u001b[38;5;28;01mif\u001b[39;00m \u001b[38;5;28misinstance\u001b[39m(elem, \u001b[38;5;28mtuple\u001b[39m):\n\u001b[1;32m--> 143\u001b[0m     \u001b[38;5;28;01mreturn\u001b[39;00m [collate(samples, collate_fn_map\u001b[38;5;241m=\u001b[39mcollate_fn_map) \u001b[38;5;28;01mfor\u001b[39;00m samples \u001b[38;5;129;01min\u001b[39;00m transposed]  \u001b[38;5;66;03m# Backwards compatibility.\u001b[39;00m\n\u001b[0;32m    144\u001b[0m \u001b[38;5;28;01melse\u001b[39;00m:\n\u001b[0;32m    145\u001b[0m     \u001b[38;5;28;01mtry\u001b[39;00m:\n",
      "File \u001b[1;32m~\\AppData\\Roaming\\Python\\Python39\\site-packages\\torch\\utils\\data\\_utils\\collate.py:143\u001b[0m, in \u001b[0;36m<listcomp>\u001b[1;34m(.0)\u001b[0m\n\u001b[0;32m    140\u001b[0m transposed \u001b[38;5;241m=\u001b[39m \u001b[38;5;28mlist\u001b[39m(\u001b[38;5;28mzip\u001b[39m(\u001b[38;5;241m*\u001b[39mbatch))  \u001b[38;5;66;03m# It may be accessed twice, so we use a list.\u001b[39;00m\n\u001b[0;32m    142\u001b[0m \u001b[38;5;28;01mif\u001b[39;00m \u001b[38;5;28misinstance\u001b[39m(elem, \u001b[38;5;28mtuple\u001b[39m):\n\u001b[1;32m--> 143\u001b[0m     \u001b[38;5;28;01mreturn\u001b[39;00m [\u001b[43mcollate\u001b[49m\u001b[43m(\u001b[49m\u001b[43msamples\u001b[49m\u001b[43m,\u001b[49m\u001b[43m \u001b[49m\u001b[43mcollate_fn_map\u001b[49m\u001b[38;5;241;43m=\u001b[39;49m\u001b[43mcollate_fn_map\u001b[49m\u001b[43m)\u001b[49m \u001b[38;5;28;01mfor\u001b[39;00m samples \u001b[38;5;129;01min\u001b[39;00m transposed]  \u001b[38;5;66;03m# Backwards compatibility.\u001b[39;00m\n\u001b[0;32m    144\u001b[0m \u001b[38;5;28;01melse\u001b[39;00m:\n\u001b[0;32m    145\u001b[0m     \u001b[38;5;28;01mtry\u001b[39;00m:\n",
      "File \u001b[1;32m~\\AppData\\Roaming\\Python\\Python39\\site-packages\\torch\\utils\\data\\_utils\\collate.py:120\u001b[0m, in \u001b[0;36mcollate\u001b[1;34m(batch, collate_fn_map)\u001b[0m\n\u001b[0;32m    118\u001b[0m \u001b[38;5;28;01mif\u001b[39;00m collate_fn_map \u001b[38;5;129;01mis\u001b[39;00m \u001b[38;5;129;01mnot\u001b[39;00m \u001b[38;5;28;01mNone\u001b[39;00m:\n\u001b[0;32m    119\u001b[0m     \u001b[38;5;28;01mif\u001b[39;00m elem_type \u001b[38;5;129;01min\u001b[39;00m collate_fn_map:\n\u001b[1;32m--> 120\u001b[0m         \u001b[38;5;28;01mreturn\u001b[39;00m \u001b[43mcollate_fn_map\u001b[49m\u001b[43m[\u001b[49m\u001b[43melem_type\u001b[49m\u001b[43m]\u001b[49m\u001b[43m(\u001b[49m\u001b[43mbatch\u001b[49m\u001b[43m,\u001b[49m\u001b[43m \u001b[49m\u001b[43mcollate_fn_map\u001b[49m\u001b[38;5;241;43m=\u001b[39;49m\u001b[43mcollate_fn_map\u001b[49m\u001b[43m)\u001b[49m\n\u001b[0;32m    122\u001b[0m     \u001b[38;5;28;01mfor\u001b[39;00m collate_type \u001b[38;5;129;01min\u001b[39;00m collate_fn_map:\n\u001b[0;32m    123\u001b[0m         \u001b[38;5;28;01mif\u001b[39;00m \u001b[38;5;28misinstance\u001b[39m(elem, collate_type):\n",
      "File \u001b[1;32m~\\AppData\\Roaming\\Python\\Python39\\site-packages\\torch\\utils\\data\\_utils\\collate.py:163\u001b[0m, in \u001b[0;36mcollate_tensor_fn\u001b[1;34m(batch, collate_fn_map)\u001b[0m\n\u001b[0;32m    161\u001b[0m     storage \u001b[38;5;241m=\u001b[39m elem\u001b[38;5;241m.\u001b[39mstorage()\u001b[38;5;241m.\u001b[39m_new_shared(numel, device\u001b[38;5;241m=\u001b[39melem\u001b[38;5;241m.\u001b[39mdevice)\n\u001b[0;32m    162\u001b[0m     out \u001b[38;5;241m=\u001b[39m elem\u001b[38;5;241m.\u001b[39mnew(storage)\u001b[38;5;241m.\u001b[39mresize_(\u001b[38;5;28mlen\u001b[39m(batch), \u001b[38;5;241m*\u001b[39m\u001b[38;5;28mlist\u001b[39m(elem\u001b[38;5;241m.\u001b[39msize()))\n\u001b[1;32m--> 163\u001b[0m \u001b[38;5;28;01mreturn\u001b[39;00m \u001b[43mtorch\u001b[49m\u001b[38;5;241;43m.\u001b[39;49m\u001b[43mstack\u001b[49m\u001b[43m(\u001b[49m\u001b[43mbatch\u001b[49m\u001b[43m,\u001b[49m\u001b[43m \u001b[49m\u001b[38;5;241;43m0\u001b[39;49m\u001b[43m,\u001b[49m\u001b[43m \u001b[49m\u001b[43mout\u001b[49m\u001b[38;5;241;43m=\u001b[39;49m\u001b[43mout\u001b[49m\u001b[43m)\u001b[49m\n",
      "\u001b[1;31mKeyboardInterrupt\u001b[0m: "
     ]
    }
   ],
   "source": [
    "train_model(model, optimizer,criterion,train_data,val_data,100)  #completar"
   ]
  },
  {
   "cell_type": "markdown",
   "metadata": {
    "id": "cZeVo9TJ9dTk"
   },
   "source": [
    "Cargamos el mejor modelo obtenido del entrenamiento. \n",
    "*Observación:* En el entrenamiento se guarda un modelo en un archivo .pt usted puede descargar el archivo y guardarlo localmente. De esta forma, si quiere usar el modelo nuevamente sin volver a realizar entrenamiento, sólo carguelo como se indica en la siguiente celda."
   ]
  },
  {
   "cell_type": "code",
   "execution_count": 86,
   "metadata": {
    "id": "V35GtM169Wdd"
   },
   "outputs": [
    {
     "data": {
      "text/plain": [
       "<All keys matched successfully>"
      ]
     },
     "execution_count": 86,
     "metadata": {},
     "output_type": "execute_result"
    }
   ],
   "source": [
    "model.load_state_dict(torch.load('model_bikeshare.pt'))"
   ]
  },
  {
   "cell_type": "markdown",
   "metadata": {
    "id": "6yNPImH-9l3k"
   },
   "source": [
    "Visualizamos los parámetros del modelo obtenido anteriormente"
   ]
  },
  {
   "cell_type": "code",
   "execution_count": 87,
   "metadata": {
    "id": "G5f-4tqI9ldc"
   },
   "outputs": [
    {
     "name": "stdout",
     "output_type": "stream",
     "text": [
      "fc1.weight tensor([[-0.1154, -0.1259,  2.7020,  ..., -0.4915, -0.6680, -0.0740],\n",
      "        [-0.1501,  0.1681,  2.5829,  ..., -0.3423, -0.7352,  0.0490],\n",
      "        [-0.0657, -0.1171,  1.4371,  ..., -0.5416, -0.3055, -0.0384],\n",
      "        ...,\n",
      "        [-0.1117,  0.0217,  2.3891,  ..., -0.5425, -0.6280,  0.1341],\n",
      "        [-0.0891,  0.0153,  1.8585,  ..., -0.6953, -0.5413, -0.1052],\n",
      "        [-0.2287, -0.2220,  1.9687,  ..., -0.6879, -0.7718,  0.1228]])\n",
      "fc1.bias tensor([ -7.9998,  -8.0217,  -6.3652,  -6.4303,  -7.9243,  -5.5595,  -7.5621,\n",
      "         -7.7345,  -6.0606,  -7.4078,  -6.2375,  -5.4414,  -6.3995,  -5.3898,\n",
      "         -6.7966,  -5.9472,  -7.3171,  -6.2479,  -6.3533,  -4.6995,  -6.5327,\n",
      "         -5.9125,  -7.0961,  -5.7062,  -8.3966,  -6.0607,  -5.8461,  -4.0877,\n",
      "         -6.0717,  -6.9873,  -6.3934,  -6.6084,  -5.6650,  -5.0505,  -7.0982,\n",
      "         -8.2689,  -6.2440,  -7.9737,  -7.1165,  -6.1506,  -7.8364,  -6.1951,\n",
      "        -15.2983,  -6.7162,  -5.5368,  -7.1683,  -6.3375,  -7.4883,  -4.7512,\n",
      "         -5.2165,  -8.9921,  -6.9911,  -5.5171,  -8.2472,  -6.5718,  -7.7497,\n",
      "         -7.9660,  -6.8144,  -5.6664,   7.3190,  -5.7248,  -6.5377,  -8.5309,\n",
      "         -5.5418,  -7.1244,  -7.1799,  -6.1490,  -7.0735,  -7.8836,  -9.2550,\n",
      "         -7.3737,  -7.1886,  -7.0358,  -7.6886,  -7.9539,  -7.5465,  -7.4687,\n",
      "         -6.8417,  -5.7385,  -7.3107,  -6.3144,  -6.8336,  -6.5356,  -6.2207,\n",
      "         -6.6348,  -8.0323,  -6.5476,  -7.8890,  -8.5747,  -9.7012,  -5.6270,\n",
      "         -6.2085,  -7.0921,  -8.8844,  -7.6293,  -5.4231,  -5.5740,  -6.3320,\n",
      "         -6.5433,  -7.1813,  -5.4381,  -7.3828,  -4.4303,  -7.0478,  -7.2128,\n",
      "         -7.5525,  -6.1470,  -6.3411,  -6.3792,  -6.2224,  -5.0298,  -7.1009,\n",
      "         -5.4938,  -4.4011,  -8.3968,  -7.8050,  -7.4091,  -7.0339,  -7.4390,\n",
      "         -7.0243,  -7.0283,  -7.6736,  -4.8772,  -7.5006,  -6.0537,  -5.7222,\n",
      "         -7.8586,  -6.8409,  -7.0464,  -3.0752,  -6.6534,  -8.3520,  -6.3236,\n",
      "         -7.5352,  -7.2720,  -2.0802,  -6.9944,  -7.7821,  -5.4574,  -7.5993,\n",
      "         -8.3327,  -7.5566,  -4.8093,  -8.1198,  -7.6073,  -8.0471,  -6.4167,\n",
      "         -5.0020,  -7.9279,  -7.8200,  -6.5686,  -6.4835,  -6.9332,  -6.8606,\n",
      "         -6.0017,  -6.2516,  -5.8957,  -6.5548,  -6.9038,  -7.0637,  -6.6291,\n",
      "         -4.7615,  -6.7832,  -5.4854,  -5.9354,  -7.1753,  -7.2998,  -5.4655,\n",
      "         -5.0635,  -7.1980,  -5.8072,  -6.5578,  -5.8393,  -4.4015,  -6.1318,\n",
      "         -6.3072,  -7.7916,  -5.5981,  -6.9317,  -6.9868,  -6.2607,  -7.5378,\n",
      "         -8.9507,  -7.1265,  -6.3894,  -7.4078,  -7.0758,  -5.2802,  -5.9137,\n",
      "         -7.3669,  -6.6982,  -5.9417,  -6.3151,  -6.3288,  -6.7233,  -2.7621,\n",
      "         -7.2281,  -6.3795,  -7.1849,  -6.6862])\n",
      "fc2.weight tensor([[ 1.4026e-01, -2.0977e-01,  2.6006e-01,  2.3722e-01,  2.2274e-01,\n",
      "         -5.3742e-02, -1.1295e-01,  4.6060e-01,  4.8524e-01,  9.7324e-02,\n",
      "          1.6789e-01,  5.1253e-02,  7.6877e-02, -2.0739e-01,  1.3098e-01,\n",
      "          3.1135e-01,  6.6408e-01, -1.7174e-01,  3.8240e-01,  2.3244e-02,\n",
      "          4.6127e-01,  5.5860e-01, -1.2176e-02, -5.4642e-01, -1.2828e+00,\n",
      "         -1.7524e-01, -6.7941e-01,  8.1907e-01, -9.6309e-02, -1.3387e-01,\n",
      "         -8.1355e-02,  1.6478e-01, -8.1592e-02,  2.6575e-02,  4.1621e-01,\n",
      "          6.7782e-01, -1.7235e-03,  3.8369e-01, -3.2499e-02,  3.3362e-01,\n",
      "          1.6517e-02, -7.2155e-02,  1.8497e+00,  3.0149e-01,  6.4455e-02,\n",
      "          4.5720e-01, -4.7067e-01,  5.3020e-01, -3.0367e-01, -1.5997e-01,\n",
      "         -9.9485e-01,  4.8969e-01, -1.2842e-01,  1.2763e+00, -2.0378e-01,\n",
      "         -8.0494e-02, -9.3755e-02, -1.8721e-01,  6.7159e-02, -1.0708e+00,\n",
      "          3.9772e-01,  9.5442e-02,  6.2464e-01,  4.9734e-01, -7.6785e-01,\n",
      "         -6.1071e-01,  9.3174e-02,  2.9832e-01,  5.0868e-01,  1.4979e+00,\n",
      "         -8.5252e-02,  6.5037e-01, -1.0347e-02,  1.1708e-01,  5.5492e-01,\n",
      "         -3.9895e-02,  2.4145e-01,  2.5099e-02,  7.1818e-01,  1.3480e-01,\n",
      "          5.0357e-01, -1.5627e-01, -5.6691e-02,  7.2034e-01,  7.2620e-01,\n",
      "          1.6161e-01, -1.2186e-02, -6.7921e-02,  4.8028e-02, -1.4893e+00,\n",
      "         -2.5532e-02,  5.6709e-01, -3.0058e-01, -7.2857e-01,  9.2743e-01,\n",
      "          1.6597e-01,  3.2712e-01, -2.1811e-01, -8.9386e-01, -5.0085e-01,\n",
      "         -9.4381e-03,  1.0472e-01,  2.1102e+00, -4.9650e-02, -3.7223e-01,\n",
      "          1.5343e-01, -2.6411e-01,  2.4954e+00, -3.1795e-01, -1.3100e-01,\n",
      "         -4.7741e-01,  4.1884e-01,  9.7661e-02,  1.3793e-01,  2.7953e-01,\n",
      "         -9.6253e-01, -7.8742e-02,  1.0353e+00,  3.3057e-02, -2.5737e-01,\n",
      "         -9.9400e-02,  1.3646e-01, -2.8045e-01,  4.0551e-01,  1.1753e+00,\n",
      "          5.8027e-01, -2.7235e-01,  9.2578e-01, -3.9435e-02, -8.2669e-01,\n",
      "          1.9363e-01, -7.1916e-01,  2.9865e-02, -3.2251e-02,  3.5673e-01,\n",
      "         -7.4198e-01,  4.6792e-01,  5.4618e-01, -1.3692e-01,  5.8941e-01,\n",
      "          3.9711e-01, -1.7621e-01, -3.2090e-02, -4.1090e-02, -2.6142e-01,\n",
      "         -2.8450e-01,  2.1855e-01,  2.1266e-01, -6.9999e-01,  2.9032e-01,\n",
      "         -1.2811e-01,  7.4634e-01,  2.0149e-01,  3.9259e-01,  4.5540e-01,\n",
      "          8.0984e-01, -1.7225e-01, -6.3234e-01, -2.2347e-01,  3.8277e-01,\n",
      "          2.1754e-01, -1.9920e-02,  2.9402e-02,  6.7139e-01,  1.0944e+00,\n",
      "          2.7270e-01,  3.0993e-01, -6.6881e-01, -2.5714e-02, -1.3884e-01,\n",
      "         -1.0517e-01,  1.3871e-01,  1.0521e+00,  1.1269e+00, -1.8219e-01,\n",
      "         -9.0962e-02, -2.4552e-01, -3.7010e-01, -1.0343e+00,  1.8602e-01,\n",
      "          3.9876e-02, -4.1187e-03, -8.3771e-01,  6.5343e-01, -2.6429e-01,\n",
      "         -3.4903e-01, -5.2943e-01, -1.6445e-01,  7.4853e-01, -6.2383e-02,\n",
      "          4.3187e-01, -4.0742e-01,  7.9041e-02, -9.3697e-02,  2.7986e-01,\n",
      "         -1.4112e+00, -3.2746e-02,  1.8929e-01,  5.7670e-02,  9.5955e-01],\n",
      "        [ 6.6314e-02, -1.2059e-01,  2.1983e-01,  3.0664e-01,  2.2746e-01,\n",
      "         -1.4202e-01, -1.1649e-01,  4.4146e-01,  4.4255e-01,  2.0971e-01,\n",
      "          1.1026e-01,  4.8302e-02,  1.2842e-01, -2.3328e-01,  8.7603e-02,\n",
      "          3.4516e-01,  7.1675e-01, -7.3596e-02,  4.2392e-01,  3.1884e-02,\n",
      "          4.2499e-01,  4.8827e-01, -3.5271e-02, -5.4980e-01, -1.2871e+00,\n",
      "         -2.1659e-01, -7.1181e-01,  8.2041e-01, -1.4505e-01, -1.4302e-01,\n",
      "         -8.2804e-02,  2.5960e-01,  2.3616e-02,  3.2614e-02,  3.9057e-01,\n",
      "          7.0374e-01,  7.8404e-02,  3.9081e-01, -1.0581e-01,  3.3886e-01,\n",
      "          6.5314e-03, -2.6251e-02,  1.8496e+00,  4.7499e-01,  5.8587e-02,\n",
      "          4.5508e-01, -4.6601e-01,  5.1442e-01, -2.7076e-01, -1.7796e-01,\n",
      "         -9.9558e-01,  4.2024e-01, -8.6778e-02,  1.2761e+00, -2.9456e-01,\n",
      "          2.7473e-03, -2.3685e-02, -1.8314e-01,  2.5539e-02, -1.0707e+00,\n",
      "          4.3480e-01,  1.0519e-01,  6.3769e-01,  5.5361e-01, -7.7317e-01,\n",
      "         -5.8095e-01,  1.4875e-01,  2.2663e-01,  6.4187e-01,  1.4975e+00,\n",
      "         -8.5481e-02,  6.8390e-01,  1.8055e-03,  4.3859e-02,  5.1956e-01,\n",
      "         -1.5644e-02,  2.7493e-01, -2.0046e-03,  7.2004e-01,  3.9456e-02,\n",
      "          4.6951e-01, -2.0664e-01, -1.0464e-01,  7.7646e-01,  7.2921e-01,\n",
      "          1.7275e-01, -6.3594e-03, -1.0919e-01,  1.1757e-01, -1.4893e+00,\n",
      "         -5.0843e-02,  5.8401e-01, -2.4767e-01, -7.7730e-01,  8.3863e-01,\n",
      "          2.1055e-01,  3.8767e-01, -1.4801e-01, -8.9517e-01, -5.0080e-01,\n",
      "          6.3499e-02,  8.1207e-02,  2.1099e+00, -7.8412e-02, -3.7275e-01,\n",
      "          8.9686e-02, -1.7522e-01,  2.4959e+00, -2.9201e-01, -1.7138e-01,\n",
      "         -4.4371e-01,  3.4550e-01,  7.2911e-02,  1.0530e-01,  3.8304e-01,\n",
      "         -9.6384e-01, -1.2308e-01,  1.0382e+00,  7.4389e-02, -1.7792e-01,\n",
      "         -1.6095e-01,  1.3690e-01, -2.8415e-01,  4.8670e-01,  1.1743e+00,\n",
      "          6.5416e-01, -2.5573e-01,  1.0363e+00, -7.3916e-02, -8.2565e-01,\n",
      "          2.4817e-01, -7.2909e-01, -7.0846e-02,  3.2233e-03,  3.7701e-01,\n",
      "         -7.4233e-01,  3.3169e-01,  5.4175e-01, -1.8271e-01,  5.8659e-01,\n",
      "          3.4209e-01, -2.1986e-01, -3.4450e-02, -6.7887e-02, -3.3265e-01,\n",
      "         -2.9821e-01,  1.3646e-01,  1.6444e-01, -7.0049e-01,  2.6988e-01,\n",
      "         -1.4383e-01,  6.9090e-01,  2.6759e-01,  3.9613e-01,  3.9139e-01,\n",
      "          8.7185e-01, -1.2113e-01, -6.2895e-01, -2.2828e-01,  4.4002e-01,\n",
      "          1.9224e-01, -7.4283e-02,  1.1993e-02,  6.5058e-01,  1.0731e+00,\n",
      "          2.7688e-01,  3.0202e-01, -6.6933e-01, -5.2612e-02, -1.7691e-01,\n",
      "         -3.4145e-02,  1.6179e-01,  1.0513e+00,  1.1262e+00, -1.0282e-01,\n",
      "         -1.0085e-01, -2.8003e-01, -4.3656e-01, -1.0309e+00,  1.8560e-01,\n",
      "          7.2461e-02, -6.6964e-02, -8.3086e-01,  6.5276e-01, -2.5350e-01,\n",
      "         -2.6980e-01, -5.1642e-01, -1.3455e-01,  7.0597e-01, -5.7284e-02,\n",
      "          4.4536e-01, -3.9085e-01,  5.2284e-02, -5.3672e-02,  3.0943e-01,\n",
      "         -1.4103e+00, -3.9857e-02,  1.4593e-01,  9.4994e-02,  9.6224e-01],\n",
      "        [ 9.9443e-02, -2.3002e-01,  3.1895e-01,  2.8455e-01,  2.1229e-01,\n",
      "         -6.1360e-02, -6.0680e-02,  4.5407e-01,  6.0063e-01,  1.4648e-01,\n",
      "          1.0077e-01, -3.7022e-02,  9.8687e-02, -1.5711e-01,  3.2769e-02,\n",
      "          3.0892e-01,  8.5344e-01, -9.2818e-02,  4.2438e-01, -8.3292e-03,\n",
      "          3.6004e-01,  6.4621e-01, -3.6354e-02, -5.2288e-01, -1.2825e+00,\n",
      "         -1.4658e-01, -6.9936e-01,  8.1954e-01, -1.5855e-01, -2.2506e-01,\n",
      "         -1.2582e-01,  2.0962e-01, -2.7764e-02,  7.9542e-02,  4.2331e-01,\n",
      "          6.9803e-01, -1.7016e-02,  4.3046e-01, -1.1099e-01,  4.0709e-01,\n",
      "         -3.7191e-03, -1.0932e-01,  1.8496e+00,  5.1444e-01, -7.7712e-03,\n",
      "          4.6632e-01, -4.7431e-01,  5.4589e-01, -2.6963e-01, -1.3500e-01,\n",
      "         -1.0007e+00,  5.2004e-01, -1.6956e-01,  1.2767e+00, -2.8857e-01,\n",
      "         -2.0335e-03, -4.2160e-02, -1.3912e-01,  7.5665e-03, -1.0707e+00,\n",
      "          4.1189e-01,  1.0421e-01,  6.4092e-01,  6.4783e-01, -7.7404e-01,\n",
      "         -5.8384e-01,  1.2236e-01,  1.8126e-01,  7.0816e-01,  1.4988e+00,\n",
      "         -1.0978e-01,  7.1278e-01,  5.3957e-02,  9.0736e-02,  5.5753e-01,\n",
      "          7.4801e-02,  2.9656e-01, -5.9731e-02,  7.2014e-01,  9.2922e-02,\n",
      "          4.4865e-01, -1.6589e-01, -1.1293e-01,  8.4957e-01,  8.0758e-01,\n",
      "          1.3117e-01, -5.9546e-02, -1.0054e-01,  2.8208e-02, -1.4887e+00,\n",
      "         -2.0481e-02,  6.4366e-01, -2.4855e-01, -7.6874e-01,  9.3117e-01,\n",
      "          1.1345e-01,  4.2126e-01, -1.5707e-01, -8.9267e-01, -5.0103e-01,\n",
      "         -7.9160e-03,  8.7011e-02,  2.1100e+00, -5.7664e-03, -3.6999e-01,\n",
      "          8.5350e-02, -2.5570e-01,  2.4967e+00, -3.3940e-01, -1.7669e-01,\n",
      "         -4.6691e-01,  3.1687e-01,  1.3034e-01,  2.7727e-02,  4.4217e-01,\n",
      "         -9.6422e-01, -1.2922e-01,  1.0377e+00,  9.1973e-02, -2.0183e-01,\n",
      "         -1.1456e-01,  1.2485e-01, -2.7816e-01,  4.8666e-01,  1.1736e+00,\n",
      "          6.3169e-01, -2.3320e-01,  1.1782e+00, -9.3982e-02, -8.2633e-01,\n",
      "          2.2261e-01, -7.3327e-01, -1.2222e-01, -1.7965e-02,  4.0538e-01,\n",
      "         -7.4224e-01,  3.8207e-01,  5.4495e-01, -2.3602e-01,  5.8828e-01,\n",
      "          3.3992e-01, -1.7092e-01,  2.9627e-02, -6.8866e-02, -2.9202e-01,\n",
      "         -2.8713e-01,  2.2464e-01,  1.5805e-01, -7.0335e-01,  3.0828e-01,\n",
      "         -2.0419e-01,  7.9126e-01,  2.5685e-01,  3.9619e-01,  4.1119e-01,\n",
      "          9.3874e-01, -1.4008e-01, -6.2834e-01, -1.2264e-01,  4.3995e-01,\n",
      "          2.0365e-01, -7.2144e-02,  4.8697e-02,  6.6961e-01,  1.2732e+00,\n",
      "          2.3633e-01,  2.4595e-01, -6.6963e-01, -8.0874e-02, -1.2309e-01,\n",
      "         -1.0372e-01,  2.9259e-02,  1.0509e+00,  1.1285e+00, -1.2757e-01,\n",
      "         -1.1064e-01, -2.9642e-01, -4.1884e-01, -1.0331e+00,  1.8752e-01,\n",
      "          4.1333e-02, -2.7466e-02, -8.3729e-01,  6.5601e-01, -2.3686e-01,\n",
      "         -2.6979e-01, -5.1243e-01, -6.6822e-02,  8.1394e-01, -4.5742e-02,\n",
      "          4.7171e-01, -4.0134e-01, -2.4218e-02, -1.0947e-01,  2.9455e-01,\n",
      "         -1.4113e+00, -7.0540e-02,  2.4269e-01,  9.1340e-02,  1.1845e+00]])\n",
      "fc2.bias tensor([0.7420, 0.7421, 0.7415])\n"
     ]
    }
   ],
   "source": [
    "for name, param in model.named_parameters():\n",
    "    if param.requires_grad:\n",
    "        print (name, param.data)"
   ]
  },
  {
   "cell_type": "markdown",
   "metadata": {
    "id": "j4QIP9as9u7u"
   },
   "source": [
    "### Evaluación del modelo\n",
    "Ahora la prueba final con el test set. "
   ]
  },
  {
   "cell_type": "code",
   "execution_count": 88,
   "metadata": {
    "id": "kdELpZLp9uHp"
   },
   "outputs": [
    {
     "name": "stdout",
     "output_type": "stream",
     "text": [
      "Test Loss: 0.751594\n",
      "\n"
     ]
    }
   ],
   "source": [
    "test_loss=0.0\n",
    "\n",
    "criterion= nn.MSELoss()\n",
    "for data, target in test_data:\n",
    "  data=data.to(device)\n",
    "  target=target.to(device)\n",
    "  output=model(data)\n",
    "  loss= criterion(output,target)\n",
    "  test_loss += loss.item()*data.size(0)\n",
    "test_loss = test_loss/len(test_data.dataset)\n",
    "print('Test Loss: {:.6f}\\n'.format(test_loss))\n"
   ]
  },
  {
   "cell_type": "markdown",
   "metadata": {
    "id": "7fppYxUZAWq_"
   },
   "source": [
    "### Usando el modelo en contexto"
   ]
  },
  {
   "cell_type": "markdown",
   "metadata": {
    "id": "zmSC3s4J96RC"
   },
   "source": [
    "TO_DO 7: Finalmente, utilice el modelo encontrado para predecir el número de bicicletas rentadas en tres momentos (fecha, hora y demás atributos) diferentes que usted elija (pueden ser tomados del test set o con unos atributos nuevos que usted elija). \n",
    "Comente por favor lo siguiente: \n",
    "- Escribr si son atributos que usted seleccionó del dataset o unos nuevos.\n",
    "- Describa cómo obtuvo el valor de la predicción y qué valor dió (tenga en cuenta que la salida está normalizada, pero queremos la cantidad de bicicletas).\n",
    "- Si son atributos seleccionados del test set, compare su resultado con la etiqueta original. ¿Qué tal se desempeñó en esos tres casos?"
   ]
  },
  {
   "cell_type": "code",
   "execution_count": 92,
   "metadata": {
    "id": "vYyGLkXw944m"
   },
   "outputs": [
    {
     "data": {
      "text/html": [
       "<div>\n",
       "<style scoped>\n",
       "    .dataframe tbody tr th:only-of-type {\n",
       "        vertical-align: middle;\n",
       "    }\n",
       "\n",
       "    .dataframe tbody tr th {\n",
       "        vertical-align: top;\n",
       "    }\n",
       "\n",
       "    .dataframe thead th {\n",
       "        text-align: right;\n",
       "    }\n",
       "</style>\n",
       "<table border=\"1\" class=\"dataframe\">\n",
       "  <thead>\n",
       "    <tr style=\"text-align: right;\">\n",
       "      <th></th>\n",
       "      <th>yr</th>\n",
       "      <th>holiday</th>\n",
       "      <th>temp</th>\n",
       "      <th>hum</th>\n",
       "      <th>windspeed</th>\n",
       "      <th>cnt</th>\n",
       "      <th>season_2</th>\n",
       "      <th>season_3</th>\n",
       "      <th>season_4</th>\n",
       "      <th>mnth_2</th>\n",
       "      <th>...</th>\n",
       "      <th>hr_23</th>\n",
       "      <th>weekday_1</th>\n",
       "      <th>weekday_2</th>\n",
       "      <th>weekday_3</th>\n",
       "      <th>weekday_4</th>\n",
       "      <th>weekday_5</th>\n",
       "      <th>weekday_6</th>\n",
       "      <th>weathersit_2</th>\n",
       "      <th>weathersit_3</th>\n",
       "      <th>weathersit_4</th>\n",
       "    </tr>\n",
       "  </thead>\n",
       "  <tbody>\n",
       "    <tr>\n",
       "      <th>11969</th>\n",
       "      <td>1</td>\n",
       "      <td>0</td>\n",
       "      <td>0.327244</td>\n",
       "      <td>-0.555792</td>\n",
       "      <td>1.130474</td>\n",
       "      <td>0.339256</td>\n",
       "      <td>1</td>\n",
       "      <td>0</td>\n",
       "      <td>0</td>\n",
       "      <td>0</td>\n",
       "      <td>...</td>\n",
       "      <td>0</td>\n",
       "      <td>0</td>\n",
       "      <td>0</td>\n",
       "      <td>0</td>\n",
       "      <td>0</td>\n",
       "      <td>1</td>\n",
       "      <td>0</td>\n",
       "      <td>0</td>\n",
       "      <td>0</td>\n",
       "      <td>0</td>\n",
       "    </tr>\n",
       "    <tr>\n",
       "      <th>13731</th>\n",
       "      <td>1</td>\n",
       "      <td>0</td>\n",
       "      <td>1.054305</td>\n",
       "      <td>0.843681</td>\n",
       "      <td>-0.456086</td>\n",
       "      <td>3.145402</td>\n",
       "      <td>0</td>\n",
       "      <td>1</td>\n",
       "      <td>0</td>\n",
       "      <td>0</td>\n",
       "      <td>...</td>\n",
       "      <td>0</td>\n",
       "      <td>0</td>\n",
       "      <td>1</td>\n",
       "      <td>0</td>\n",
       "      <td>0</td>\n",
       "      <td>0</td>\n",
       "      <td>0</td>\n",
       "      <td>0</td>\n",
       "      <td>0</td>\n",
       "      <td>0</td>\n",
       "    </tr>\n",
       "    <tr>\n",
       "      <th>13416</th>\n",
       "      <td>1</td>\n",
       "      <td>0</td>\n",
       "      <td>1.158171</td>\n",
       "      <td>0.377190</td>\n",
       "      <td>-0.211685</td>\n",
       "      <td>-0.790920</td>\n",
       "      <td>0</td>\n",
       "      <td>1</td>\n",
       "      <td>0</td>\n",
       "      <td>0</td>\n",
       "      <td>...</td>\n",
       "      <td>0</td>\n",
       "      <td>0</td>\n",
       "      <td>0</td>\n",
       "      <td>1</td>\n",
       "      <td>0</td>\n",
       "      <td>0</td>\n",
       "      <td>0</td>\n",
       "      <td>0</td>\n",
       "      <td>0</td>\n",
       "      <td>0</td>\n",
       "    </tr>\n",
       "  </tbody>\n",
       "</table>\n",
       "<p>3 rows × 52 columns</p>\n",
       "</div>"
      ],
      "text/plain": [
       "       yr  holiday      temp       hum  windspeed       cnt  season_2  \\\n",
       "11969   1        0  0.327244 -0.555792   1.130474  0.339256         1   \n",
       "13731   1        0  1.054305  0.843681  -0.456086  3.145402         0   \n",
       "13416   1        0  1.158171  0.377190  -0.211685 -0.790920         0   \n",
       "\n",
       "       season_3  season_4  mnth_2  ...  hr_23  weekday_1  weekday_2  \\\n",
       "11969         0         0       0  ...      0          0          0   \n",
       "13731         1         0       0  ...      0          0          1   \n",
       "13416         1         0       0  ...      0          0          0   \n",
       "\n",
       "       weekday_3  weekday_4  weekday_5  weekday_6  weathersit_2  weathersit_3  \\\n",
       "11969          0          0          1          0             0             0   \n",
       "13731          0          0          0          0             0             0   \n",
       "13416          1          0          0          0             0             0   \n",
       "\n",
       "       weathersit_4  \n",
       "11969             0  \n",
       "13731             0  \n",
       "13416             0  \n",
       "\n",
       "[3 rows x 52 columns]"
      ]
     },
     "execution_count": 92,
     "metadata": {},
     "output_type": "execute_result"
    }
   ],
   "source": [
    "sample = df.sample(3)\n",
    "sample"
   ]
  },
  {
   "cell_type": "code",
   "execution_count": 95,
   "metadata": {},
   "outputs": [
    {
     "name": "stdout",
     "output_type": "stream",
     "text": [
      "tensor([[-0.6103, -0.6113, -0.6134]], grad_fn=<AddmmBackward0>)\n",
      "11969    0.339256\n",
      "13731    3.145402\n",
      "13416   -0.790920\n",
      "Name: cnt, dtype: float64\n"
     ]
    },
    {
     "name": "stderr",
     "output_type": "stream",
     "text": [
      "C:\\Users\\prestamour\\AppData\\Roaming\\Python\\Python39\\site-packages\\torch\\nn\\functional.py:1967: UserWarning: nn.functional.sigmoid is deprecated. Use torch.sigmoid instead.\n",
      "  warnings.warn(\"nn.functional.sigmoid is deprecated. Use torch.sigmoid instead.\")\n"
     ]
    }
   ],
   "source": [
    "sample_sec=MyDataset(sample,'cnt')\n",
    "\n",
    "sample_data=DataLoader(\n",
    "    sample_sec,\n",
    "    batch_size=1,\n",
    "    shuffle=False,\n",
    "    #num_workers=0,\n",
    "    #collate_fn=None,\n",
    "    #pin_memory=False,\n",
    " )\n",
    "\n",
    "criterion= nn.MSELoss()\n",
    "for data, target in sample_data:\n",
    "  data=data.to(device)\n",
    "  target=target.to(device)\n",
    "  output=model(data)\n",
    "\n",
    "print(output)\n",
    "print(sample['cnt'])"
   ]
  }
 ],
 "metadata": {
  "colab": {
   "provenance": []
  },
  "kernelspec": {
   "display_name": "Python 3 (ipykernel)",
   "language": "python",
   "name": "python3"
  },
  "language_info": {
   "codemirror_mode": {
    "name": "ipython",
    "version": 3
   },
   "file_extension": ".py",
   "mimetype": "text/x-python",
   "name": "python",
   "nbconvert_exporter": "python",
   "pygments_lexer": "ipython3",
   "version": "3.9.12"
  }
 },
 "nbformat": 4,
 "nbformat_minor": 1
}
